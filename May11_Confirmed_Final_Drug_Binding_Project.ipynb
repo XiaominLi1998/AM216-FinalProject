{
  "nbformat": 4,
  "nbformat_minor": 0,
  "metadata": {
    "accelerator": "GPU",
    "colab": {
      "name": "May11_2_Confirmed_Final_Drug_Binding_Project.ipynb",
      "provenance": [],
      "collapsed_sections": []
    },
    "kernelspec": {
      "display_name": "Python 3",
      "language": "python",
      "name": "python3"
    },
    "language_info": {
      "codemirror_mode": {
        "name": "ipython",
        "version": 3
      },
      "file_extension": ".py",
      "mimetype": "text/x-python",
      "name": "python",
      "nbconvert_exporter": "python",
      "pygments_lexer": "ipython3",
      "version": "3.8.3"
    },
    "toc": {
      "base_numbering": 1,
      "nav_menu": {},
      "number_sections": true,
      "sideBar": true,
      "skip_h1_title": false,
      "title_cell": "Table of Contents",
      "title_sidebar": "Contents",
      "toc_cell": false,
      "toc_position": {},
      "toc_section_display": true,
      "toc_window_display": false
    }
  },
  "cells": [
    {
      "cell_type": "markdown",
      "metadata": {
        "id": "XN6dxHwuSFXW"
      },
      "source": [
        "# AM216 Final-Project: Extend Mini-Project: Predicting drug target interaction using 3D information and predicting ligands that can bind to COVID-19 targets.\n",
        "\n",
        "Components of X:\n",
        "*   **Protein**: residues chains (vector length 1000 or other lengths we choose to truncate)\n",
        "*   **Protein 3D**: contact map of residue distances (vector length around ~20000 after flattening the triangular matrix; need to standardize)\n",
        "*   **Ligand**: ECFP signature (1024 or 2048)\n",
        "\n",
        "y: affinity score\n",
        "\n",
        "Proposed models:\n",
        "1.   **Mini project**: concatenate protein residue chain and ligant signature to get X\n",
        "2.   **Just contact map**: concatenate flattened contact map and ligand signature to get X\n",
        "3.   **Early fusion**: concatenate protein residue chain, flattened contact map and ligand signature to get X\n",
        "4.   **Late fusion**: train and predict using Model 1 and Model 2 separately, consensus model at the end\n",
        "5.   **CNN**: Instead of flattening contact map, use convolutaional NN to convolve the map and derive flattened layer\n",
        "6.   **Pocket**: Instead of using the contact map of the whole protein, get the residues of the just the pocket and get the contact map\n",
        "\n",
        "\n",
        "\n",
        "\n",
        "\n",
        "\n",
        "\n",
        "\n"
      ]
    },
    {
      "cell_type": "markdown",
      "metadata": {
        "id": "wVhNjK4kSFXZ"
      },
      "source": [
        "## 1. Install Packages\n",
        "\n",
        "*   Rdkit\n",
        "*   Deepchem\n",
        "* Lifelines (calculate CI scores faster)\n",
        "* Biopython (BioPython's **Bio.PDB** module includes code to load PDB files and calculate the alpha carbon distance between pair of their residues)\n",
        "\n",
        "\n",
        "\n"
      ]
    },
    {
      "cell_type": "code",
      "metadata": {
        "id": "G7fQCZJ8q9Je",
        "colab": {
          "base_uri": "https://localhost:8080/"
        },
        "outputId": "a93f3444-3f27-4bdd-8492-486ed740f2ce"
      },
      "source": [
        "%tensorflow_version 1.x"
      ],
      "execution_count": 1,
      "outputs": [
        {
          "output_type": "stream",
          "text": [
            "TensorFlow 1.x selected.\n"
          ],
          "name": "stdout"
        }
      ]
    },
    {
      "cell_type": "code",
      "metadata": {
        "id": "ps7x414nDcHu",
        "scrolled": true,
        "colab": {
          "base_uri": "https://localhost:8080/"
        },
        "outputId": "08d07459-ef7f-40a0-9d69-84893c7dd5f5"
      },
      "source": [
        "%%capture cap --no-stderr \n",
        "#%%capture is used to suppress the output of this particular cell \n",
        "\n",
        "import sys\n",
        "import time\n",
        "import os.path\n",
        "if not os.path.exists('Anaconda3-2019.10-Linux-x86_64.sh'):\n",
        "  t_start = time.time()\n",
        "  !wget -c https://repo.anaconda.com/archive/Anaconda3-2019.10-Linux-x86_64.sh\n",
        "  !chmod +x Anaconda3-2019.10-Linux-x86_64.sh\n",
        "  !bash ./Anaconda3-2019.10-Linux-x86_64.sh -b -f -p /usr/local\n",
        "  print(\"Done: Anaconda3\", file=sys.stderr)\n",
        "  t_end = time.time(); print(\"----Elasped: %f seconds\" % (t_end - t_start), file=sys.stderr); t_start = time.time();\n",
        "\n",
        "\n",
        "  !conda install -y -c deepchem -c rdkit -c conda-forge -c omnia deepchem-gpu=2.3.0\n",
        "  print(\"Done: deepchem & rdkit\", file=sys.stderr)\n",
        "  # !conda create -c conda-forge -n my-rdkit-env rdkit;\n",
        "  # !activate my-rdkit-env; #(OR TRY: !activate my-rdkit-env)\n",
        "  # !conda install -c conda-forge rdkit;\n",
        "  # print(\"Done: rdkit\", file=sys.stderr)\n",
        "  t_end = time.time(); print(\"----Elasped: %f seconds\" % (t_end - t_start), file=sys.stderr); t_start = time.time();\n",
        "\n",
        "  !pip install lifelines;\n",
        "  !pip install biopython;\n",
        "  !pip install mmtf-python;\n",
        "  print(\"Done: pip install lifelines & biopython & mmtf-python\", file=sys.stderr)\n",
        "  t_end = time.time(); print(\"----Elasped: %f seconds\" % (t_end - t_start), file=sys.stderr);"
      ],
      "execution_count": 2,
      "outputs": [
        {
          "output_type": "stream",
          "text": [
            "Done: Anaconda3\n",
            "----Elasped: 161.631977 seconds\n",
            "Done: deepchem & rdkit\n",
            "----Elasped: 376.407619 seconds\n",
            "Done: pip install lifelines & biopython & mmtf-python\n",
            "----Elasped: 12.820297 seconds\n"
          ],
          "name": "stderr"
        }
      ]
    },
    {
      "cell_type": "code",
      "metadata": {
        "id": "IcdYdzPuHNfH"
      },
      "source": [
        "%%capture\n",
        "import sys\n",
        "sys.path.append('/usr/local/lib/python3.7/site-packages/')\n",
        "import warnings\n",
        "warnings.filterwarnings(\"ignore\")\n",
        "\n",
        "import deepchem as dc\n",
        "import numpy as np\n",
        "import os.path\n",
        "import urllib.request\n",
        "import pandas as pd\n",
        "import Bio.PDB\n",
        "import tensorflow as tf\n",
        "\n",
        "\n",
        "from rdkit.Chem import AllChem as Chem\n",
        "from rdkit.Chem import MolFromSmiles\n",
        "from Bio.PDB.mmtf import MMTFParser\n",
        "\n",
        "  \n",
        "import matplotlib.pyplot as plt\n",
        "import json\n",
        "import pickle\n",
        "import networkx as nx\n",
        "from collections import OrderedDict\n",
        "from lifelines.utils import concordance_index as ci\n",
        "from sklearn.model_selection import train_test_split\n"
      ],
      "execution_count": 104,
      "outputs": []
    },
    {
      "cell_type": "markdown",
      "metadata": {
        "id": "6Cl4Ai8CSFYE"
      },
      "source": [
        "## 2. Parsing Data\n",
        "TODO: describe the data we are using.\n",
        "\n",
        "### 2.1 Parsing PDB data to get the 3D info\n"
      ]
    },
    {
      "cell_type": "code",
      "metadata": {
        "id": "IHNSbOVERrb_"
      },
      "source": [
        "def subsample(dataFrame, n_or_frac):\n",
        "  if n_or_frac < 1.0:\n",
        "    return dataFrame.sample(frac = n_or_frac)\n",
        "  else:\n",
        "    return dataFrame.sample(n = n_or_frac)\n",
        "\n",
        "with open('Ligand_Dict.json') as f:\n",
        "    ligand_dict = json.load(f)\n",
        "pdb_data = pd.read_csv('PDBbind2019PLdata_cleaned.csv')\n",
        "\n",
        "\n",
        "pdb_proteinName = np.array(pdb_data['proteinName'])\n",
        "pdb_affinity = np.array(pdb_data['affinity'])\n",
        "pdb_ligandName = np.array(pdb_data['ligandName'])\n",
        "\n",
        "\n",
        "pdb_data_small = pd.read_csv('pdbbind_core_df_cleaned.csv')\n",
        "pdb_proteinName_small = np.array(pdb_data_small['proteinName'])\n",
        "pdb_affinity_small = np.array(pdb_data_small['affinity'])\n",
        "pdb_ligandName_small = np.array(pdb_data_small['ligandName'])\n",
        "\n",
        "\n",
        "SAMPLE_SIZE = 30\n",
        "pdb_data_medium = subsample(pdb_data, SAMPLE_SIZE)\n",
        "pdb_proteinName_medium = np.array(pdb_data_medium['proteinName'])\n",
        "pdb_affinity_medium = np.array(pdb_data_medium['affinity'])\n",
        "pdb_ligandName_medium = np.array(pdb_data_medium['ligandName'])"
      ],
      "execution_count": 84,
      "outputs": []
    },
    {
      "cell_type": "code",
      "metadata": {
        "colab": {
          "base_uri": "https://localhost:8080/"
        },
        "id": "5rpxK-GhRuFF",
        "outputId": "90ce0a65-faa0-4221-fb86-729dcb2fccc3"
      },
      "source": [
        "print(\"pdb_proteinName.shape:\", pdb_proteinName.shape)\n",
        "print(\"pdb_affinity.shape:\", pdb_affinity.shape)\n",
        "print(\"pdb_ligandName.shape:\", pdb_ligandName.shape)\n",
        "\n",
        "print(\"\\n\\npdb_proteinName_small.shape:\", pdb_proteinName_small.shape)\n",
        "print(\"pdb_affinity_small.shape:\", pdb_affinity_small.shape)\n",
        "print(\"pdb_ligandName_small.shape:\", pdb_ligandName_small.shape)\n",
        "\n",
        "print(\"\\n\\npdb_proteinName_medium.shape:\", pdb_proteinName_medium.shape)\n",
        "print(\"pdb_affinity_medium.shape:\", pdb_affinity_medium.shape)\n",
        "print(\"pdb_ligandName_medium.shape:\", pdb_ligandName_medium.shape)"
      ],
      "execution_count": 85,
      "outputs": [
        {
          "output_type": "stream",
          "text": [
            "pdb_proteinName.shape: (15080,)\n",
            "pdb_affinity.shape: (15080,)\n",
            "pdb_ligandName.shape: (15080,)\n",
            "\n",
            "\n",
            "pdb_proteinName_small.shape: (193,)\n",
            "pdb_affinity_small.shape: (193,)\n",
            "pdb_ligandName_small.shape: (193,)\n",
            "\n",
            "\n",
            "pdb_proteinName_medium.shape: (30,)\n",
            "pdb_affinity_medium.shape: (30,)\n",
            "pdb_ligandName_medium.shape: (30,)\n"
          ],
          "name": "stdout"
        }
      ]
    },
    {
      "cell_type": "markdown",
      "metadata": {
        "id": "OR1G-0oxQSIx"
      },
      "source": [
        " #### 3D Representation 1: Contact map\n",
        "\n",
        "We get the list of residues in each protein and treat that as a single chain to calculate the contact map of this protein. After flattened, the length of the contact map vector should be **O(residue_count * residue_count)**, which is too big for some proteins with large number of residues. Hence, we tried to shrink it by collapsing the 3D coordinates a group of neighboring residues into a single one."
      ]
    },
    {
      "cell_type": "code",
      "metadata": {
        "id": "WTIiSHZRSFYF"
      },
      "source": [
        "def filter_residues(residues):\n",
        "  new_residues = []\n",
        "  for res in residues:\n",
        "    if 'CA' in res:\n",
        "      new_residues.append(res)\n",
        "  return new_residues\n",
        "\n",
        "def calc_residue_dist_by_residues(residue_one, residue_two) :\n",
        "    \"\"\"Returns the C-alpha distance between two residues\"\"\"\n",
        "    diff_vector  = residue_one[\"CA\"].coord - residue_two[\"CA\"].coord\n",
        "    return np.sqrt(np.sum(diff_vector * diff_vector))\n",
        "\n",
        "#Essentially the Euclidean distance between 2 coords\n",
        "def calc_residue_dist_by_coords(coord1, coord2) :\n",
        "    \"\"\"Returns the C-alpha distance between two residues\"\"\"\n",
        "    diff_vector  = coord1 - coord2\n",
        "    # return np.sqrt(np.sum(diff_vector * diff_vector))\n",
        "    return np.linalg.norm(diff_vector)\n",
        "\n",
        "\n",
        "\n",
        "# We expect residue_list1 and residue_list2 to be the same thing: residue list of one protein. Hence the result should be a symmetric matrix, and thus we decided to only calculate the independent entries.\n",
        "def calc_dist_matrix_by_residues(residue_list1) :\n",
        "    \"\"\"Returns a matrix of C-alpha distances between two chains\"\"\"\n",
        "    # answer = np.zeros((len(residue_list1), len(chain_two)), np.float)\n",
        "    answer = []\n",
        "    for row, residue_one in enumerate(residue_list1) :\n",
        "        for col, residue_two in enumerate(residue_list1[row+1:]) :\n",
        "            answer.append(calc_residue_dist(residue_one, residue_two))\n",
        "    return answer\n",
        "\n",
        "def calc_dist_matrix_by_coords(coord_list1) :\n",
        "    \"\"\"Returns a matrix of C-alpha distances between two chains\"\"\"\n",
        "    # answer = np.zeros((len(residue_list1), len(chain_two)), np.float)\n",
        "    answer = []\n",
        "    for row, coord1 in enumerate(coord_list1) :\n",
        "        for col, coord2 in enumerate(coord_list1[row+1:]) :\n",
        "            answer.append(calc_residue_dist_by_coords(coord1, coord2))\n",
        "    return answer\n",
        "\n",
        "\n",
        "# Returns the contact map for one protein and prints the info - slow (for demonstration purpose)\n",
        "# It does the shrinking by shrinking_ratio within each chain (coords from end of chain1 and start of chain 2 will NOT be collapsed together).\n",
        "def get_protein_contact_map_slow(proteinName, shrinking_ratio=20):\n",
        "  structure=MMTFParser.get_structure_from_url(proteinName)\n",
        "  all_chains =structure[0]\n",
        "  \n",
        "  #Get 1.residues: list of all residues in the protein\n",
        "#      2.CA_coord_list has length equal num of chains. \n",
        "  residues = []\n",
        "  CA_coord_list = []\n",
        "\n",
        "  for idx_chain, chain in enumerate(all_chains):\n",
        "    CA_curr_chain = []\n",
        "    for idx_residue, residue in enumerate(chain):\n",
        "      residues.append(residue)\n",
        "      if 'CA' in residue:\n",
        "        CA_curr_chain.append(residue['CA'].coord)\n",
        "    CA_coord_list.append(CA_curr_chain)\n",
        "    print(\"Chain with id %d has %d residues in total, and %d residues with CA.\" % (idx_chain, len(chain), len(CA_curr_chain)))\n",
        "  print(\"\\nCount of residues: \", len(residues))\n",
        "  residues = filter_residues(residues)\n",
        "  print(\"Count of residues with CA: \", len(residues))\n",
        "\n",
        "\n",
        "  # Get coord_list: collapsing list of CA coords of all resiudues with CA in the protein\n",
        "  coord_list = []\n",
        "  for CA_curr_chain in CA_coord_list:\n",
        "    cutting_points = list(np.arange(0,len(CA_curr_chain),shrinking_ratio))\n",
        "    cutting_points.append(len(CA_curr_chain))\n",
        "    for i, start in enumerate(cutting_points[:-1]):\n",
        "      end = cutting_points[i+1]\n",
        "      coord_list.append(np.mean(CA_curr_chain[start:end],axis=0))\n",
        "  print(\"After shrinking, len(coord_list) = \", len(coord_list))\n",
        "\n",
        "\n",
        "  # Calculate contact_map: pair wise distance of the coords\n",
        "  contact_map = calc_dist_matrix_by_coords(coord_list)\n",
        "  print(\"len(contact_map) = \", len(contact_map))\n",
        "  return contact_map\n",
        "\n",
        "\n",
        "\n",
        "# Returns the contact map for one protein and does not print the info - fast\n",
        "# It does not do the exact shrinking within each chain (That is, coords from end of chain1 and start of chain 2 will be collapsed together).\n",
        "def get_protein_contact_map(proteinName, shrinking_ratio=20):\n",
        "  structure=MMTFParser.get_structure_from_url(proteinName)\n",
        "  all_chains =structure[0]\n",
        "  \n",
        "  #Get CA_coord_list: list of CA coords of all residues with CA\n",
        "  CA_coord_list = []\n",
        "  for idx_chain, chain in enumerate(all_chains):\n",
        "    for idx_residue, residue in enumerate(chain):\n",
        "      if 'CA' in residue:\n",
        "        CA_coord_list.append(residue['CA'].coord)\n",
        "  # print(\"len(CA_coord_list) = \", len(CA_coord_list))\n",
        "\n",
        "  # Get coord_list: collapsing list of CA coords of all resiudues with CA in the protein\n",
        "  coord_list = []\n",
        "  cutting_points = list(np.arange(0,len(CA_coord_list),shrinking_ratio))\n",
        "  cutting_points.append(len(CA_coord_list))\n",
        "  for i, start in enumerate(cutting_points[:-1]):\n",
        "    end = cutting_points[i+1]\n",
        "    coord_list.append(np.mean(CA_coord_list[start:end],axis=0))\n",
        "  # print(\"After shrinking, len(coord_list) = \", len(coord_list))\n",
        "\n",
        "  # Calculate contact_map: pair wise distance of the coords\n",
        "  contact_map = calc_dist_matrix_by_coords(coord_list)\n",
        "  # print(\"len(contact_map) = \", len(contact_map))\n",
        "\n",
        "  return contact_map\n",
        "\n",
        "\n",
        "\n",
        "#Cutting/Padding: use the code from miniproject (how they got 1000-long vector for proteins)\n",
        "CONTACT_MAP_LENGTH=1000\n",
        "\n",
        "def cut_or_pad(my_list, length):\n",
        "    array = np.zeros(length)\n",
        "    for i, row in enumerate(my_list[:length]): \n",
        "        array[i] = row\n",
        "    return array \n",
        "\n",
        "def get_protein_cut_contact_map(proteinName, shrinking_ratio=20):\n",
        "  contact_map_uncut = get_protein_contact_map(proteinName, shrinking_ratio)\n",
        "  contact_map = cut_or_pad(contact_map_uncut, CONTACT_MAP_LENGTH)\n",
        "  return contact_map\n"
      ],
      "execution_count": 34,
      "outputs": []
    },
    {
      "cell_type": "markdown",
      "metadata": {
        "id": "ZWoFSHCYVkwh"
      },
      "source": [
        "Below we are trying to find the fastest way to loop through all residues and get the CA coords from residues with CA.\n",
        "\n",
        "Conclusion: for all the 5 approaches we tried, including using list comprehensiong and mapping, it still takes about 0.5 sec to calculate the CA coordinate list for 1 protein."
      ]
    },
    {
      "cell_type": "markdown",
      "metadata": {
        "id": "O_vhsk-UfzkS"
      },
      "source": [
        "Now we continue processing the contact maps for all proteins. Then we need to do cutting/padding on the data (list of distinct-length lists) so they have equal length in the end (list of equal-length lists)"
      ]
    },
    {
      "cell_type": "code",
      "metadata": {
        "colab": {
          "base_uri": "https://localhost:8080/",
          "height": 349
        },
        "id": "jwP4uZBIO15s",
        "outputId": "f3a241d4-4937-4d58-c0ef-d867e19a9e96"
      },
      "source": [
        "# Get contact maps for all proteins:\n",
        "SHRINKING_RATIO = 20 #after exploring, 20 is a good SHRINKING_RATIO to shrink the contact maps into reasonable lengths\n",
        "contact_maps = []\n",
        "lens = []\n",
        "\n",
        "for i in range(len(pdb_proteinName_medium)):\n",
        "  cm = get_protein_contact_map(pdb_proteinName_medium[i], shrinking_ratio=SHRINKING_RATIO)\n",
        "  contact_maps.append(cm)\n",
        "  lens.append(len(cm))\n",
        "  \n",
        "  if i %10==0:\n",
        "    print(i, end=\",\")\n",
        "  \n",
        "print(\"\\nNum of contact maps: \", len(contact_maps))\n",
        "print(\"Min length = \", np.min(lens))\n",
        "print(\"Max length = \", np.max(lens))\n",
        "plt.hist(lens, bins=100);\n",
        "plt.title(\"Distribution of lengths of contact maps (before cutting/padding)\");\n"
      ],
      "execution_count": 12,
      "outputs": [
        {
          "output_type": "stream",
          "text": [
            "0,10,20,\n",
            "Num of contact maps:  30\n",
            "Min length =  10\n",
            "Max length =  50086\n"
          ],
          "name": "stdout"
        },
        {
          "output_type": "display_data",
          "data": {
            "image/png": "[encoded data removed]",
            "text/plain": [
              "<Figure size 432x288 with 1 Axes>"
            ]
          },
          "metadata": {
            "tags": [],
            "needs_background": "light"
          }
        }
      ]
    },
    {
      "cell_type": "code",
      "metadata": {
        "colab": {
          "base_uri": "https://localhost:8080/"
        },
        "id": "A7T0ZsUGjWRy",
        "outputId": "72dc2453-928e-49ef-aa59-acba50d47098"
      },
      "source": [
        "#Cutting/Padding: use the code from miniproject (how they got 1000-long vector for proteins)\n",
        "CONTACT_MAP_LENGTH=1000\n",
        "\n",
        "\n",
        "contact_maps = np.array([cut_or_pad(cm, CONTACT_MAP_LENGTH) for cm in contact_maps])\n",
        "print(\"contact_maps.shape = \", contact_maps.shape)"
      ],
      "execution_count": 13,
      "outputs": [
        {
          "output_type": "stream",
          "text": [
            "contact_maps.shape =  (30, 1000)\n"
          ],
          "name": "stdout"
        }
      ]
    },
    {
      "cell_type": "markdown",
      "metadata": {
        "id": "5KzHP22jZ81f"
      },
      "source": [
        "Note: After optimizing the code as much as we can, getting the contact maps of proteins is still slow because of the unavoidable calculation to loop through the residues and get the coordinates of their CA (if exists). Each protein takes about **1 sec** to calculate its contact map. This situation is the same for the 2nd 3D representation: using distances from the center.\n",
        "\n",
        "Hence, we will try to use the medium (sampled from the total 17680 data points) or small data set (from 'pdbbind_core_df_cleaned.csv', which only has 193 data points)."
      ]
    },
    {
      "cell_type": "markdown",
      "metadata": {
        "id": "t3AugtrwREe3"
      },
      "source": [
        " #### 3D Representation 2: Center Distances (Distances of residues from the center.)\n",
        "We assume a center for the protein, which is calculated by averaging the 3D coordinates of the residues. Then we use the distances of residues from this center as our 3D representation of this protein. One advantage of this representation is that the final length is of order **O(residue_count)**.\n"
      ]
    },
    {
      "cell_type": "code",
      "metadata": {
        "id": "Xl-V-z8XRDS6"
      },
      "source": [
        "CENTER_DISTANCES_LENGTH = 1000\n",
        "def get_protein_center_distances(proteinName, printInfo=False):\n",
        "  all_chains=MMTFParser.get_structure_from_url(proteinName)[0]\n",
        "  \n",
        "  #Step1: Get CA_coord_list: list of CA coords of all residues with CA\n",
        "  CA_coord_list = []\n",
        "  for idx_chain, chain in enumerate(all_chains):\n",
        "    for idx_residue, residue in enumerate(chain):\n",
        "      if 'CA' in residue:\n",
        "        CA_coord_list.append(residue['CA'].coord)\n",
        "  if printInfo:\n",
        "    print(\"len(CA_coord_list) = \", len(CA_coord_list))\n",
        "\n",
        "  #Step2: average coords to get center\n",
        "  center = np.mean(CA_coord_list, axis=0)\n",
        "  if printInfo:\n",
        "    print(\"center = \", center)\n",
        "\n",
        "\n",
        "  #Step3: calculate distances from the center\n",
        "  distances = []\n",
        "  for coord in CA_coord_list:\n",
        "    dist = calc_residue_dist_by_coords(center, coord)#Essentially the Euclidean distance between 2 coords\n",
        "    distances.append(dist)\n",
        "  if printInfo:\n",
        "    print(\"len(distances) = \", len(distances))\n",
        "\n",
        "  return distances\n",
        "\n",
        "\n",
        "\n",
        "def get_protein_cut_center_distances(proteinName):\n",
        "  distances_uncut = get_protein_center_distances(proteinName)\n",
        "  distances = cut_or_pad(distances_uncut, CENTER_DISTANCES_LENGTH)\n",
        "  return distances"
      ],
      "execution_count": 52,
      "outputs": []
    },
    {
      "cell_type": "code",
      "metadata": {
        "colab": {
          "base_uri": "https://localhost:8080/",
          "height": 426
        },
        "id": "VgAx2YFohBuF",
        "outputId": "d5763fea-d4e6-49fd-8c83-c00040031c09"
      },
      "source": [
        "# Get center_distances for all proteins:\n",
        "\n",
        "center_distances = []\n",
        "lens = []\n",
        "for i in range(len(pdb_proteinName_medium)):\n",
        "  d = get_protein_center_distances(pdb_proteinName_medium[i])\n",
        "  center_distances.append(d)\n",
        "  lens.append(len(d))\n",
        "  \n",
        "  if i %10==0:\n",
        "    print(i, end=\",\")\n",
        "  \n",
        "\n",
        "print(\"\\nNum of contact maps: \", len(center_distances))\n",
        "print(\"Min length = \", np.min(lens))\n",
        "print(\"Max length = \", np.max(lens))\n",
        "plt.hist(lens, bins=100);\n",
        "plt.title(\"Distribution of lengths of center_distances (before cutting/padding)\");\n"
      ],
      "execution_count": 46,
      "outputs": [
        {
          "output_type": "stream",
          "text": [
            "0,"
          ],
          "name": "stdout"
        },
        {
          "output_type": "error",
          "ename": "KeyboardInterrupt",
          "evalue": "ignored",
          "traceback": [
            "\u001b[0;31m---------------------------------------------------------------------------\u001b[0m",
            "\u001b[0;31mKeyboardInterrupt\u001b[0m                         Traceback (most recent call last)",
            "\u001b[0;32m<ipython-input-46-a86496b2c81a>\u001b[0m in \u001b[0;36m<module>\u001b[0;34m()\u001b[0m\n\u001b[1;32m      4\u001b[0m \u001b[0mlens\u001b[0m \u001b[0;34m=\u001b[0m \u001b[0;34m[\u001b[0m\u001b[0;34m]\u001b[0m\u001b[0;34m\u001b[0m\u001b[0;34m\u001b[0m\u001b[0m\n\u001b[1;32m      5\u001b[0m \u001b[0;32mfor\u001b[0m \u001b[0mi\u001b[0m \u001b[0;32min\u001b[0m \u001b[0mrange\u001b[0m\u001b[0;34m(\u001b[0m\u001b[0mlen\u001b[0m\u001b[0;34m(\u001b[0m\u001b[0mpdb_proteinName_medium\u001b[0m\u001b[0;34m)\u001b[0m\u001b[0;34m)\u001b[0m\u001b[0;34m:\u001b[0m\u001b[0;34m\u001b[0m\u001b[0;34m\u001b[0m\u001b[0m\n\u001b[0;32m----> 6\u001b[0;31m   \u001b[0md\u001b[0m \u001b[0;34m=\u001b[0m \u001b[0mget_protein_center_distances\u001b[0m\u001b[0;34m(\u001b[0m\u001b[0mpdb_proteinName_medium\u001b[0m\u001b[0;34m[\u001b[0m\u001b[0mi\u001b[0m\u001b[0;34m]\u001b[0m\u001b[0;34m)\u001b[0m\u001b[0;34m\u001b[0m\u001b[0;34m\u001b[0m\u001b[0m\n\u001b[0m\u001b[1;32m      7\u001b[0m   \u001b[0mcenter_distances\u001b[0m\u001b[0;34m.\u001b[0m\u001b[0mappend\u001b[0m\u001b[0;34m(\u001b[0m\u001b[0md\u001b[0m\u001b[0;34m)\u001b[0m\u001b[0;34m\u001b[0m\u001b[0;34m\u001b[0m\u001b[0m\n\u001b[1;32m      8\u001b[0m   \u001b[0mlens\u001b[0m\u001b[0;34m.\u001b[0m\u001b[0mappend\u001b[0m\u001b[0;34m(\u001b[0m\u001b[0mlen\u001b[0m\u001b[0;34m(\u001b[0m\u001b[0md\u001b[0m\u001b[0;34m)\u001b[0m\u001b[0;34m)\u001b[0m\u001b[0;34m\u001b[0m\u001b[0;34m\u001b[0m\u001b[0m\n",
            "\u001b[0;32m<ipython-input-45-91946a60ff4c>\u001b[0m in \u001b[0;36mget_protein_center_distances\u001b[0;34m(proteinName, printInfo)\u001b[0m\n\u001b[1;32m     21\u001b[0m   \u001b[0mdistances\u001b[0m \u001b[0;34m=\u001b[0m \u001b[0;34m[\u001b[0m\u001b[0;34m]\u001b[0m\u001b[0;34m\u001b[0m\u001b[0;34m\u001b[0m\u001b[0m\n\u001b[1;32m     22\u001b[0m   \u001b[0;32mfor\u001b[0m \u001b[0mcoord\u001b[0m \u001b[0;32min\u001b[0m \u001b[0mCA_coord_list\u001b[0m\u001b[0;34m:\u001b[0m\u001b[0;34m\u001b[0m\u001b[0;34m\u001b[0m\u001b[0m\n\u001b[0;32m---> 23\u001b[0;31m     \u001b[0mdist\u001b[0m \u001b[0;34m=\u001b[0m \u001b[0mcalc_residue_dist_by_coords\u001b[0m\u001b[0;34m(\u001b[0m\u001b[0mcenter\u001b[0m\u001b[0;34m,\u001b[0m \u001b[0mcoord\u001b[0m\u001b[0;34m)\u001b[0m\u001b[0;31m#Essentially the Euclidean distance between 2 coords\u001b[0m\u001b[0;34m\u001b[0m\u001b[0;34m\u001b[0m\u001b[0m\n\u001b[0m\u001b[1;32m     24\u001b[0m     \u001b[0mdistances\u001b[0m\u001b[0;34m.\u001b[0m\u001b[0mappend\u001b[0m\u001b[0;34m(\u001b[0m\u001b[0mdist\u001b[0m\u001b[0;34m)\u001b[0m\u001b[0;34m\u001b[0m\u001b[0;34m\u001b[0m\u001b[0m\n\u001b[1;32m     25\u001b[0m   \u001b[0;32mif\u001b[0m \u001b[0mprintInfo\u001b[0m\u001b[0;34m:\u001b[0m\u001b[0;34m\u001b[0m\u001b[0;34m\u001b[0m\u001b[0m\n",
            "\u001b[0;32m<ipython-input-34-403a9e136760>\u001b[0m in \u001b[0;36mcalc_residue_dist_by_coords\u001b[0;34m(coord1, coord2)\u001b[0m\n\u001b[1;32m     16\u001b[0m     \u001b[0mdiff_vector\u001b[0m  \u001b[0;34m=\u001b[0m \u001b[0mcoord1\u001b[0m \u001b[0;34m-\u001b[0m \u001b[0mcoord2\u001b[0m\u001b[0;34m\u001b[0m\u001b[0;34m\u001b[0m\u001b[0m\n\u001b[1;32m     17\u001b[0m     \u001b[0;31m# return np.sqrt(np.sum(diff_vector * diff_vector))\u001b[0m\u001b[0;34m\u001b[0m\u001b[0;34m\u001b[0m\u001b[0;34m\u001b[0m\u001b[0m\n\u001b[0;32m---> 18\u001b[0;31m     \u001b[0;32mreturn\u001b[0m \u001b[0mnp\u001b[0m\u001b[0;34m.\u001b[0m\u001b[0mlinalg\u001b[0m\u001b[0;34m.\u001b[0m\u001b[0mnorm\u001b[0m\u001b[0;34m(\u001b[0m\u001b[0mdiff_vector\u001b[0m\u001b[0;34m)\u001b[0m\u001b[0;34m\u001b[0m\u001b[0;34m\u001b[0m\u001b[0m\n\u001b[0m\u001b[1;32m     19\u001b[0m \u001b[0;34m\u001b[0m\u001b[0m\n\u001b[1;32m     20\u001b[0m \u001b[0;34m\u001b[0m\u001b[0m\n",
            "\u001b[0;32m<__array_function__ internals>\u001b[0m in \u001b[0;36mnorm\u001b[0;34m(*args, **kwargs)\u001b[0m\n",
            "\u001b[0;31mKeyboardInterrupt\u001b[0m: "
          ]
        }
      ]
    },
    {
      "cell_type": "code",
      "metadata": {
        "colab": {
          "base_uri": "https://localhost:8080/"
        },
        "id": "0cNfNwXGjx8v",
        "outputId": "52ffc5c3-0279-42fd-c78a-0ab884c3804c"
      },
      "source": [
        "#Cutting/Padding: use the code from miniproject (how they got 1000-long vector for proteins)\n",
        "CENTER_DISTANCE_LENGTH=1000\n",
        "\n",
        "center_distances = np.array([cut_or_pad(d, CENTER_DISTANCE_LENGTH) for d in center_distances])\n",
        "print(\"center_distances.shape = \", center_distances.shape)"
      ],
      "execution_count": 16,
      "outputs": [
        {
          "output_type": "stream",
          "text": [
            "center_distances.shape =  (30, 1000)\n"
          ],
          "name": "stdout"
        }
      ]
    },
    {
      "cell_type": "markdown",
      "metadata": {
        "id": "Qc16K36GXF5c"
      },
      "source": [
        "### 2.2 Parse Protein Amino Acid Sequence (length = *1000*)\n",
        "\n",
        "Now we parse data same as KIBA data in the Mini Project. We get a 1000-long vector representation for each protein. Then we concatenate with the 1000-long vector with 3D information (contact map / center distance). Use the total 2000-long vector as the representation for each protein. [link text](https://)"
      ]
    },
    {
      "cell_type": "code",
      "metadata": {
        "id": "djVulSzKAAKG"
      },
      "source": [
        "amino_acid_dict = {'ALA':'A','ARG':'R','ASN':'N','ASP':'D','ASX':'B','CYS':'C','GLU':'E','GLN':'Q','GLX':'Z','GLY':'G','HIS':'H','ILE':'I','LEU':'L','LYS':'K','MET':'M','PHE':'F','PRO':'P','SER':'S','THR':'T','TRP':'W','TYR':'Y','VAL':'V'}\n",
        "def get_amino_acid_seq(proteinName):\n",
        "  structure=MMTFParser.get_structure_from_url(proteinName)\n",
        "  residues = structure.get_residues()\n",
        "\n",
        "  seq = ''\n",
        "  for i, res in enumerate(residues):\n",
        "    try:\n",
        "      letter3 = res.get_resname()\n",
        "      letter1 =  amino_acid_dict[letter3]\n",
        "      seq += letter1\n",
        "    except KeyError:\n",
        "      continue\n",
        "  return seq\n"
      ],
      "execution_count": 17,
      "outputs": []
    },
    {
      "cell_type": "code",
      "metadata": {
        "colab": {
          "base_uri": "https://localhost:8080/",
          "height": 188
        },
        "id": "IgvY_0TvBBfH",
        "outputId": "8d837880-8031-4e10-c7b9-f069ed423007"
      },
      "source": [
        "seq = get_amino_acid_seq(pdb_proteinName[0])\n",
        "seq"
      ],
      "execution_count": 18,
      "outputs": [
        {
          "output_type": "execute_result",
          "data": {
            "application/vnd.google.colaboratory.intrinsic+json": {
              "type": "string"
            },
            "text/plain": [
              "'NGFSATRSTVIQLLNNISTKREVEQYLKYFTSVSQQQFAVIKVGGAIISDNLHELASCLAFLYHVGLYPIVLHGTGPQVNGRLEAQGIEPDYIDGIRITDEHTMAVVRKCFLEQNLKLVTALEQLGVRARPITSGVFTADYLDKDKYKLVGNIKSVTKEPIEASIKAGALPILTSLAETASGQMLNVNADVAAGELARVFEPLKIVYLNEKGGIINGSTGEKISMINLDEEYDDLMKQSWVKYGTKLKIREIKELLDYLPRSSSVAIINVQDLQKELFTDSGAGTMIRRGYGFSATRSTVIQLLNNISTKREVEQYLKYFTSVSQQQFAVIKVGGAIISDNLHELASCLAFLYHVGLYPIVLHGTGPQVNGRLEAQGIEPDYIDGIRITDEHTMAVVRKCFLEQNLKLVTALEQLGVRARPITSGVFTADYLDKDKYKLVGNIKSVTKEPIEASIKAGALPILTSLAETASGQMLNVNADVAAGELARVFEPLKIVYLNEKGGIINGSTGEKISMINLDEEYDDLMKQSWVKYGTKLKIREIKELLDYLPRSSSVAIINVQDLQKELFTDSGAGTMIRRGNGFSATRSTVIQLLNNISTKREVEQYLKYFTSVSQQQFAVIKVGGAIISDNLHELASCLAFLYHVGLYPIVLHGTGPQVNGRLEAQGIEPDYIDGIRITDEHTMAVVRKCFLEQNLKLVTALEQLGVRARPITSGVFTADYLDKDKYKLVGNIKSVTKEPIEASIKAGALPILTSLAETASGQMLNVNADVAAGELARVFEPLKIVYLNEKGGIINGSTGEKISMINLDEEYDDLMKQSWVKYGTKLKIREIKELLDYLPRSSSVAIINVQDLQKELFTDSGAGTMIRRGYGFSATRSTVIQLLNNISTKREVEQYLKYFTSVSQQQFAVIKVGGAIISDNLHELASCLAFLYHVGLYPIVLHGTGPQVNGRLEAQGIEPDYIDGIRITDEHTMAVVRKCFLEQNLKLVTALEQLGVRARPITSGVFTADYLDKDKYKLVGNIKSVTKEPIEASIKAGALPILTSLAETASGQMLNVNADVAAGELARVFEPLKIVYLNEKGGIINGSTGEKISMINLDEEYDDLMKQSWVKYGTKLKIREIKELLDYLPRSSSVAIINVQDLQKELFTDSGAGTMIRRGY'"
            ]
          },
          "metadata": {
            "tags": []
          },
          "execution_count": 18
        }
      ]
    },
    {
      "cell_type": "code",
      "metadata": {
        "id": "Hu_V0gH7SFYK"
      },
      "source": [
        "# for converting protein sequence to categorical format\n",
        "seq_voc = \"ABCDEFGHIKLMNOPQRSTUVWXYZ\"\n",
        "seq_dict = {v:i for i,v in enumerate(seq_voc)}\n",
        "seq_dict_len = len(seq_dict)\n",
        "max_seq_len = 1000   # Note that all protein data will have the same length 1000 \n",
        "\n",
        "def seq_to_cat(proteinSeq):\n",
        "    x = np.zeros(max_seq_len)\n",
        "    for i, ch in enumerate(proteinSeq[:max_seq_len]): \n",
        "        x[i] = seq_dict[ch]\n",
        "    return x  \n",
        "\n",
        "# Concordance index evaluation. XM: given function is too slow, we use concordance_index from lifelines.utils to calculate CI score\n",
        "\n",
        "def get_protein_amino_acids(proteinName):\n",
        "  seq = get_amino_acid_seq(proteinName)\n",
        "  vec = seq_to_cat(seq)\n",
        "  return vec"
      ],
      "execution_count": 37,
      "outputs": []
    },
    {
      "cell_type": "code",
      "metadata": {
        "colab": {
          "base_uri": "https://localhost:8080/"
        },
        "id": "RDWrp2L4BLWL",
        "outputId": "922d423c-d320-4244-b72c-17f98e385b85"
      },
      "source": [
        "vec = seq_to_cat(seq)\n",
        "vec.shape"
      ],
      "execution_count": 20,
      "outputs": [
        {
          "output_type": "execute_result",
          "data": {
            "text/plain": [
              "(1000,)"
            ]
          },
          "metadata": {
            "tags": []
          },
          "execution_count": 20
        }
      ]
    },
    {
      "cell_type": "markdown",
      "metadata": {
        "id": "mWOgglJ4yWHf"
      },
      "source": [
        "### 2.3 Parse Ligand ECFP (length = 1000)\n",
        "We have obtained the smiles strings from **ligand_dict**. Now we use it to obtain the smiles strings of all ligands and convert them into ECFP vectors."
      ]
    },
    {
      "cell_type": "code",
      "metadata": {
        "colab": {
          "base_uri": "https://localhost:8080/"
        },
        "id": "5Iy_HSlWZLuv",
        "outputId": "389a2dbb-a754-4439-d7bc-8c0e960cde0c"
      },
      "source": [
        "list(ligand_dict.values())[:3]"
      ],
      "execution_count": 21,
      "outputs": [
        {
          "output_type": "execute_result",
          "data": {
            "text/plain": [
              "['Cc1c(c2ccc(cc2o1)Oc3ccnc4c3ccc(c4)OCCN5CCOCC5)C(=O)NC',\n",
              " 'c1ccc(cc1)C[C@@]2(CC[N@@]3CC[C@H](N3C2=O)C(=O)N[C@@H](CCCCN)[C@@H](C(=O)NC4CCCCC4)O)N',\n",
              " '[H]/N=C(\\\\N)/NCCC[C@@H]([C@@H](C(=O)NCCc1ccccc1)O)NC(=O)[C@@H]2CCN3N2C(=O)[C@@](CC3)(Cc4ccccc4)N']"
            ]
          },
          "metadata": {
            "tags": []
          },
          "execution_count": 21
        }
      ]
    },
    {
      "cell_type": "code",
      "metadata": {
        "id": "V62AGZCscZu2"
      },
      "source": [
        "# smiles = np.array([Chem.MolToSmiles(Chem.MolFromSmiles(d),isomericSmiles=True) for d in ligand_dict.values()])\n",
        "# print(\"Total num of ligands: \", len(smiles))\n",
        "NBITS = 1000\n",
        "\n",
        "ligands = []\n",
        "count_invalid = 0\n",
        "\n",
        "for ligandName in pdb_ligandName_medium:\n",
        "  smile = ligand_dict[ligandName]\n",
        "  # print(i, end=\",\")\n",
        "  try:\n",
        "    molecule = MolFromSmiles(smile)\n",
        "    ECFP2 = Chem.GetMorganFingerprintAsBitVect(molecule, 2, nBits=NBITS).ToBitString()\n",
        "    ECFP2arr = np.array(list(map(int, ECFP2)))\n",
        "    ligands.append(ECFP2arr)\n",
        "  except:\n",
        "    count_invalid += 1\n",
        "  # if i % 100==0:\n",
        "  #   print()"
      ],
      "execution_count": 40,
      "outputs": []
    },
    {
      "cell_type": "code",
      "metadata": {
        "colab": {
          "base_uri": "https://localhost:8080/"
        },
        "id": "g9feZyIscBq4",
        "outputId": "d9b9f88e-abfa-4483-98f6-edae7e17eaec"
      },
      "source": [
        "print(\"Count = valid:\", len(ligands))\n",
        "print(\"Count = invalid:\", count_invalid)"
      ],
      "execution_count": 41,
      "outputs": [
        {
          "output_type": "stream",
          "text": [
            "Count = valid: 30\n",
            "Count = invalid: 0\n"
          ],
          "name": "stdout"
        }
      ]
    },
    {
      "cell_type": "code",
      "metadata": {
        "id": "CyoW5vt00jLr"
      },
      "source": [
        "#Assume ligandName is valid (i.e. it can be found in 'ligand_dict' and can be successfully converted to ECFP)\n",
        "def get_ligand_ECFP(ligandName):\n",
        "  smile = ligand_dict[ligandName]\n",
        "\n",
        "  molecule = MolFromSmiles(smile)\n",
        "  ECFP2 = Chem.GetMorganFingerprintAsBitVect(molecule, 2, nBits=NBITS).ToBitString()\n",
        "  ECFP2arr = np.array(list(map(int, ECFP2)))\n",
        "  return ECFP2arr"
      ],
      "execution_count": 43,
      "outputs": []
    },
    {
      "cell_type": "markdown",
      "metadata": {
        "id": "HEB9yj4Fw9-9"
      },
      "source": [
        "### 2.4 Final Representation of Proteins and Ligands\n",
        "\n",
        "Put everything together."
      ]
    },
    {
      "cell_type": "code",
      "metadata": {
        "id": "mIDwnwJ3uCfS"
      },
      "source": [
        "# Provides a flexible function to create protein-ligand of different representations\n",
        "# to create X\n",
        "def create_pairs(protein_list, ligand_list, protein_func, ligand_func, protein_func_3D=None):\n",
        "  protein_repr = [protein_func(p) for p in protein_list]\n",
        "  ligand_repr = [ligand_func(l) for l in ligand_list]\n",
        "\n",
        "  if protein_func_3D:\n",
        "    protein_repr_3D = [protein_func_3D(p) for p in protein_list]\n",
        "  else:\n",
        "    protein_repr_3D = [[] for p in protein_list]\n",
        "\n",
        "  pairs = []\n",
        "  for i in range(len(protein_list)):\n",
        "    new_pair = np.concatenate((protein_repr[i], protein_repr_3D[i], ligand_repr[i]))\n",
        "    pairs.append(new_pair)\n",
        "\n",
        "  return np.array(pairs)"
      ],
      "execution_count": 72,
      "outputs": []
    },
    {
      "cell_type": "code",
      "metadata": {
        "colab": {
          "base_uri": "https://localhost:8080/"
        },
        "id": "5pJBVuHbuCY7",
        "outputId": "0349439d-e396-49a2-b592-0f27a633e14e"
      },
      "source": [
        "proteinName = pdb_proteinName_medium[0]\n",
        "print(\"proteinName = \", proteinName)\n",
        "print(get_protein_amino_acids(proteinName).shape)\n",
        "print(get_protein_cut_contact_map(proteinName).shape)\n",
        "print(get_protein_cut_center_distances(proteinName).shape)\n",
        "\n",
        "ligandName = pdb_ligandName_medium[0]\n",
        "print(\"\\nligandName = \", ligandName)\n",
        "print(get_ligand_ECFP(ligandName).shape)"
      ],
      "execution_count": 53,
      "outputs": [
        {
          "output_type": "stream",
          "text": [
            "proteinName =  4du8\n",
            "(1000,)\n",
            "(1000,)\n",
            "(1000,)\n",
            "\n",
            "\n",
            "ligandName =  (2P0)\n",
            "(1000,)\n"
          ],
          "name": "stdout"
        }
      ]
    },
    {
      "cell_type": "code",
      "metadata": {
        "colab": {
          "base_uri": "https://localhost:8080/"
        },
        "id": "HT5HOB9guCSb",
        "outputId": "92325050-d142-4ea2-bc07-b7af6713e8c5"
      },
      "source": [
        "\n",
        "t_start = time.time()\n",
        "X = create_pairs(pdb_proteinName_medium, pdb_ligandName_medium, get_protein_amino_acids, get_ligand_ECFP,  protein_func_3D=None)\n",
        "t_end = time.time(); print(\"----X Elasped: %f seconds\" % (t_end - t_start)); \n",
        "\n",
        "\n",
        "t_start = time.time()\n",
        "X_cm = create_pairs(pdb_proteinName_medium, pdb_ligandName_medium, get_protein_amino_acids, get_ligand_ECFP,  protein_func_3D=get_protein_cut_contact_map)\n",
        "t_end = time.time(); print(\"----X_cm Elasped: %f seconds\" % (t_end - t_start)); \n",
        "\n",
        "t_start = time.time();\n",
        "X_cd = create_pairs(pdb_proteinName_medium, pdb_ligandName_medium, get_protein_amino_acids, get_ligand_ECFP,  protein_func_3D=get_protein_cut_center_distances)\n",
        "t_end = time.time(); print(\"----X_cd Elasped: %f seconds\" % (t_end - t_start)); \n",
        "\n",
        "y = pdb_affinity_medium\n",
        "\n",
        "print(\"X.shape = \", X.shape)\n",
        "print(\"X_cm.shape = \", X_cm.shape)\n",
        "print(\"X_cd.shape = \", X_cd.shape)\n",
        "print(\"y.shape = \", y.shape)\n"
      ],
      "execution_count": 76,
      "outputs": [
        {
          "output_type": "stream",
          "text": [
            "----X Elasped: 26.707390 seconds\n",
            "----X_cm Elasped: 53.254106 seconds\n",
            "----X_cd Elasped: 55.948591 seconds\n",
            "X_cm.shape =  (30, 3000)\n",
            "X_cd.shape =  (30, 3000)\n",
            "y.shape =  (30,)\n"
          ],
          "name": "stdout"
        }
      ]
    },
    {
      "cell_type": "markdown",
      "metadata": {
        "id": "GRXYpyYVSFYS"
      },
      "source": [
        "## 3. Train NN models"
      ]
    },
    {
      "cell_type": "code",
      "metadata": {
        "id": "ajD3NMMiNWFu"
      },
      "source": [
        "\n",
        "\n",
        "# Define the keras model \n",
        "def create_keras_model(input_size, output_size):\n",
        "    model = tf.keras.Sequential()\n",
        "    model.add(tf.keras.Input(shape=(input_size,)))\n",
        "    if input_size > 2048:\n",
        "      model.add(tf.keras.layers.Dense(2048, activation='relu'))\n",
        "    model.add(tf.keras.layers.Dense(1024, activation='relu'))\n",
        "    model.add(tf.keras.layers.Dense(256, activation='relu'))\n",
        "    model.add(tf.keras.layers.Dense(64, activation='relu'))\n",
        "    model.add(tf.keras.layers.Dense(4, activation='relu'))\n",
        "    model.add(tf.keras.layers.Dense(output_size, activation='linear'))\n",
        "    return model\n",
        "\n",
        "def train_test_model_dc(model_keras, pair_tr, affinity_tr, pair_ts, affinity_ts, epochs=20):\n",
        "  train_dataset = dc.data.NumpyDataset(X=pair_tr, y=affinity_tr.reshape(len(affinity_tr), 1))\n",
        "  test_dataset = dc.data.NumpyDataset(X=pair_ts, y=affinity_ts.reshape(len(affinity_ts), 1))\n",
        "  dc_model = dc.models.KerasModel(model_keras, dc.models.losses.L2Loss()) # we pass the model and a dc loss funciton\n",
        "  \n",
        "  dc_model.fit(train_dataset, nb_epoch=epochs)\n",
        "  metric = dc.metrics.Metric(dc.metrics.mean_squared_error)\n",
        "  print(\"\\nEvaluation:\")\n",
        "  print('training MSE:', dc_model.evaluate(train_dataset, [metric]))\n",
        "  print('test MSE:',dc_model.evaluate(test_dataset, [metric]))\n",
        "\n",
        "def split_data(X, y):\n",
        "    X_train, X_test, y_train, y_test = train_test_split(X, y, test_size=0.2, random_state=42, shuffle=True)\n",
        "    return X_train, X_test, y_train, y_test\n",
        "\n"
      ],
      "execution_count": 119,
      "outputs": []
    },
    {
      "cell_type": "code",
      "metadata": {
        "id": "JgxbowmXG3fn",
        "colab": {
          "base_uri": "https://localhost:8080/"
        },
        "outputId": "4c435652-9f0d-4ba9-a517-cdf1392183bb"
      },
      "source": [
        "# Input: X (vector length=2000), y(vector length=1000)\n",
        "X_train, X_test, y_train, y_test = split_data(X, y)\n",
        "print(\"X_train.shape = \", X_train.shape)\n",
        "print(\"X_test.shape = \", X_test.shape)\n",
        "\n",
        "print(\"\\ny_train.shape = \", y_train.shape)\n",
        "print(\"y_test.shape = \", y_test.shape)\n",
        "\n",
        "keras_model = create_keras_model(2000, 1)\n",
        "train_test_model_dc(keras_model, pair_tr=X_train, affinity_tr=y_train, pair_ts=X_test, affinity_ts=y_test, epochs=2)"
      ],
      "execution_count": 120,
      "outputs": [
        {
          "output_type": "stream",
          "text": [
            "X_train.shape =  (24, 2000)\n",
            "X_test.shape =  (6, 2000)\n",
            "\n",
            "y_train.shape =  (24,)\n",
            "y_test.shape =  (6,)\n",
            "\n",
            "Evaluation:\n",
            "computed_metrics: [75.58103426416277]\n",
            "training MSE: {'mean_squared_error': 75.58103426416277}\n",
            "computed_metrics: [112.87132786943853]\n",
            "test MSE: {'mean_squared_error': 112.87132786943853}\n"
          ],
          "name": "stdout"
        }
      ]
    },
    {
      "cell_type": "code",
      "metadata": {
        "colab": {
          "base_uri": "https://localhost:8080/"
        },
        "id": "l5JtEezEL-aY",
        "outputId": "859a3dba-68e1-4a43-e1ca-dd70579da706"
      },
      "source": [
        "# Input: X with contact map (vector length=3000), y(vector length=1000)\n",
        "X_train, X_test, y_train, y_test = split_data(X_cm, y)\n",
        "print(\"X_train.shape = \", X_train.shape)\n",
        "print(\"X_test.shape = \", X_test.shape)\n",
        "\n",
        "print(\"\\ny_train.shape = \", y_train.shape)\n",
        "print(\"y_test.shape = \", y_test.shape)\n",
        "\n",
        "keras_model = create_keras_model(3000, 1)\n",
        "train_test_model_dc(keras_model, pair_tr=X_train, affinity_tr=y_train, pair_ts=X_test, affinity_ts=y_test, epochs=2)"
      ],
      "execution_count": 121,
      "outputs": [
        {
          "output_type": "stream",
          "text": [
            "X_train.shape =  (24, 3000)\n",
            "X_test.shape =  (6, 3000)\n",
            "\n",
            "y_train.shape =  (24,)\n",
            "y_test.shape =  (6,)\n",
            "\n",
            "Evaluation:\n",
            "computed_metrics: [726.3915999508254]\n",
            "training MSE: {'mean_squared_error': 726.3915999508254}\n",
            "computed_metrics: [1411.6011459700105]\n",
            "test MSE: {'mean_squared_error': 1411.6011459700105}\n"
          ],
          "name": "stdout"
        }
      ]
    },
    {
      "cell_type": "code",
      "metadata": {
        "colab": {
          "base_uri": "https://localhost:8080/"
        },
        "id": "hezYUVuOME7c",
        "outputId": "a254dcd1-e149-4503-b7bb-65907c44910f"
      },
      "source": [
        "# Input: X with center distances (vector length=3000), y(vector length=1000)\n",
        "X_train, X_test, y_train, y_test = split_data(X_cd, y)\n",
        "print(\"X_train.shape = \", X_train.shape)\n",
        "print(\"X_test.shape = \", X_test.shape)\n",
        "\n",
        "print(\"\\ny_train.shape = \", y_train.shape)\n",
        "print(\"y_test.shape = \", y_test.shape)\n",
        "\n",
        "keras_model = create_keras_model(3000, 1)\n",
        "train_test_model_dc(keras_model, pair_tr=X_train, affinity_tr=y_train, pair_ts=X_test, affinity_ts=y_test, epochs=2)"
      ],
      "execution_count": 122,
      "outputs": [
        {
          "output_type": "stream",
          "text": [
            "X_train.shape =  (24, 3000)\n",
            "X_test.shape =  (6, 3000)\n",
            "\n",
            "y_train.shape =  (24,)\n",
            "y_test.shape =  (6,)\n",
            "\n",
            "Evaluation:\n",
            "computed_metrics: [49.712084211015906]\n",
            "training MSE: {'mean_squared_error': 49.712084211015906}\n",
            "computed_metrics: [25.204316570453447]\n",
            "test MSE: {'mean_squared_error': 25.204316570453447}\n"
          ],
          "name": "stdout"
        }
      ]
    },
    {
      "cell_type": "markdown",
      "metadata": {
        "id": "MGmlZlAn1KpB"
      },
      "source": [
        "Notes：\n",
        "* X\n",
        "\n",
        " **Training: MSE=0.?? (epoch=??); Test: MSE=0.??**\n",
        "\n",
        "* X contact map\n",
        "\n",
        " **Training: MSE=0.?? (epoch=??); Test: MSE=0.??**\n",
        "\n",
        "* X center distances\n",
        "\n",
        " **Training: MSE=0.?? (epoch=??); Test: MSE=0.??**\n"
      ]
    },
    {
      "cell_type": "markdown",
      "metadata": {
        "id": "my0BqyOkSFYa"
      },
      "source": [
        "## 4. Use  your model on COVID-19 protease"
      ]
    },
    {
      "cell_type": "markdown",
      "metadata": {
        "id": "rkmmMhjOSFYc"
      },
      "source": [
        "Now, use your trained model to identify drugs that could be used as COVID-19 protease inhibitors from these 2111 drugs in the dataset. The sequence of the protease is provided in `6Y84_A.fasta.txt`. You might want to first predict a binding affinity of Ritonavior, a well known HIV drug that binds to HIV protease, to get the sense of a good binding score for this task. SMILES of Ritonavior is provided below.  "
      ]
    },
    {
      "cell_type": "code",
      "metadata": {
        "id": "SN0eBnfUZloQ"
      },
      "source": [
        "# def protein2vec(protein_seq):\n",
        "#   return seq_to_cat(protein_seq)\n",
        "\n",
        "# def drug2vec(drug_smiles, nBits=NBITS):\n",
        "#   molecule = MolFromSmiles(drug_smiles)\n",
        "#   ECFP2 = Chem.GetMorganFingerprintAsBitVect(molecule, 2, nBits).ToBitString()#XM: default nBits=2048\n",
        "#   drug_ECFP = np.array(list(map(int, ECFP2)))\n",
        "#   return drug_ECFP\n",
        "\n",
        "\n",
        "# # train_dataset = dc.data.NumpyDataset(X=pair_tr, y=affinity_tr.reshape(len(affinity_tr), 1))\n",
        "# # dc_model = dc.models.KerasModel(keras_model, dc.models.losses.L2Loss()) # we pass the model and a dc loss funciton\n",
        "# # dc_model.fit(train_dataset, nb_epoch=20)\n",
        "# # print(\"dc_model is ready!\")\n",
        "\n",
        "# # def protein_drug_predict_dc(protein_vec, drug_vec):#XM: this doesn't work well on HIV\n",
        "# #   protein_drug_pair = np.concatenate((protein_vec, drug_vec))\n",
        "# #   protein_drug_pair = protein_drug_pair.reshape((1, len(protein_drug_pair)))\n",
        "\n",
        "# #   test_dataset = dc.data.NumpyDataset(X=protein_drug_pair)\n",
        "# #   return dc_model.predict(test_dataset)[0][0]\n",
        "\n",
        "# keras_model.compile(optimizer='adam',  \n",
        "#               loss= 'mean_squared_error', \n",
        "#               metrics=['mse']) \n",
        "# keras_model.fit(pair_tr, affinity_tr, epochs=20)\n",
        "# print(\"keras_model is ready!\")\n",
        "\n",
        "# keras_model2.compile(optimizer='adam',  \n",
        "#               loss= 'mean_squared_error', \n",
        "#               metrics=['mse']) \n",
        "# keras_model2.fit(pair_tr, affinity_tr, epochs=20)\n",
        "# print(\"keras_model2 is ready!\")\n",
        "\n",
        "# def protein_drug_predict(protein_vec, drug_vec, model):\n",
        "#   protein_drug_pair = np.concatenate((protein_vec, drug_vec))\n",
        "#   protein_drug_pair = protein_drug_pair.reshape((1, len(protein_drug_pair)))\n",
        "  \n",
        "#   return model.predict([protein_drug_pair])[0][0]\n"
      ],
      "execution_count": null,
      "outputs": []
    },
    {
      "cell_type": "code",
      "metadata": {
        "id": "Oj11JSsM2GfE"
      },
      "source": [
        "# # HIV: https://www.uniprot.org/uniprot/O90777; https://www.uniprot.org/uniprot/O90777/protvista\n",
        "# HIV_prot = 'PQVTLWQRPIVTIKIGGQLKEALLDTGADDTVLEEMSLPGKWKPKMIGGIGGFIKVRQYDQVSIEICGHKAIGTVLIGPTPVNIIGRNLLTQLGCTLNF'\n",
        "# HIV_vec = seq_to_cat(HIV_prot)\n",
        "# print(HIV_vec.shape)\n",
        "\n",
        "# ritonavior = 'CC(C)C1=NC(=CS1)CN(C)C(=O)NC(C(C)C)C(=O)NC(CC2=CC=CC=C2)CC(C(CC3=CC=CC=C3)NC(=O)OCC4=CN=CS4)O'\n",
        "# ritonavior_ECFP = drug2vec(ritonavior)\n",
        "# print(ritonavior_ECFP.shape)"
      ],
      "execution_count": null,
      "outputs": []
    },
    {
      "cell_type": "code",
      "metadata": {
        "id": "eZ_q2-bRWVsM"
      },
      "source": [
        "# print(\"HIV-Ritonavior binding score:\")\n",
        "# HIV_Ritonavior_score = protein_drug_predict(HIV_vec, ritonavior_ECFP, keras_model2)\n",
        "# HIV_Ritonavior_score"
      ],
      "execution_count": null,
      "outputs": []
    },
    {
      "cell_type": "code",
      "metadata": {
        "id": "tFg4eHP1YLer"
      },
      "source": [
        "# print(\"HIV-AnotherDrug binding scores:\")\n",
        "\n",
        "# HIV_affinities = []\n",
        "# for i,drug in enumerate(drugs):\n",
        "#   drug_ECFP = drug2vec(drug)\n",
        "#   aff = protein_drug_predict(HIV_vec, drug_ECFP, keras_model2)\n",
        "#   HIV_affinities.append(aff)\n",
        "\n",
        "# HIV_affinities = np.array(HIV_affinities)\n",
        "# print(HIV_affinities[:20])\n",
        "# print(sorted(np.array(list(set(HIV_affinities)))))\n",
        "\n",
        "# print(\"\\n\\nHow many drugs have better bindings with HIV, compared to Ritonavior?\")\n",
        "# print(len(HIV_affinities[HIV_affinities > HIV_Ritonavior_score]) / len(HIV_affinities))\n",
        "# print(\"How many drugs have equal bindings with HIV, compared to Ritonavior?\")\n",
        "# print(len(HIV_affinities[HIV_affinities == HIV_Ritonavior_score]) / len(HIV_affinities))"
      ],
      "execution_count": null,
      "outputs": []
    },
    {
      "cell_type": "markdown",
      "metadata": {
        "id": "W7Aon_2Pcvrw"
      },
      "source": [
        "* When using 1000-vector for drugs:\n",
        "\n",
        "   It seems almost 70% out of the 2111 drugs bind better with HIV, compared to Ritonavior. Thus our model might not be good enough?\n",
        "\n",
        "* When using 1000-vector for drugs:\n",
        "\n",
        "  Indeed Ritonavior has the highest binding score, but 94% of the 2111 drugs have the same binding score...\n"
      ]
    },
    {
      "cell_type": "code",
      "metadata": {
        "id": "cWqUOWkTP9oR"
      },
      "source": [
        "# COVID_list = []\n",
        "# with open('data_Drug_target_binding_affinity/data/6Y84_A.fasta.txt', 'r') as f:\n",
        "#     for line in f:\n",
        "#         COVID_list.append(line[:-1])\n",
        "\n",
        "# COVID_seq = ''\n",
        "# for s in COVID_list[1:]:\n",
        "#   COVID_seq += s\n",
        "# print(\"COVID-19 amino acids sequence: \", COVID_seq)\n",
        "# COVID_vec = seq_to_cat(COVID_seq)"
      ],
      "execution_count": null,
      "outputs": []
    },
    {
      "cell_type": "code",
      "metadata": {
        "id": "WNZ6n7PvenTA"
      },
      "source": [
        "# print(\"COVID-Drug binding scores:\")\n",
        "# COVID_affinities = []\n",
        "# for i,drug in enumerate(drugs):\n",
        "#   drug_ECFP = drug2vec(drug)\n",
        "#   aff = protein_drug_predict(COVID_vec, drug_ECFP, keras_model2)\n",
        "#   COVID_affinities.append(aff)\n",
        "\n",
        "# COVID_affinities = np.array(COVID_affinities)\n",
        "# print(COVID_affinities[:20])"
      ],
      "execution_count": null,
      "outputs": []
    },
    {
      "cell_type": "code",
      "metadata": {
        "id": "xlOUQc2Xepx4"
      },
      "source": [
        "# print(\"Below are the Top 5 drug candidates for COVID-19:\")\n",
        "# print(\"Affinitiy score       Drug smiles: \")\n",
        "# for idx in np.argsort(COVID_affinities)[-5:]:\n",
        "#   drug_smiles = drugs[idx]\n",
        "#   aff_score = COVID_affinities[idx]\n",
        "#   print(aff_score, \"         \",  drug_smiles)"
      ],
      "execution_count": null,
      "outputs": []
    },
    {
      "cell_type": "code",
      "metadata": {
        "id": "DfW-Ug8sSIbe"
      },
      "source": [
        ""
      ],
      "execution_count": null,
      "outputs": []
    }
  ]
}
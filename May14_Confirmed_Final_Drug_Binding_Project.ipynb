{
  "nbformat": 4,
  "nbformat_minor": 0,
  "metadata": {
    "colab": {
      "name": "May14_Confirmed_Final_Drug_Binding_Project (1).ipynb",
      "provenance": [],
      "collapsed_sections": [],
      "toc_visible": true
    },
    "kernelspec": {
      "display_name": "Python 3",
      "language": "python",
      "name": "python3"
    },
    "language_info": {
      "codemirror_mode": {
        "name": "ipython",
        "version": 3
      },
      "file_extension": ".py",
      "mimetype": "text/x-python",
      "name": "python",
      "nbconvert_exporter": "python",
      "pygments_lexer": "ipython3",
      "version": "3.8.3"
    },
    "toc": {
      "base_numbering": 1,
      "nav_menu": {},
      "number_sections": true,
      "sideBar": true,
      "skip_h1_title": false,
      "title_cell": "Table of Contents",
      "title_sidebar": "Contents",
      "toc_cell": false,
      "toc_position": {},
      "toc_section_display": true,
      "toc_window_display": false
    },
    "accelerator": "GPU"
  },
  "cells": [
    {
      "cell_type": "markdown",
      "metadata": {
        "id": "XN6dxHwuSFXW"
      },
      "source": [
        "# AM216 Final-Project: Extend Mini-Project: Predicting drug target interaction using 3D information and predicting ligands that can bind to COVID-19 targets.\n",
        "\n",
        "Components of X:\n",
        "*   **Protein**: residues chains (vector length 1000 or other lengths we choose to truncate)\n",
        "*   **Protein 3D**: contact map of residue distances (vector length around ~20000 after flattening the triangular matrix; need to standardize)\n",
        "*   **Ligand**: ECFP signature (1024 or 2048)\n",
        "\n",
        "y: affinity score\n",
        "\n",
        "Proposed models:\n",
        "1.   **Mini project**: concatenate protein residue chain and ligant signature to get X\n",
        "2.   **Just contact map**: concatenate flattened contact map and ligand signature to get X\n",
        "3.   **Early fusion**: concatenate protein residue chain, flattened contact map and ligand signature to get X\n",
        "4.   **Late fusion**: train and predict using Model 1 and Model 2 separately, consensus model at the end\n",
        "5.   **CNN**: Instead of flattening contact map, use convolutaional NN to convolve the map and derive flattened layer\n",
        "6.   **Pocket**: Instead of using the contact map of the whole protein, get the residues of the just the pocket and get the contact map\n",
        "\n",
        "\n",
        "\n",
        "\n",
        "\n",
        "\n",
        "\n",
        "\n"
      ]
    },
    {
      "cell_type": "markdown",
      "metadata": {
        "id": "wVhNjK4kSFXZ"
      },
      "source": [
        "## 1. Install Packages\n",
        "\n",
        "*   Rdkit\n",
        "*   Deepchem\n",
        "* Lifelines (calculate CI scores faster)\n",
        "* Biopython (BioPython's **Bio.PDB** module includes code to load PDB files and calculate the alpha carbon distance between pair of their residues)\n",
        "\n",
        "\n",
        "\n"
      ]
    },
    {
      "cell_type": "code",
      "metadata": {
        "id": "G7fQCZJ8q9Je",
        "colab": {
          "base_uri": "https://localhost:8080/"
        },
        "outputId": "df1dfb60-9ad9-42a7-e9d1-57ca0e2111f5"
      },
      "source": [
        "%tensorflow_version 1.x"
      ],
      "execution_count": 1,
      "outputs": [
        {
          "output_type": "stream",
          "text": [
            "TensorFlow 1.x selected.\n"
          ],
          "name": "stdout"
        }
      ]
    },
    {
      "cell_type": "code",
      "metadata": {
        "id": "ps7x414nDcHu",
        "scrolled": true,
        "colab": {
          "base_uri": "https://localhost:8080/"
        },
        "outputId": "dfedd5bf-a668-4efb-bf99-a8fec29840ff"
      },
      "source": [
        "%%capture cap --no-stderr \n",
        "#%%capture is used to suppress the output of this particular cell \n",
        "from sklearn import preprocessing\n",
        "from sklearn import utils\n",
        "import sys\n",
        "import time\n",
        "import os.path\n",
        "if not os.path.exists('Anaconda3-2019.10-Linux-x86_64.sh'):\n",
        "  t_start = time.time()\n",
        "  !wget -c https://repo.anaconda.com/archive/Anaconda3-2019.10-Linux-x86_64.sh\n",
        "  !chmod +x Anaconda3-2019.10-Linux-x86_64.sh\n",
        "  !bash ./Anaconda3-2019.10-Linux-x86_64.sh -b -f -p /usr/local\n",
        "  print(\"Done: Anaconda3\", file=sys.stderr)\n",
        "  t_end = time.time(); print(\"----Elasped: %f seconds\" % (t_end - t_start), file=sys.stderr); t_start = time.time();\n",
        "\n",
        "\n",
        "  !conda install -y -c deepchem -c rdkit -c conda-forge -c omnia deepchem-gpu=2.3.0\n",
        "  \n",
        "  print(\"Done: deepchem & rdkit\", file=sys.stderr)\n",
        "  # !conda create -c conda-forge -n my-rdkit-env rdkit;\n",
        "  # !activate my-rdkit-env; #(OR TRY: !activate my-rdkit-env)\n",
        "  # !conda install -c conda-forge rdkit;\n",
        "  # print(\"Done: rdkit\", file=sys.stderr)\n",
        "  t_end = time.time(); print(\"----Elasped: %f seconds\" % (t_end - t_start), file=sys.stderr); t_start = time.time();\n",
        "\n",
        "  !pip install lifelines;\n",
        "  !pip install biopython;\n",
        "  !pip install mmtf-python;\n",
        "  print(\"Done: pip install lifelines & biopython & mmtf-python\", file=sys.stderr)\n",
        "  t_end = time.time(); print(\"----Elasped: %f seconds\" % (t_end - t_start), file=sys.stderr);"
      ],
      "execution_count": 2,
      "outputs": [
        {
          "output_type": "stream",
          "text": [
            "Done: Anaconda3\n",
            "----Elasped: 86.172290 seconds\n",
            "Done: deepchem & rdkit\n",
            "----Elasped: 259.604990 seconds\n",
            "Done: pip install lifelines & biopython & mmtf-python\n",
            "----Elasped: 9.091208 seconds\n"
          ],
          "name": "stderr"
        }
      ]
    },
    {
      "cell_type": "code",
      "metadata": {
        "id": "IcdYdzPuHNfH"
      },
      "source": [
        "%%capture\n",
        "import sys\n",
        "sys.path.append('/usr/local/lib/python3.7/site-packages/')\n",
        "import warnings\n",
        "warnings.filterwarnings(\"ignore\")\n",
        "\n",
        "import deepchem as dc\n",
        "import numpy as np\n",
        "import os.path\n",
        "import urllib.request\n",
        "import pandas as pd\n",
        "import Bio.PDB\n",
        "import tensorflow as tf\n",
        "\n",
        "\n",
        "from rdkit.Chem import AllChem as Chem\n",
        "from rdkit.Chem import MolFromSmiles\n",
        "from Bio.PDB.mmtf import MMTFParser\n",
        "\n",
        "  \n",
        "import matplotlib.pyplot as plt\n",
        "import json\n",
        "import pickle\n",
        "import networkx as nx\n",
        "from collections import OrderedDict\n",
        "from lifelines.utils import concordance_index as ci\n",
        "from sklearn.model_selection import train_test_split\n"
      ],
      "execution_count": 3,
      "outputs": []
    },
    {
      "cell_type": "markdown",
      "metadata": {
        "id": "6Cl4Ai8CSFYE"
      },
      "source": [
        "## 2. Parsing Data\n",
        "TODO: describe the data we are using.\n",
        "\n",
        "### 2.1 Parsing PDB data to get the 3D info\n"
      ]
    },
    {
      "cell_type": "code",
      "metadata": {
        "id": "IHNSbOVERrb_"
      },
      "source": [
        "def subsample(dataFrame, n_or_frac):\n",
        "  if n_or_frac < 1.0:\n",
        "    return dataFrame.sample(frac = n_or_frac)\n",
        "  else:\n",
        "    return dataFrame.sample(n = n_or_frac)\n",
        "\n",
        "with open('Ligand_Dict.json') as f:\n",
        "    ligand_dict = json.load(f)\n",
        "pdb_data = pd.read_csv('PDBbind2019PLdata_cleaned.csv')\n",
        "\n",
        "\n",
        "pdb_proteinName = np.array(pdb_data['proteinName'])\n",
        "pdb_affinity = np.array(pdb_data['affinity'])\n",
        "pdb_ligandName = np.array(pdb_data['ligandName'])\n",
        "\n",
        "\n",
        "# pdb_data_small = pd.read_csv('pdbbind_core_df_cleaned.csv')\n",
        "# pdb_proteinName_small = np.array(pdb_data_small['proteinName'])\n",
        "# pdb_affinity_small = np.array(pdb_data_small['affinity'])\n",
        "# pdb_ligandName_small = np.array(pdb_data_small['ligandName'])\n",
        "\n",
        "\n",
        "# SAMPLE_SIZE = 30\n",
        "# pdb_data_medium = subsample(pdb_data, SAMPLE_SIZE)\n",
        "# pdb_proteinName_medium = np.array(pdb_data_medium['proteinName'])\n",
        "# pdb_affinity_medium = np.array(pdb_data_medium['affinity'])\n",
        "# pdb_ligandName_medium = np.array(pdb_data_medium['ligandName'])"
      ],
      "execution_count": 4,
      "outputs": []
    },
    {
      "cell_type": "code",
      "metadata": {
        "id": "5rpxK-GhRuFF",
        "colab": {
          "base_uri": "https://localhost:8080/"
        },
        "outputId": "5f98547f-37e7-4e9d-cea8-ed9e48b52379"
      },
      "source": [
        "print(\"pdb_proteinName.shape:\", pdb_proteinName.shape)\n",
        "print(\"pdb_affinity.shape:\", pdb_affinity.shape)\n",
        "print(\"pdb_ligandName.shape:\", pdb_ligandName.shape)\n",
        "\n",
        "# print(\"\\n\\npdb_proteinName_small.shape:\", pdb_proteinName_small.shape)\n",
        "# print(\"pdb_affinity_small.shape:\", pdb_affinity_small.shape)\n",
        "# print(\"pdb_ligandName_small.shape:\", pdb_ligandName_small.shape)\n",
        "\n",
        "# print(\"\\n\\npdb_proteinName_medium.shape:\", pdb_proteinName_medium.shape)\n",
        "# print(\"pdb_affinity_medium.shape:\", pdb_affinity_medium.shape)\n",
        "# print(\"pdb_ligandName_medium.shape:\", pdb_ligandName_medium.shape)"
      ],
      "execution_count": 5,
      "outputs": [
        {
          "output_type": "stream",
          "text": [
            "pdb_proteinName.shape: (15080,)\n",
            "pdb_affinity.shape: (15080,)\n",
            "pdb_ligandName.shape: (15080,)\n"
          ],
          "name": "stdout"
        }
      ]
    },
    {
      "cell_type": "markdown",
      "metadata": {
        "id": "OR1G-0oxQSIx"
      },
      "source": [
        " #### 3D Representation 1: Contact map\n",
        "\n",
        "We get the list of residues in each protein and treat that as a single chain to calculate the contact map of this protein. After flattened, the length of the contact map vector should be **O(residue_count * residue_count)**, which is too big for some proteins with large number of residues. Hence, we tried to shrink it by collapsing the 3D coordinates a group of neighboring residues into a single one."
      ]
    },
    {
      "cell_type": "code",
      "metadata": {
        "id": "WTIiSHZRSFYF"
      },
      "source": [
        "def filter_residues(residues):\n",
        "  new_residues = []\n",
        "  for res in residues:\n",
        "    if 'CA' in res:\n",
        "      new_residues.append(res)\n",
        "  return new_residues\n",
        "\n",
        "def calc_residue_dist_by_residues(residue_one, residue_two) :\n",
        "    \"\"\"Returns the C-alpha distance between two residues\"\"\"\n",
        "    diff_vector  = residue_one[\"CA\"].coord - residue_two[\"CA\"].coord\n",
        "    return np.sqrt(np.sum(diff_vector * diff_vector))\n",
        "\n",
        "#Essentially the Euclidean distance between 2 coords\n",
        "def calc_residue_dist_by_coords(coord1, coord2) :\n",
        "    \"\"\"Returns the C-alpha distance between two residues\"\"\"\n",
        "    diff_vector  = coord1 - coord2\n",
        "    # return np.sqrt(np.sum(diff_vector * diff_vector))\n",
        "    return np.linalg.norm(diff_vector)\n",
        "\n",
        "\n",
        "\n",
        "# We expect residue_list1 and residue_list2 to be the same thing: residue list of one protein. Hence the result should be a symmetric matrix, and thus we decided to only calculate the independent entries.\n",
        "def calc_dist_matrix_by_residues(residue_list1) :\n",
        "    \"\"\"Returns a matrix of C-alpha distances between two chains\"\"\"\n",
        "    # answer = np.zeros((len(residue_list1), len(chain_two)), np.float)\n",
        "    answer = []\n",
        "    for row, residue_one in enumerate(residue_list1) :\n",
        "        for col, residue_two in enumerate(residue_list1[row+1:]) :\n",
        "            answer.append(calc_residue_dist(residue_one, residue_two))\n",
        "    return answer\n",
        "\n",
        "def calc_dist_matrix_by_coords(coord_list1) :\n",
        "    \"\"\"Returns a matrix of C-alpha distances between two chains\"\"\"\n",
        "    # answer = np.zeros((len(residue_list1), len(chain_two)), np.float)\n",
        "    answer = []\n",
        "    for row, coord1 in enumerate(coord_list1) :\n",
        "        for col, coord2 in enumerate(coord_list1[row+1:]) :\n",
        "            answer.append(calc_residue_dist_by_coords(coord1, coord2))\n",
        "    return answer\n",
        "\n",
        "\n",
        "# Returns the contact map for one protein and prints the info - slow (for demonstration purpose)\n",
        "# It does the shrinking by shrinking_ratio within each chain (coords from end of chain1 and start of chain 2 will NOT be collapsed together).\n",
        "def get_protein_contact_map_slow(proteinName, shrinking_ratio=20):\n",
        "  structure=MMTFParser.get_structure_from_url(proteinName)\n",
        "  all_chains =structure[0]\n",
        "  \n",
        "  #Get 1.residues: list of all residues in the protein\n",
        "#      2.CA_coord_list has length equal num of chains. \n",
        "  residues = []\n",
        "  CA_coord_list = []\n",
        "\n",
        "  for idx_chain, chain in enumerate(all_chains):\n",
        "    CA_curr_chain = []\n",
        "    for idx_residue, residue in enumerate(chain):\n",
        "      residues.append(residue)\n",
        "      if 'CA' in residue:\n",
        "        CA_curr_chain.append(residue['CA'].coord)\n",
        "    CA_coord_list.append(CA_curr_chain)\n",
        "    print(\"Chain with id %d has %d residues in total, and %d residues with CA.\" % (idx_chain, len(chain), len(CA_curr_chain)))\n",
        "  print(\"\\nCount of residues: \", len(residues))\n",
        "  residues = filter_residues(residues)\n",
        "  print(\"Count of residues with CA: \", len(residues))\n",
        "\n",
        "\n",
        "  # Get coord_list: collapsing list of CA coords of all resiudues with CA in the protein\n",
        "  coord_list = []\n",
        "  for CA_curr_chain in CA_coord_list:\n",
        "    cutting_points = list(np.arange(0,len(CA_curr_chain),shrinking_ratio))\n",
        "    cutting_points.append(len(CA_curr_chain))\n",
        "    for i, start in enumerate(cutting_points[:-1]):\n",
        "      end = cutting_points[i+1]\n",
        "      coord_list.append(np.mean(CA_curr_chain[start:end],axis=0))\n",
        "  print(\"After shrinking, len(coord_list) = \", len(coord_list))\n",
        "\n",
        "\n",
        "  # Calculate contact_map: pair wise distance of the coords\n",
        "  contact_map = calc_dist_matrix_by_coords(coord_list)\n",
        "  print(\"len(contact_map) = \", len(contact_map))\n",
        "  return contact_map\n",
        "\n",
        "\n",
        "\n",
        "# Returns the contact map for one protein and does not print the info - fast\n",
        "# It does not do the exact shrinking within each chain (That is, coords from end of chain1 and start of chain 2 will be collapsed together).\n",
        "def get_protein_contact_map(proteinName, shrinking_ratio=20):\n",
        "  structure=MMTFParser.get_structure_from_url(proteinName)\n",
        "  all_chains =structure[0]\n",
        "  \n",
        "  #Get CA_coord_list: list of CA coords of all residues with CA\n",
        "  CA_coord_list = []\n",
        "  for idx_chain, chain in enumerate(all_chains):\n",
        "    for idx_residue, residue in enumerate(chain):\n",
        "      if 'CA' in residue:\n",
        "        CA_coord_list.append(residue['CA'].coord)\n",
        "  # print(\"len(CA_coord_list) = \", len(CA_coord_list))\n",
        "\n",
        "  # Get coord_list: collapsing list of CA coords of all resiudues with CA in the protein\n",
        "  coord_list = []\n",
        "  cutting_points = list(np.arange(0,len(CA_coord_list),shrinking_ratio))\n",
        "  cutting_points.append(len(CA_coord_list))\n",
        "  for i, start in enumerate(cutting_points[:-1]):\n",
        "    end = cutting_points[i+1]\n",
        "    coord_list.append(np.mean(CA_coord_list[start:end],axis=0))\n",
        "  # print(\"After shrinking, len(coord_list) = \", len(coord_list))\n",
        "\n",
        "  # Calculate contact_map: pair wise distance of the coords\n",
        "  contact_map = calc_dist_matrix_by_coords(coord_list)\n",
        "  # print(\"len(contact_map) = \", len(contact_map))\n",
        "\n",
        "  return contact_map\n",
        "\n",
        "\n",
        "\n",
        "#Cutting/Padding: use the code from miniproject (how they got 1000-long vector for proteins)\n",
        "CONTACT_MAP_LENGTH=1000\n",
        "\n",
        "def cut_or_pad(my_list, length):\n",
        "    array = np.zeros(length)\n",
        "    for i, row in enumerate(my_list[:length]): \n",
        "        array[i] = row\n",
        "    return array \n",
        "\n",
        "def get_protein_cut_contact_map(proteinName, shrinking_ratio=20):\n",
        "  contact_map_uncut = get_protein_contact_map(proteinName, shrinking_ratio)\n",
        "  contact_map = cut_or_pad(contact_map_uncut, CONTACT_MAP_LENGTH)\n",
        "  return contact_map\n"
      ],
      "execution_count": 6,
      "outputs": []
    },
    {
      "cell_type": "code",
      "metadata": {
        "id": "956Vp1I1MdyU"
      },
      "source": [
        ""
      ],
      "execution_count": null,
      "outputs": []
    },
    {
      "cell_type": "markdown",
      "metadata": {
        "id": "ZWoFSHCYVkwh"
      },
      "source": [
        "Below we are trying to find the fastest way to loop through all residues and get the CA coords from residues with CA.\n",
        "\n",
        "Conclusion: for all the 5 approaches we tried, including using list comprehensiong and mapping, it still takes about 0.5 sec to calculate the CA coordinate list for 1 protein."
      ]
    },
    {
      "cell_type": "markdown",
      "metadata": {
        "id": "O_vhsk-UfzkS"
      },
      "source": [
        "Now we continue processing the contact maps for all proteins. Then we need to do cutting/padding on the data (list of distinct-length lists) so they have equal length in the end (list of equal-length lists)"
      ]
    },
    {
      "cell_type": "code",
      "metadata": {
        "id": "jwP4uZBIO15s",
        "colab": {
          "base_uri": "https://localhost:8080/",
          "height": 232
        },
        "outputId": "1c88d3ae-18f2-47de-e1d4-d27bb07bf7a5"
      },
      "source": [
        "# Get contact maps for all proteins:\n",
        "SHRINKING_RATIO = 20 #after exploring, 20 is a good SHRINKING_RATIO to shrink the contact maps into reasonable lengths\n",
        "contact_maps = []\n",
        "lens = []\n",
        "\n",
        "for i in range(len(pdb_proteinName_medium)):\n",
        "  cm = get_protein_contact_map(pdb_proteinName_medium[i], shrinking_ratio=SHRINKING_RATIO)\n",
        "  contact_maps.append(cm)\n",
        "  lens.append(len(cm))\n",
        "  \n",
        "  if i %10==0:\n",
        "    print(i, end=\",\")\n",
        "  \n",
        "print(\"\\nNum of contact maps: \", len(contact_maps))\n",
        "print(\"Min length = \", np.min(lens))\n",
        "print(\"Max length = \", np.max(lens))\n",
        "plt.hist(lens, bins=100);\n",
        "plt.title(\"Distribution of lengths of contact maps (before cutting/padding)\");\n"
      ],
      "execution_count": 8,
      "outputs": [
        {
          "output_type": "error",
          "ename": "NameError",
          "evalue": "ignored",
          "traceback": [
            "\u001b[0;31m---------------------------------------------------------------------------\u001b[0m",
            "\u001b[0;31mNameError\u001b[0m                                 Traceback (most recent call last)",
            "\u001b[0;32m<ipython-input-8-2fcb78f82ce3>\u001b[0m in \u001b[0;36m<module>\u001b[0;34m()\u001b[0m\n\u001b[1;32m      4\u001b[0m \u001b[0mlens\u001b[0m \u001b[0;34m=\u001b[0m \u001b[0;34m[\u001b[0m\u001b[0;34m]\u001b[0m\u001b[0;34m\u001b[0m\u001b[0;34m\u001b[0m\u001b[0m\n\u001b[1;32m      5\u001b[0m \u001b[0;34m\u001b[0m\u001b[0m\n\u001b[0;32m----> 6\u001b[0;31m \u001b[0;32mfor\u001b[0m \u001b[0mi\u001b[0m \u001b[0;32min\u001b[0m \u001b[0mrange\u001b[0m\u001b[0;34m(\u001b[0m\u001b[0mlen\u001b[0m\u001b[0;34m(\u001b[0m\u001b[0mpdb_proteinName_medium\u001b[0m\u001b[0;34m)\u001b[0m\u001b[0;34m)\u001b[0m\u001b[0;34m:\u001b[0m\u001b[0;34m\u001b[0m\u001b[0;34m\u001b[0m\u001b[0m\n\u001b[0m\u001b[1;32m      7\u001b[0m   \u001b[0mcm\u001b[0m \u001b[0;34m=\u001b[0m \u001b[0mget_protein_contact_map\u001b[0m\u001b[0;34m(\u001b[0m\u001b[0mpdb_proteinName_medium\u001b[0m\u001b[0;34m[\u001b[0m\u001b[0mi\u001b[0m\u001b[0;34m]\u001b[0m\u001b[0;34m,\u001b[0m \u001b[0mshrinking_ratio\u001b[0m\u001b[0;34m=\u001b[0m\u001b[0mSHRINKING_RATIO\u001b[0m\u001b[0;34m)\u001b[0m\u001b[0;34m\u001b[0m\u001b[0;34m\u001b[0m\u001b[0m\n\u001b[1;32m      8\u001b[0m   \u001b[0mcontact_maps\u001b[0m\u001b[0;34m.\u001b[0m\u001b[0mappend\u001b[0m\u001b[0;34m(\u001b[0m\u001b[0mcm\u001b[0m\u001b[0;34m)\u001b[0m\u001b[0;34m\u001b[0m\u001b[0;34m\u001b[0m\u001b[0m\n",
            "\u001b[0;31mNameError\u001b[0m: name 'pdb_proteinName_medium' is not defined"
          ]
        }
      ]
    },
    {
      "cell_type": "code",
      "metadata": {
        "id": "A7T0ZsUGjWRy",
        "colab": {
          "base_uri": "https://localhost:8080/"
        },
        "outputId": "55c2b998-7369-49bb-abfb-5efb2877e2c7"
      },
      "source": [
        "#Cutting/Padding: use the code from miniproject (how they got 1000-long vector for proteins)\n",
        "CONTACT_MAP_LENGTH=1000\n",
        "\n",
        "\n",
        "contact_maps = np.array([cut_or_pad(cm, CONTACT_MAP_LENGTH) for cm in contact_maps])\n",
        "print(\"contact_maps.shape = \", contact_maps.shape)"
      ],
      "execution_count": null,
      "outputs": [
        {
          "output_type": "stream",
          "text": [
            "contact_maps.shape =  (30, 1000)\n"
          ],
          "name": "stdout"
        }
      ]
    },
    {
      "cell_type": "markdown",
      "metadata": {
        "id": "5KzHP22jZ81f"
      },
      "source": [
        "Note: After optimizing the code as much as we can, getting the contact maps of proteins is still slow because of the unavoidable calculation to loop through the residues and get the coordinates of their CA (if exists). Each protein takes about **1 sec** to calculate its contact map. This situation is the same for the 2nd 3D representation: using distances from the center.\n",
        "\n",
        "Hence, we will try to use the medium (sampled from the total 17680 data points) or small data set (from 'pdbbind_core_df_cleaned.csv', which only has 193 data points)."
      ]
    },
    {
      "cell_type": "markdown",
      "metadata": {
        "id": "t3AugtrwREe3"
      },
      "source": [
        " #### 3D Representation 2: Center Distances (Distances of residues from the center.)\n",
        "We assume a center for the protein, which is calculated by averaging the 3D coordinates of the residues. Then we use the distances of residues from this center as our 3D representation of this protein. One advantage of this representation is that the final length is of order **O(residue_count)**.\n"
      ]
    },
    {
      "cell_type": "code",
      "metadata": {
        "id": "Xl-V-z8XRDS6"
      },
      "source": [
        "CENTER_DISTANCES_LENGTH = 1000\n",
        "def get_protein_center_distances(proteinName, printInfo=False):\n",
        "  all_chains=MMTFParser.get_structure_from_url(proteinName)[0]\n",
        "  \n",
        "  #Step1: Get CA_coord_list: list of CA coords of all residues with CA\n",
        "  CA_coord_list = []\n",
        "  for idx_chain, chain in enumerate(all_chains):\n",
        "    for idx_residue, residue in enumerate(chain):\n",
        "      if 'CA' in residue:\n",
        "        CA_coord_list.append(residue['CA'].coord)\n",
        "  if printInfo:\n",
        "    print(\"len(CA_coord_list) = \", len(CA_coord_list))\n",
        "\n",
        "  #Step2: average coords to get center\n",
        "  center = np.mean(CA_coord_list, axis=0)\n",
        "  if printInfo:\n",
        "    print(\"center = \", center)\n",
        "\n",
        "\n",
        "  #Step3: calculate distances from the center\n",
        "  distances = []\n",
        "  for coord in CA_coord_list:\n",
        "    dist = calc_residue_dist_by_coords(center, coord)#Essentially the Euclidean distance between 2 coords\n",
        "    distances.append(dist)\n",
        "  if printInfo:\n",
        "    print(\"len(distances) = \", len(distances))\n",
        "\n",
        "  return distances\n",
        "\n",
        "\n",
        "\n",
        "def get_protein_cut_center_distances(proteinName):\n",
        "  distances_uncut = get_protein_center_distances(proteinName)\n",
        "  distances = cut_or_pad(distances_uncut, CENTER_DISTANCES_LENGTH)\n",
        "  return distances"
      ],
      "execution_count": 7,
      "outputs": []
    },
    {
      "cell_type": "code",
      "metadata": {
        "id": "VgAx2YFohBuF",
        "colab": {
          "base_uri": "https://localhost:8080/",
          "height": 349
        },
        "outputId": "fa11b16d-adac-4291-9c1e-14b41aea0b68"
      },
      "source": [
        "# Get center_distances for all proteins:\n",
        "\n",
        "center_distances = []\n",
        "lens = []\n",
        "for i in range(len(pdb_proteinName_medium)):\n",
        "  d = get_protein_center_distances(pdb_proteinName_medium[i])\n",
        "  center_distances.append(d)\n",
        "  lens.append(len(d))\n",
        "  \n",
        "  if i %10==0:\n",
        "    print(i, end=\",\")\n",
        "  \n",
        "\n",
        "print(\"\\nNum of contact maps: \", len(center_distances))\n",
        "print(\"Min length = \", np.min(lens))\n",
        "print(\"Max length = \", np.max(lens))\n",
        "plt.hist(lens, bins=100);\n",
        "plt.title(\"Distribution of lengths of center_distances (before cutting/padding)\");\n"
      ],
      "execution_count": null,
      "outputs": [
        {
          "output_type": "stream",
          "text": [
            "0,10,20,\n",
            "Num of contact maps:  30\n",
            "Min length =  155\n",
            "Max length =  4044\n"
          ],
          "name": "stdout"
        },
        {
          "output_type": "display_data",
          "data": {
            "image/png": "[encoded data removed]",
            "text/plain": [
              "<Figure size 432x288 with 1 Axes>"
            ]
          },
          "metadata": {
            "tags": [],
            "needs_background": "light"
          }
        }
      ]
    },
    {
      "cell_type": "code",
      "metadata": {
        "id": "0cNfNwXGjx8v",
        "colab": {
          "base_uri": "https://localhost:8080/"
        },
        "outputId": "7fae9e33-5c1b-47f3-ca93-8852a1a3644a"
      },
      "source": [
        "#Cutting/Padding: use the code from miniproject (how they got 1000-long vector for proteins)\n",
        "CENTER_DISTANCE_LENGTH=1000\n",
        "\n",
        "center_distances = np.array([cut_or_pad(d, CENTER_DISTANCE_LENGTH) for d in center_distances])\n",
        "print(\"center_distances.shape = \", center_distances.shape)"
      ],
      "execution_count": null,
      "outputs": [
        {
          "output_type": "stream",
          "text": [
            "center_distances.shape =  (30, 1000)\n"
          ],
          "name": "stdout"
        }
      ]
    },
    {
      "cell_type": "markdown",
      "metadata": {
        "id": "Qc16K36GXF5c"
      },
      "source": [
        "### 2.2 Parse Protein Amino Acid Sequence (length = *1000*)\n",
        "\n",
        "Now we parse data same as KIBA data in the Mini Project. We get a 1000-long vector representation for each protein. Then we concatenate with the 1000-long vector with 3D information (contact map / center distance). Use the total 2000-long vector as the representation for each protein. [link text](https://)"
      ]
    },
    {
      "cell_type": "code",
      "metadata": {
        "id": "djVulSzKAAKG"
      },
      "source": [
        "amino_acid_dict = {'ALA':'A','ARG':'R','ASN':'N','ASP':'D','ASX':'B','CYS':'C','GLU':'E','GLN':'Q','GLX':'Z','GLY':'G','HIS':'H','ILE':'I','LEU':'L','LYS':'K','MET':'M','PHE':'F','PRO':'P','SER':'S','THR':'T','TRP':'W','TYR':'Y','VAL':'V'}\n",
        "def get_amino_acid_seq(proteinName):\n",
        "  structure=MMTFParser.get_structure_from_url(proteinName)\n",
        "  residues = structure.get_residues()\n",
        "\n",
        "  seq = ''\n",
        "  for i, res in enumerate(residues):\n",
        "    try:\n",
        "      letter3 = res.get_resname()\n",
        "      letter1 =  amino_acid_dict[letter3]\n",
        "      seq += letter1\n",
        "    except KeyError:\n",
        "      continue\n",
        "  return seq\n"
      ],
      "execution_count": 8,
      "outputs": []
    },
    {
      "cell_type": "code",
      "metadata": {
        "id": "IgvY_0TvBBfH",
        "colab": {
          "base_uri": "https://localhost:8080/",
          "height": 188
        },
        "outputId": "a0e17ef7-0232-4998-c2e6-2f62ca9d1648"
      },
      "source": [
        "seq = get_amino_acid_seq(pdb_proteinName[0])\n",
        "seq"
      ],
      "execution_count": null,
      "outputs": [
        {
          "output_type": "execute_result",
          "data": {
            "application/vnd.google.colaboratory.intrinsic+json": {
              "type": "string"
            },
            "text/plain": [
              "'NGFSATRSTVIQLLNNISTKREVEQYLKYFTSVSQQQFAVIKVGGAIISDNLHELASCLAFLYHVGLYPIVLHGTGPQVNGRLEAQGIEPDYIDGIRITDEHTMAVVRKCFLEQNLKLVTALEQLGVRARPITSGVFTADYLDKDKYKLVGNIKSVTKEPIEASIKAGALPILTSLAETASGQMLNVNADVAAGELARVFEPLKIVYLNEKGGIINGSTGEKISMINLDEEYDDLMKQSWVKYGTKLKIREIKELLDYLPRSSSVAIINVQDLQKELFTDSGAGTMIRRGYGFSATRSTVIQLLNNISTKREVEQYLKYFTSVSQQQFAVIKVGGAIISDNLHELASCLAFLYHVGLYPIVLHGTGPQVNGRLEAQGIEPDYIDGIRITDEHTMAVVRKCFLEQNLKLVTALEQLGVRARPITSGVFTADYLDKDKYKLVGNIKSVTKEPIEASIKAGALPILTSLAETASGQMLNVNADVAAGELARVFEPLKIVYLNEKGGIINGSTGEKISMINLDEEYDDLMKQSWVKYGTKLKIREIKELLDYLPRSSSVAIINVQDLQKELFTDSGAGTMIRRGNGFSATRSTVIQLLNNISTKREVEQYLKYFTSVSQQQFAVIKVGGAIISDNLHELASCLAFLYHVGLYPIVLHGTGPQVNGRLEAQGIEPDYIDGIRITDEHTMAVVRKCFLEQNLKLVTALEQLGVRARPITSGVFTADYLDKDKYKLVGNIKSVTKEPIEASIKAGALPILTSLAETASGQMLNVNADVAAGELARVFEPLKIVYLNEKGGIINGSTGEKISMINLDEEYDDLMKQSWVKYGTKLKIREIKELLDYLPRSSSVAIINVQDLQKELFTDSGAGTMIRRGYGFSATRSTVIQLLNNISTKREVEQYLKYFTSVSQQQFAVIKVGGAIISDNLHELASCLAFLYHVGLYPIVLHGTGPQVNGRLEAQGIEPDYIDGIRITDEHTMAVVRKCFLEQNLKLVTALEQLGVRARPITSGVFTADYLDKDKYKLVGNIKSVTKEPIEASIKAGALPILTSLAETASGQMLNVNADVAAGELARVFEPLKIVYLNEKGGIINGSTGEKISMINLDEEYDDLMKQSWVKYGTKLKIREIKELLDYLPRSSSVAIINVQDLQKELFTDSGAGTMIRRGY'"
            ]
          },
          "metadata": {
            "tags": []
          },
          "execution_count": 14
        }
      ]
    },
    {
      "cell_type": "code",
      "metadata": {
        "id": "Hu_V0gH7SFYK"
      },
      "source": [
        "# for converting protein sequence to categorical format\n",
        "seq_voc = \"ABCDEFGHIKLMNOPQRSTUVWXYZ\"\n",
        "seq_dict = {v:i for i,v in enumerate(seq_voc)}\n",
        "seq_dict_len = len(seq_dict)\n",
        "max_seq_len = 1000   # Note that all protein data will have the same length 1000 \n",
        "\n",
        "def seq_to_cat(proteinSeq):\n",
        "    x = np.zeros(max_seq_len)\n",
        "    for i, ch in enumerate(proteinSeq[:max_seq_len]): \n",
        "        x[i] = seq_dict[ch]\n",
        "    return x  \n",
        "\n",
        "# Concordance index evaluation. XM: given function is too slow, we use concordance_index from lifelines.utils to calculate CI score\n",
        "\n",
        "def get_protein_amino_acids(proteinName):\n",
        "  seq = get_amino_acid_seq(proteinName)\n",
        "  vec = seq_to_cat(seq)\n",
        "  return vec"
      ],
      "execution_count": 9,
      "outputs": []
    },
    {
      "cell_type": "code",
      "metadata": {
        "id": "RDWrp2L4BLWL",
        "colab": {
          "base_uri": "https://localhost:8080/"
        },
        "outputId": "0da8040d-70b9-4613-e7af-89c87fa54172"
      },
      "source": [
        "vec = seq_to_cat(seq)\n",
        "vec.shape"
      ],
      "execution_count": null,
      "outputs": [
        {
          "output_type": "execute_result",
          "data": {
            "text/plain": [
              "(1000,)"
            ]
          },
          "metadata": {
            "tags": []
          },
          "execution_count": 16
        }
      ]
    },
    {
      "cell_type": "markdown",
      "metadata": {
        "id": "mWOgglJ4yWHf"
      },
      "source": [
        "### 2.3 Parse Ligand ECFP (length = 1000)\n",
        "We have obtained the smiles strings from **ligand_dict**. Now we use it to obtain the smiles strings of all ligands and convert them into ECFP vectors."
      ]
    },
    {
      "cell_type": "code",
      "metadata": {
        "id": "5Iy_HSlWZLuv",
        "colab": {
          "base_uri": "https://localhost:8080/"
        },
        "outputId": "0495fd1e-a930-4e68-ba4b-7092d0ba214b"
      },
      "source": [
        "list(ligand_dict.values())[:3]"
      ],
      "execution_count": null,
      "outputs": [
        {
          "output_type": "execute_result",
          "data": {
            "text/plain": [
              "['Cc1c(c2ccc(cc2o1)Oc3ccnc4c3ccc(c4)OCCN5CCOCC5)C(=O)NC',\n",
              " 'c1ccc(cc1)C[C@@]2(CC[N@@]3CC[C@H](N3C2=O)C(=O)N[C@@H](CCCCN)[C@@H](C(=O)NC4CCCCC4)O)N',\n",
              " '[H]/N=C(\\\\N)/NCCC[C@@H]([C@@H](C(=O)NCCc1ccccc1)O)NC(=O)[C@@H]2CCN3N2C(=O)[C@@](CC3)(Cc4ccccc4)N']"
            ]
          },
          "metadata": {
            "tags": []
          },
          "execution_count": 17
        }
      ]
    },
    {
      "cell_type": "code",
      "metadata": {
        "id": "V62AGZCscZu2",
        "colab": {
          "base_uri": "https://localhost:8080/",
          "height": 232
        },
        "outputId": "e7ed8da0-bd16-4e3a-acfa-77100fea52a0"
      },
      "source": [
        "# smiles = np.array([Chem.MolToSmiles(Chem.MolFromSmiles(d),isomericSmiles=True) for d in ligand_dict.values()])\n",
        "# print(\"Total num of ligands: \", len(smiles))\n",
        "NBITS = 1000\n",
        "\n",
        "ligands = []\n",
        "count_invalid = 0\n",
        "\n",
        "for ligandName in pdb_ligandName_medium:\n",
        "  smile = ligand_dict[ligandName]\n",
        "  # print(i, end=\",\")\n",
        "  try:\n",
        "    molecule = MolFromSmiles(smile)\n",
        "    ECFP2 = Chem.GetMorganFingerprintAsBitVect(molecule, 2, nBits=NBITS).ToBitString()\n",
        "    ECFP2arr = np.array(list(map(int, ECFP2)))\n",
        "    ligands.append(ECFP2arr)\n",
        "  except:\n",
        "    count_invalid += 1\n",
        "  # if i % 100==0:\n",
        "  #   print()"
      ],
      "execution_count": 10,
      "outputs": [
        {
          "output_type": "error",
          "ename": "NameError",
          "evalue": "ignored",
          "traceback": [
            "\u001b[0;31m---------------------------------------------------------------------------\u001b[0m",
            "\u001b[0;31mNameError\u001b[0m                                 Traceback (most recent call last)",
            "\u001b[0;32m<ipython-input-10-eb72e747bed6>\u001b[0m in \u001b[0;36m<module>\u001b[0;34m()\u001b[0m\n\u001b[1;32m      6\u001b[0m \u001b[0mcount_invalid\u001b[0m \u001b[0;34m=\u001b[0m \u001b[0;36m0\u001b[0m\u001b[0;34m\u001b[0m\u001b[0;34m\u001b[0m\u001b[0m\n\u001b[1;32m      7\u001b[0m \u001b[0;34m\u001b[0m\u001b[0m\n\u001b[0;32m----> 8\u001b[0;31m \u001b[0;32mfor\u001b[0m \u001b[0mligandName\u001b[0m \u001b[0;32min\u001b[0m \u001b[0mpdb_ligandName_medium\u001b[0m\u001b[0;34m:\u001b[0m\u001b[0;34m\u001b[0m\u001b[0;34m\u001b[0m\u001b[0m\n\u001b[0m\u001b[1;32m      9\u001b[0m   \u001b[0msmile\u001b[0m \u001b[0;34m=\u001b[0m \u001b[0mligand_dict\u001b[0m\u001b[0;34m[\u001b[0m\u001b[0mligandName\u001b[0m\u001b[0;34m]\u001b[0m\u001b[0;34m\u001b[0m\u001b[0;34m\u001b[0m\u001b[0m\n\u001b[1;32m     10\u001b[0m   \u001b[0;31m# print(i, end=\",\")\u001b[0m\u001b[0;34m\u001b[0m\u001b[0;34m\u001b[0m\u001b[0;34m\u001b[0m\u001b[0m\n",
            "\u001b[0;31mNameError\u001b[0m: name 'pdb_ligandName_medium' is not defined"
          ]
        }
      ]
    },
    {
      "cell_type": "code",
      "metadata": {
        "id": "g9feZyIscBq4",
        "colab": {
          "base_uri": "https://localhost:8080/"
        },
        "outputId": "d111a6fb-6c93-4801-a3ad-85bcde403c34"
      },
      "source": [
        "print(\"Count = valid:\", len(ligands))\n",
        "print(\"Count = invalid:\", count_invalid)"
      ],
      "execution_count": null,
      "outputs": [
        {
          "output_type": "stream",
          "text": [
            "Count = valid: 30\n",
            "Count = invalid: 0\n"
          ],
          "name": "stdout"
        }
      ]
    },
    {
      "cell_type": "code",
      "metadata": {
        "id": "CyoW5vt00jLr"
      },
      "source": [
        "#Assume ligandName is valid (i.e. it can be found in 'ligand_dict' and can be successfully converted to ECFP)\n",
        "def get_ligand_ECFP(ligandName):\n",
        "  smile = ligand_dict[ligandName]\n",
        "\n",
        "  molecule = MolFromSmiles(smile)\n",
        "  ECFP2 = Chem.GetMorganFingerprintAsBitVect(molecule, 2, nBits=NBITS).ToBitString()\n",
        "  ECFP2arr = np.array(list(map(int, ECFP2)))\n",
        "  return ECFP2arr * 200 #TODO: if this enlarging doesn't make it better, try to change the value 200"
      ],
      "execution_count": 147,
      "outputs": []
    },
    {
      "cell_type": "markdown",
      "metadata": {
        "id": "HEB9yj4Fw9-9"
      },
      "source": [
        "### 2.4 Final Representation of Proteins and Ligands\n",
        "\n",
        "Put everything together."
      ]
    },
    {
      "cell_type": "code",
      "metadata": {
        "id": "mIDwnwJ3uCfS"
      },
      "source": [
        "# Provides a flexible function to create protein-ligand of different representations\n",
        "# to create X\n",
        "def create_pairs(protein_list, ligand_list, protein_func, ligand_func, protein_func_3D=None):\n",
        "  protein_repr = [protein_func(p) for p in protein_list]\n",
        "  ligand_repr = [ligand_func(l) for l in ligand_list]\n",
        "\n",
        "  if protein_func_3D:\n",
        "    protein_repr_3D = [protein_func_3D(p) for p in protein_list]\n",
        "  else:\n",
        "    protein_repr_3D = [[] for p in protein_list]\n",
        "\n",
        "  pairs = []\n",
        "  for i in range(len(protein_list)):\n",
        "    new_pair = np.concatenate((protein_repr[i], protein_repr_3D[i], ligand_repr[i]))\n",
        "    pairs.append(new_pair)\n",
        "\n",
        "  return np.array(pairs)"
      ],
      "execution_count": 12,
      "outputs": []
    },
    {
      "cell_type": "code",
      "metadata": {
        "id": "dpEMgDVNShDl",
        "colab": {
          "base_uri": "https://localhost:8080/"
        },
        "outputId": "2529bf4c-4759-4ddd-8ef1-1e179ce86ab0"
      },
      "source": [
        "pdb_proteinName.shape"
      ],
      "execution_count": null,
      "outputs": [
        {
          "output_type": "execute_result",
          "data": {
            "text/plain": [
              "(15080,)"
            ]
          },
          "metadata": {
            "tags": []
          },
          "execution_count": 22
        }
      ]
    },
    {
      "cell_type": "markdown",
      "metadata": {
        "id": "Z0ZJAJJskJGX"
      },
      "source": [
        "Import X data we processed using files in 'utils'."
      ]
    },
    {
      "cell_type": "code",
      "metadata": {
        "id": "pbpbtMCxwtpx",
        "colab": {
          "base_uri": "https://localhost:8080/"
        },
        "outputId": "dd3ed7fb-3b9d-4e6a-9657-2783319c6481"
      },
      "source": [
        "if not os.path.exists('Xdata'):\n",
        "  !unzip Xdata.zip\n",
        "\n",
        "X = np.load('Xdata/X.npy')\n",
        "print(\"X.shape = \", X.shape)\n",
        "X_cm = np.load('Xdata/X_cm.npy')\n",
        "print(\"X_cm.shape = \", X_cm.shape)\n",
        "X_cd = np.load('Xdata/X_cd.npy')\n",
        "print(\"X_cd.shape = \", X_cd.shape)\n"
      ],
      "execution_count": 42,
      "outputs": [
        {
          "output_type": "stream",
          "text": [
            "X.shape =  (10000, 2000)\n",
            "X_cm.shape =  (10000, 3000)\n",
            "X_cd.shape =  (10000, 3000)\n"
          ],
          "name": "stdout"
        }
      ]
    },
    {
      "cell_type": "code",
      "metadata": {
        "id": "tYQobqbNu1nW",
        "colab": {
          "base_uri": "https://localhost:8080/"
        },
        "outputId": "fbd93f61-b8d1-45d7-c26a-37d13ee1c17c"
      },
      "source": [
        "print(\"pdb_affinity.shape = \", pdb_affinity.shape)\n",
        "indices = np.load('Xdata/X_idx.npy', allow_pickle=True)\n",
        "print(\"indices.shape = \",indices.shape)\n",
        "\n",
        "y = pdb_affinity[indices]\n",
        "print(\"y.shape = \", y.shape)"
      ],
      "execution_count": 43,
      "outputs": [
        {
          "output_type": "stream",
          "text": [
            "pdb_affinity.shape =  (15080,)\n",
            "indices.shape =  (10000,)\n",
            "y.shape =  (10000,)\n"
          ],
          "name": "stdout"
        }
      ]
    },
    {
      "cell_type": "code",
      "metadata": {
        "id": "YIdVIdZRjy6Z"
      },
      "source": [
        "\n",
        "X[:, 1000:] *=  200\n",
        "\n",
        "X_cm[:, 2000:] *=  200\n",
        "\n",
        "X_cd[:, 2000:] *=  200"
      ],
      "execution_count": 172,
      "outputs": []
    },
    {
      "cell_type": "markdown",
      "metadata": {
        "id": "GRXYpyYVSFYS"
      },
      "source": [
        "## 3. Train NN models"
      ]
    },
    {
      "cell_type": "code",
      "metadata": {
        "id": "ajD3NMMiNWFu"
      },
      "source": [
        "\n",
        "\n",
        "# Define the keras model \n",
        "def create_keras_model(input_size, output_size):\n",
        "    model = tf.keras.Sequential()\n",
        "    model.add(tf.keras.Input(shape=(input_size,)))\n",
        "    if input_size > 2048:\n",
        "      model.add(tf.keras.layers.Dense(2048, activation='relu'))\n",
        "    #model.add(tf.keras.layers.Dense(1024, activation='relu'))\n",
        "    model.add(tf.keras.layers.Dense(256, activation='relu'))\n",
        "    # model.add(tf.keras.layers.Dense(64, activation='relu'))\n",
        "    # model.add(tf.keras.layers.Dense(4, activation='relu'))\n",
        "    model.add(tf.keras.layers.Dense(output_size, activation='linear'))\n",
        "    return model\n",
        "\n",
        "def train_test_model(model, pair_tr, affinity_tr, pair_ts, affinity_ts):\n",
        "  \n",
        "  es = tf.keras.callbacks.EarlyStopping(monitor='val_loss', mode='min', verbose=1, patience=5)\n",
        "  model.compile(optimizer='adam',\n",
        "                loss= 'mean_squared_error', \n",
        "                metrics=['mse']) \n",
        "  history = model.fit(pair_tr, affinity_tr, epochs=500, validation_split=0.2, callbacks=[es], verbose=0)\n",
        "\n",
        "  # plot training history\n",
        "  plt.plot(history.history['loss'], label='train loss')\n",
        "  plt.plot(history.history['val_loss'], label='valication loss')\n",
        "  plt.legend()\n",
        "  plt.show()\n",
        "\n",
        "  print(\"Evaluation:\")\n",
        "  print('training MSE:', model.evaluate(pair_tr, affinity_tr))\n",
        "  print('test MSE:', model.evaluate(pair_ts, affinity_ts))\n",
        "\n",
        "\n",
        "\n",
        "def train_test_model_dc(model_keras, pair_tr, affinity_tr, pair_ts, affinity_ts, epochs=20):\n",
        "  train_dataset = dc.data.NumpyDataset(X=pair_tr, y=affinity_tr.reshape(len(affinity_tr), 1))\n",
        "  test_dataset = dc.data.NumpyDataset(X=pair_ts, y=affinity_ts.reshape(len(affinity_ts), 1))\n",
        "  dc_model = dc.models.KerasModel(model_keras, dc.models.losses.L2Loss()) # we pass the model and a dc loss funciton\n",
        "  \n",
        "  dc_model.fit(train_dataset, nb_epoch=epochs)\n",
        "  metric = dc.metrics.Metric(dc.metrics.mean_squared_error)\n",
        "  print(\"\\nEvaluation:\")\n",
        "  print('training MSE:', dc_model.evaluate(train_dataset, [metric]))\n",
        "  print('test MSE:',dc_model.evaluate(test_dataset, [metric]))\n",
        "  return dc_model\n",
        "\n",
        "def split_data(X, y):\n",
        "    X_train, X_test, y_train, y_test = train_test_split(X, y, test_size=0.2, random_state=42, shuffle=True)\n",
        "    return X_train, X_test, y_train, y_test\n",
        "\n"
      ],
      "execution_count": 234,
      "outputs": []
    },
    {
      "cell_type": "code",
      "metadata": {
        "id": "JgxbowmXG3fn",
        "colab": {
          "base_uri": "https://localhost:8080/",
          "height": 452
        },
        "outputId": "701f53dc-cdb3-4ac2-a37c-ebd7dbef1968"
      },
      "source": [
        "# Input: X (vector length=2000), y(vector length=1000)\n",
        "X_train, X_test, y_train, y_test = split_data(X, y)\n",
        "print(\"X_train.shape = \", X_train.shape)\n",
        "print(\"X_test.shape = \", X_test.shape)\n",
        "\n",
        "print(\"\\ny_train.shape = \", y_train.shape)\n",
        "print(\"y_test.shape = \", y_test.shape)\n",
        "\n",
        "keras_model = create_keras_model(2000, 1)\n",
        "train_test_model(keras_model, pair_tr=X_train, affinity_tr=y_train, pair_ts=X_test, affinity_ts=y_test)#used early stopping"
      ],
      "execution_count": 235,
      "outputs": [
        {
          "output_type": "stream",
          "text": [
            "X_train.shape =  (8000, 2000)\n",
            "X_test.shape =  (2000, 2000)\n",
            "\n",
            "y_train.shape =  (8000,)\n",
            "y_test.shape =  (2000,)\n",
            "Epoch 00055: early stopping\n"
          ],
          "name": "stdout"
        },
        {
          "output_type": "display_data",
          "data": {
            "image/png": "[encoded data removed]",
            "text/plain": [
              "<Figure size 432x288 with 1 Axes>"
            ]
          },
          "metadata": {
            "tags": [],
            "needs_background": "light"
          }
        },
        {
          "output_type": "stream",
          "text": [
            "Evaluation:\n",
            "8000/8000 [==============================] - 0s 48us/sample - loss: 1.2156 - mean_squared_error: 1.2156\n",
            "training MSE: [1.2155658900737762, 1.2155659]\n",
            "2000/2000 [==============================] - 0s 47us/sample - loss: 3.9125 - mean_squared_error: 3.9125\n",
            "test MSE: [3.9124514198303224, 3.912451]\n"
          ],
          "name": "stdout"
        }
      ]
    },
    {
      "cell_type": "code",
      "metadata": {
        "id": "l5JtEezEL-aY",
        "colab": {
          "base_uri": "https://localhost:8080/",
          "height": 452
        },
        "outputId": "e32ec9d6-645d-4c3e-f7b0-441ee06000bb"
      },
      "source": [
        "# Input: X with contact map (vector length=3000), y(vector length=1000)\n",
        "X_train, X_test, y_train, y_test = split_data(X_cm, y)\n",
        "print(\"X_train.shape = \", X_train.shape)\n",
        "print(\"X_test.shape = \", X_test.shape)\n",
        "\n",
        "print(\"\\ny_train.shape = \", y_train.shape)\n",
        "print(\"y_test.shape = \", y_test.shape)\n",
        "\n",
        "keras_model = create_keras_model(3000, 1)\n",
        "train_test_model(keras_model, pair_tr=X_train, affinity_tr=y_train, pair_ts=X_test, affinity_ts=y_test)#used early stopping"
      ],
      "execution_count": 236,
      "outputs": [
        {
          "output_type": "stream",
          "text": [
            "X_train.shape =  (8000, 3000)\n",
            "X_test.shape =  (2000, 3000)\n",
            "\n",
            "y_train.shape =  (8000,)\n",
            "y_test.shape =  (2000,)\n",
            "Epoch 00011: early stopping\n"
          ],
          "name": "stdout"
        },
        {
          "output_type": "display_data",
          "data": {
            "image/png": "[encoded data removed]",
            "text/plain": [
              "<Figure size 432x288 with 1 Axes>"
            ]
          },
          "metadata": {
            "tags": [],
            "needs_background": "light"
          }
        },
        {
          "output_type": "stream",
          "text": [
            "Evaluation:\n",
            "8000/8000 [==============================] - 0s 62us/sample - loss: 1.5103 - mean_squared_error: 1.5103\n",
            "training MSE: [1.5102616585493087, 1.5102613]\n",
            "2000/2000 [==============================] - 0s 60us/sample - loss: 3.8789 - mean_squared_error: 3.8789\n",
            "test MSE: [3.878934293746948, 3.8789349]\n"
          ],
          "name": "stdout"
        }
      ]
    },
    {
      "cell_type": "code",
      "metadata": {
        "id": "hezYUVuOME7c",
        "colab": {
          "base_uri": "https://localhost:8080/",
          "height": 452
        },
        "outputId": "8fa8c537-f1d1-4d5a-9287-4b41f0101b0c"
      },
      "source": [
        "# Input: X with center distances (vector length=3000), y(vector length=1000)\n",
        "X_train, X_test, y_train, y_test = split_data(X_cd, y)\n",
        "print(\"X_train.shape = \", X_train.shape)\n",
        "print(\"X_test.shape = \", X_test.shape)\n",
        "\n",
        "print(\"\\ny_train.shape = \", y_train.shape)\n",
        "print(\"y_test.shape = \", y_test.shape)\n",
        "\n",
        "keras_model = create_keras_model(3000, 1)\n",
        "train_test_model(keras_model, pair_tr=X_train, affinity_tr=y_train, pair_ts=X_test, affinity_ts=y_test)#used early stopping"
      ],
      "execution_count": 237,
      "outputs": [
        {
          "output_type": "stream",
          "text": [
            "X_train.shape =  (8000, 3000)\n",
            "X_test.shape =  (2000, 3000)\n",
            "\n",
            "y_train.shape =  (8000,)\n",
            "y_test.shape =  (2000,)\n",
            "Epoch 00008: early stopping\n"
          ],
          "name": "stdout"
        },
        {
          "output_type": "display_data",
          "data": {
            "image/png": "[encoded data removed]",
            "text/plain": [
              "<Figure size 432x288 with 1 Axes>"
            ]
          },
          "metadata": {
            "tags": [],
            "needs_background": "light"
          }
        },
        {
          "output_type": "stream",
          "text": [
            "Evaluation:\n",
            "8000/8000 [==============================] - 0s 61us/sample - loss: 1.7633 - mean_squared_error: 1.7633\n",
            "training MSE: [1.7632738482952117, 1.763274]\n",
            "2000/2000 [==============================] - 0s 62us/sample - loss: 4.2293 - mean_squared_error: 4.2293\n",
            "test MSE: [4.229318906784058, 4.2293196]\n"
          ],
          "name": "stdout"
        }
      ]
    },
    {
      "cell_type": "markdown",
      "metadata": {
        "id": "MGmlZlAn1KpB"
      },
      "source": [
        "Notes: it seems adding 3D info to the representation of protein does not make it better.\n",
        "\n",
        "* X\n",
        "\n",
        " **Training: MSE=0.?? (epoch=??); Test: MSE=0.??**\n",
        "\n",
        "* X contact map\n",
        "\n",
        " **Training: MSE=0.?? (epoch=??); Test: MSE=0.??**\n",
        "\n",
        "* X center distances\n",
        "\n",
        " **Training: MSE=0.?? (epoch=??); Test: MSE=0.??**\n"
      ]
    },
    {
      "cell_type": "markdown",
      "metadata": {
        "id": "my0BqyOkSFYa"
      },
      "source": [
        "## 4. Use  your model on COVID-19 protease"
      ]
    },
    {
      "cell_type": "markdown",
      "metadata": {
        "id": "rkmmMhjOSFYc"
      },
      "source": [
        "Now, use your trained model to identify drugs that could be used as COVID-19 protease inhibitors from these 2111 drugs in the dataset. The sequence of the protease is provided in `6Y84_A.fasta.txt`. You might want to first predict a binding affinity of Ritonavior, a well known HIV drug that binds to HIV protease, to get the sense of a good binding score for this task. SMILES of Ritonavior is provided below.  "
      ]
    },
    {
      "cell_type": "code",
      "metadata": {
        "colab": {
          "base_uri": "https://localhost:8080/"
        },
        "id": "PbOuXO4v5Nmd",
        "outputId": "482aca75-2b83-4755-cd52-40b7ebe108e1"
      },
      "source": [
        "ritonavior_smile = 'CC(C)C1=NC(=CS1)CN(C)C(=O)NC(C(C)C)C(=O)NC(CC2=CC=CC=C2)CC(C(CC3=CC=CC=C3)NC(=O)OCC4=CN=CS4)O'\n",
        "molecule = MolFromSmiles(ritonavior_smile)\n",
        "ECFP2 = Chem.GetMorganFingerprintAsBitVect(molecule, 2, nBits=NBITS).ToBitString()\n",
        "ritonavior_ECFP = np.array(list(map(int, ECFP2)))*200\n",
        "print(\"ritonavior_ECFP.shape = \", ritonavior_ECFP.shape)"
      ],
      "execution_count": 205,
      "outputs": [
        {
          "output_type": "stream",
          "text": [
            "ritonavior_ECFP.shape =  (1000,)\n"
          ],
          "name": "stdout"
        }
      ]
    },
    {
      "cell_type": "code",
      "metadata": {
        "colab": {
          "base_uri": "https://localhost:8080/"
        },
        "id": "qMZ-sKDh4-Zj",
        "outputId": "56a4f492-f62e-4ead-fffc-47f165afb4ca"
      },
      "source": [
        "HIV_seq = 'PQVTLWQRPIVTIKIGGQLKEALLDTGADDTVLEEMSLPGKWKPKMIGGIGGFIKVRQYDQVSIEICGHKAIGTVLIGPTPVNIIGRNLLTQLGCTLNF'\n",
        "HIV_amino = seq_to_cat(HIV_seq)\n",
        "print(\"HIV_amino.shape = \", HIV_amino.shape)\n",
        "\n",
        "\n",
        "# def HIV_binding(HIVName):\n",
        "HIVName = '1dmp' #HIV protease = '1dmp', HIVName = '1tiv'\n",
        "HIV_cm_uncut = get_protein_contact_map(HIVName, shrinking_ratio=20)\n",
        "print(len(HIV_cm_uncut))\n",
        "\n",
        "HIV_cm =  get_protein_cut_contact_map(HIVName, shrinking_ratio=20)\n",
        "print(\"HIV_cm.shape = \", HIV_cm.shape)\n",
        "HIV_cd =  get_protein_cut_center_distances(HIVName)\n",
        "print(\"HIV_cd.shape = \", HIV_cd.shape)\n",
        "\n",
        "HIV_vec_cm = np.concatenate((HIV_amino, HIV_cm))\n",
        "HIV_vec_cd = np.concatenate((HIV_amino, HIV_cd))\n",
        "print(\"\\nHIV_vec_cm.shape = \", HIV_vec_cm.shape)\n",
        "print(\"HIV_vec_cd.shape = \", HIV_vec_cd.shape)"
      ],
      "execution_count": 206,
      "outputs": [
        {
          "output_type": "stream",
          "text": [
            "HIV_amino.shape =  (1000,)\n",
            "45\n",
            "HIV_cm.shape =  (1000,)\n",
            "HIV_cd.shape =  (1000,)\n",
            "\n",
            "HIV_vec_cm.shape =  (2000,)\n",
            "HIV_vec_cd.shape =  (2000,)\n"
          ],
          "name": "stdout"
        }
      ]
    },
    {
      "cell_type": "code",
      "metadata": {
        "colab": {
          "base_uri": "https://localhost:8080/"
        },
        "id": "eF-Sdw-4yRRq",
        "outputId": "3fde6bc4-deb1-4451-d780-90de7f267b84"
      },
      "source": [
        "print(X_cm[10])"
      ],
      "execution_count": 207,
      "outputs": [
        {
          "output_type": "stream",
          "text": [
            "[ 11.  16.  15. ... 200.   0.   0.]\n"
          ],
          "name": "stdout"
        }
      ]
    },
    {
      "cell_type": "code",
      "metadata": {
        "colab": {
          "base_uri": "https://localhost:8080/"
        },
        "id": "tKLFnSnQBv_I",
        "outputId": "8e7a7c73-40fb-4571-e117-81a50917269c"
      },
      "source": [
        "all_ligandECFP = X[:, 1000:]\n",
        "print(\"all_ligandECFP.shape = \", all_ligandECFP.shape)\n",
        "\n",
        "\n",
        "def HIV_binding(keras_model, HIV_vec, isLogreg=False):\n",
        "  HIV_pair = np.concatenate((HIV_vec, ritonavior_ECFP))\n",
        "  HIV_Ritonavior_score = keras_model.predict(HIV_pair.reshape(1,len(HIV_pair)))[0]\n",
        "  if not isLogreg:\n",
        "    HIV_Ritonavior_score = HIV_Ritonavior_score[0]\n",
        "  print(\"HIV-Ritonavior_ binding scores:\")\n",
        "  print(\"HIV_Ritonavior_score = \", HIV_Ritonavior_score)\n",
        "\n",
        "\n",
        "  print(\"HIV-AnotherDrug binding scores:\")\n",
        "  HIV_affinities = []\n",
        "  for i,ligandECFP in enumerate(all_ligandECFP):\n",
        "    pair = np.concatenate((HIV_vec, ligandECFP))\n",
        "    aff =  keras_model.predict(pair.reshape(1,len(pair)))[0]\n",
        "    if not isLogreg:\n",
        "      aff = aff[0]\n",
        "    HIV_affinities.append(aff)\n",
        "\n",
        "  HIV_affinities = np.array(HIV_affinities)\n",
        "  print(\"Min affinitiy = \", np.min(HIV_affinities), \".  Max affinitiy = \", np.max(HIV_affinities))\n",
        "  plt.hist(HIV_affinities, bins=100);\n",
        "  plt.title(\"HIV-AnotherLigand Affinities: \")\n",
        "\n",
        "  print(\"\\nHow many drugs have better bindings with HIV, compared to Ritonavior?\")\n",
        "  print(len(HIV_affinities[HIV_affinities > HIV_Ritonavior_score]) / len(HIV_affinities))\n",
        "  print(\"How many drugs have equal bindings with HIV, compared to Ritonavior?\")\n",
        "  print(len(HIV_affinities[HIV_affinities == HIV_Ritonavior_score]) / len(HIV_affinities))"
      ],
      "execution_count": 208,
      "outputs": [
        {
          "output_type": "stream",
          "text": [
            "all_ligandECFP.shape =  (10000, 1000)\n"
          ],
          "name": "stdout"
        }
      ]
    },
    {
      "cell_type": "code",
      "metadata": {
        "colab": {
          "base_uri": "https://localhost:8080/",
          "height": 1000
        },
        "id": "L0O7QyaZUzKp",
        "outputId": "0ab0d086-c1e8-4c83-db4d-1459a837398a"
      },
      "source": [
        "#Get model\n",
        "# Input: X with center distances (vector length=2000), y(vector length=1000)\n",
        "X_train, X_test, y_train, y_test = split_data(X, y)\n",
        "print(\"X_train.shape = \", X_train.shape)\n",
        "print(\"X_test.shape = \", X_test.shape)\n",
        "\n",
        "print(\"\\ny_train.shape = \", y_train.shape)\n",
        "print(\"y_test.shape = \", y_test.shape)\n",
        "\n",
        "\n",
        "model = create_keras_model(2000, 1)\n",
        "es = tf.keras.callbacks.EarlyStopping(monitor='val_loss', mode='min', verbose=1, patience=5)\n",
        "model.compile(optimizer='adam',\n",
        "              loss= 'mean_squared_error', \n",
        "              metrics=['mse']) \n",
        "history = model.fit(X_train, y_train, epochs=500, validation_split=0.2, callbacks=[es])\n",
        "\n",
        "# plot training history\n",
        "plt.plot(history.history['loss'], label='train loss')\n",
        "plt.plot(history.history['val_loss'], label='valication loss')\n",
        "plt.legend()\n",
        "plt.show()\n",
        "\n",
        "print(\"Evaluation:\")\n",
        "print('training MSE:', model.evaluate(X_train, y_train))\n",
        "print('test MSE:', model.evaluate(X_test, y_test))\n",
        "\n"
      ],
      "execution_count": 209,
      "outputs": [
        {
          "output_type": "stream",
          "text": [
            "X_train.shape =  (8000, 2000)\n",
            "X_test.shape =  (2000, 2000)\n",
            "\n",
            "y_train.shape =  (8000,)\n",
            "y_test.shape =  (2000,)\n",
            "Train on 6400 samples, validate on 1600 samples\n",
            "Epoch 1/500\n",
            "6400/6400 [==============================] - 1s 115us/sample - loss: 271.0400 - mean_squared_error: 271.0399 - val_loss: 26.1791 - val_mean_squared_error: 26.1791\n",
            "Epoch 2/500\n",
            "6400/6400 [==============================] - 1s 82us/sample - loss: 12.8255 - mean_squared_error: 12.8255 - val_loss: 14.2183 - val_mean_squared_error: 14.2183\n",
            "Epoch 3/500\n",
            "6400/6400 [==============================] - 1s 82us/sample - loss: 4.4523 - mean_squared_error: 4.4523 - val_loss: 12.6231 - val_mean_squared_error: 12.6231\n",
            "Epoch 4/500\n",
            "6400/6400 [==============================] - 1s 79us/sample - loss: 2.5941 - mean_squared_error: 2.5941 - val_loss: 12.1776 - val_mean_squared_error: 12.1776\n",
            "Epoch 5/500\n",
            "6400/6400 [==============================] - 1s 83us/sample - loss: 1.9361 - mean_squared_error: 1.9361 - val_loss: 12.1445 - val_mean_squared_error: 12.1445\n",
            "Epoch 6/500\n",
            "6400/6400 [==============================] - 1s 79us/sample - loss: 1.9197 - mean_squared_error: 1.9197 - val_loss: 11.7188 - val_mean_squared_error: 11.7188\n",
            "Epoch 7/500\n",
            "6400/6400 [==============================] - 1s 81us/sample - loss: 2.3893 - mean_squared_error: 2.3893 - val_loss: 11.3516 - val_mean_squared_error: 11.3516\n",
            "Epoch 8/500\n",
            "6400/6400 [==============================] - 1s 79us/sample - loss: 3.0450 - mean_squared_error: 3.0450 - val_loss: 10.6550 - val_mean_squared_error: 10.6550\n",
            "Epoch 9/500\n",
            "6400/6400 [==============================] - 1s 82us/sample - loss: 2.9943 - mean_squared_error: 2.9943 - val_loss: 9.8795 - val_mean_squared_error: 9.8795\n",
            "Epoch 10/500\n",
            "6400/6400 [==============================] - 1s 83us/sample - loss: 2.5980 - mean_squared_error: 2.5980 - val_loss: 8.8419 - val_mean_squared_error: 8.8419\n",
            "Epoch 11/500\n",
            "6400/6400 [==============================] - 1s 81us/sample - loss: 2.2850 - mean_squared_error: 2.2850 - val_loss: 8.2509 - val_mean_squared_error: 8.2509\n",
            "Epoch 12/500\n",
            "6400/6400 [==============================] - 1s 80us/sample - loss: 1.6604 - mean_squared_error: 1.6604 - val_loss: 7.9386 - val_mean_squared_error: 7.9386\n",
            "Epoch 13/500\n",
            "6400/6400 [==============================] - 1s 79us/sample - loss: 1.3519 - mean_squared_error: 1.3519 - val_loss: 7.7384 - val_mean_squared_error: 7.7384\n",
            "Epoch 14/500\n",
            "6400/6400 [==============================] - 1s 80us/sample - loss: 1.4475 - mean_squared_error: 1.4475 - val_loss: 7.3641 - val_mean_squared_error: 7.3641\n",
            "Epoch 15/500\n",
            "6400/6400 [==============================] - 1s 87us/sample - loss: 1.4289 - mean_squared_error: 1.4289 - val_loss: 7.1974 - val_mean_squared_error: 7.1974\n",
            "Epoch 16/500\n",
            "6400/6400 [==============================] - 1s 80us/sample - loss: 1.4334 - mean_squared_error: 1.4334 - val_loss: 7.0654 - val_mean_squared_error: 7.0654\n",
            "Epoch 17/500\n",
            "6400/6400 [==============================] - 1s 79us/sample - loss: 1.4823 - mean_squared_error: 1.4823 - val_loss: 6.4326 - val_mean_squared_error: 6.4326\n",
            "Epoch 18/500\n",
            "6400/6400 [==============================] - 1s 79us/sample - loss: 1.3990 - mean_squared_error: 1.3990 - val_loss: 6.4947 - val_mean_squared_error: 6.4947\n",
            "Epoch 19/500\n",
            "6400/6400 [==============================] - 1s 80us/sample - loss: 1.2678 - mean_squared_error: 1.2678 - val_loss: 6.1467 - val_mean_squared_error: 6.1467\n",
            "Epoch 20/500\n",
            "6400/6400 [==============================] - 1s 81us/sample - loss: 1.1921 - mean_squared_error: 1.1921 - val_loss: 5.8771 - val_mean_squared_error: 5.8771\n",
            "Epoch 21/500\n",
            "6400/6400 [==============================] - 1s 80us/sample - loss: 1.1160 - mean_squared_error: 1.1160 - val_loss: 5.5971 - val_mean_squared_error: 5.5971\n",
            "Epoch 22/500\n",
            "6400/6400 [==============================] - 1s 80us/sample - loss: 1.0683 - mean_squared_error: 1.0683 - val_loss: 5.7230 - val_mean_squared_error: 5.7230\n",
            "Epoch 23/500\n",
            "6400/6400 [==============================] - 1s 80us/sample - loss: 1.0251 - mean_squared_error: 1.0251 - val_loss: 5.3813 - val_mean_squared_error: 5.3813\n",
            "Epoch 24/500\n",
            "6400/6400 [==============================] - 1s 80us/sample - loss: 0.9157 - mean_squared_error: 0.9157 - val_loss: 5.3315 - val_mean_squared_error: 5.3315\n",
            "Epoch 25/500\n",
            "6400/6400 [==============================] - 1s 81us/sample - loss: 0.8476 - mean_squared_error: 0.8476 - val_loss: 5.0925 - val_mean_squared_error: 5.0925\n",
            "Epoch 26/500\n",
            "6400/6400 [==============================] - 1s 79us/sample - loss: 0.8629 - mean_squared_error: 0.8629 - val_loss: 4.9723 - val_mean_squared_error: 4.9723\n",
            "Epoch 27/500\n",
            "6400/6400 [==============================] - 1s 79us/sample - loss: 0.8643 - mean_squared_error: 0.8643 - val_loss: 5.0467 - val_mean_squared_error: 5.0467\n",
            "Epoch 28/500\n",
            "6400/6400 [==============================] - 1s 78us/sample - loss: 0.8449 - mean_squared_error: 0.8449 - val_loss: 4.7046 - val_mean_squared_error: 4.7046\n",
            "Epoch 29/500\n",
            "6400/6400 [==============================] - 1s 81us/sample - loss: 0.8615 - mean_squared_error: 0.8615 - val_loss: 4.8943 - val_mean_squared_error: 4.8943\n",
            "Epoch 30/500\n",
            "6400/6400 [==============================] - 1s 79us/sample - loss: 0.8765 - mean_squared_error: 0.8765 - val_loss: 4.5129 - val_mean_squared_error: 4.5129\n",
            "Epoch 31/500\n",
            "6400/6400 [==============================] - 1s 82us/sample - loss: 0.8111 - mean_squared_error: 0.8111 - val_loss: 4.5026 - val_mean_squared_error: 4.5026\n",
            "Epoch 32/500\n",
            "6400/6400 [==============================] - 1s 80us/sample - loss: 0.7365 - mean_squared_error: 0.7365 - val_loss: 4.5619 - val_mean_squared_error: 4.5619\n",
            "Epoch 33/500\n",
            "6400/6400 [==============================] - 1s 82us/sample - loss: 0.7788 - mean_squared_error: 0.7788 - val_loss: 4.4354 - val_mean_squared_error: 4.4354\n",
            "Epoch 34/500\n",
            "6400/6400 [==============================] - 1s 81us/sample - loss: 0.7637 - mean_squared_error: 0.7637 - val_loss: 4.2132 - val_mean_squared_error: 4.2132\n",
            "Epoch 35/500\n",
            "6400/6400 [==============================] - 1s 79us/sample - loss: 0.7223 - mean_squared_error: 0.7223 - val_loss: 4.3479 - val_mean_squared_error: 4.3479\n",
            "Epoch 36/500\n",
            "6400/6400 [==============================] - 1s 79us/sample - loss: 0.6843 - mean_squared_error: 0.6843 - val_loss: 4.1105 - val_mean_squared_error: 4.1105\n",
            "Epoch 37/500\n",
            "6400/6400 [==============================] - 1s 82us/sample - loss: 0.6262 - mean_squared_error: 0.6262 - val_loss: 4.2135 - val_mean_squared_error: 4.2135\n",
            "Epoch 38/500\n",
            "6400/6400 [==============================] - 1s 81us/sample - loss: 0.6569 - mean_squared_error: 0.6569 - val_loss: 4.1873 - val_mean_squared_error: 4.1873\n",
            "Epoch 39/500\n",
            "6400/6400 [==============================] - 1s 79us/sample - loss: 0.6492 - mean_squared_error: 0.6492 - val_loss: 4.1001 - val_mean_squared_error: 4.1001\n",
            "Epoch 40/500\n",
            "6400/6400 [==============================] - 1s 82us/sample - loss: 0.6614 - mean_squared_error: 0.6614 - val_loss: 4.2029 - val_mean_squared_error: 4.2029\n",
            "Epoch 41/500\n",
            "6400/6400 [==============================] - 1s 80us/sample - loss: 0.6778 - mean_squared_error: 0.6778 - val_loss: 4.0865 - val_mean_squared_error: 4.0865\n",
            "Epoch 42/500\n",
            "6400/6400 [==============================] - 1s 82us/sample - loss: 0.6141 - mean_squared_error: 0.6141 - val_loss: 3.9322 - val_mean_squared_error: 3.9322\n",
            "Epoch 43/500\n",
            "6400/6400 [==============================] - 1s 81us/sample - loss: 0.5660 - mean_squared_error: 0.5660 - val_loss: 4.1264 - val_mean_squared_error: 4.1264\n",
            "Epoch 44/500\n",
            "6400/6400 [==============================] - 1s 81us/sample - loss: 0.5372 - mean_squared_error: 0.5372 - val_loss: 4.0624 - val_mean_squared_error: 4.0624\n",
            "Epoch 45/500\n",
            "6400/6400 [==============================] - 1s 81us/sample - loss: 0.5687 - mean_squared_error: 0.5687 - val_loss: 4.1386 - val_mean_squared_error: 4.1386\n",
            "Epoch 46/500\n",
            "6400/6400 [==============================] - 1s 83us/sample - loss: 0.5846 - mean_squared_error: 0.5846 - val_loss: 3.9601 - val_mean_squared_error: 3.9601\n",
            "Epoch 47/500\n",
            "6400/6400 [==============================] - 1s 80us/sample - loss: 0.6133 - mean_squared_error: 0.6133 - val_loss: 3.9880 - val_mean_squared_error: 3.9880\n",
            "Epoch 00047: early stopping\n"
          ],
          "name": "stdout"
        },
        {
          "output_type": "display_data",
          "data": {
            "image/png": "[encoded data removed]",
            "text/plain": [
              "<Figure size 432x288 with 1 Axes>"
            ]
          },
          "metadata": {
            "tags": [],
            "needs_background": "light"
          }
        },
        {
          "output_type": "stream",
          "text": [
            "Evaluation:\n",
            "8000/8000 [==============================] - 0s 47us/sample - loss: 1.2363 - mean_squared_error: 1.2363\n",
            "training MSE: [1.2362691244482995, 1.236269]\n",
            "2000/2000 [==============================] - 0s 47us/sample - loss: 4.0593 - mean_squared_error: 4.0593\n",
            "test MSE: [4.059274520874023, 4.059274]\n"
          ],
          "name": "stdout"
        }
      ]
    },
    {
      "cell_type": "code",
      "metadata": {
        "id": "87CenW2Acuxi"
      },
      "source": [
        ""
      ],
      "execution_count": 209,
      "outputs": []
    },
    {
      "cell_type": "code",
      "metadata": {
        "id": "OziTaQN2dD57",
        "outputId": "fac6c875-5051-4027-b81b-f01006f10b8b",
        "colab": {
          "base_uri": "https://localhost:8080/",
          "height": 434
        }
      },
      "source": [
        "HIV_vec = HIV_amino\n",
        "HIV_binding(clf, HIV_vec, True)"
      ],
      "execution_count": 229,
      "outputs": [
        {
          "output_type": "stream",
          "text": [
            "HIV-Ritonavior_ binding scores:\n",
            "HIV_Ritonavior_score =  815\n",
            "HIV-AnotherDrug binding scores:\n",
            "Min affinitiy =  49 .  Max affinitiy =  885\n",
            "\n",
            "How many drugs have better bindings with HIV, compared to Ritonavior?\n",
            "0.139\n",
            "How many drugs have equal bindings with HIV, compared to Ritonavior?\n",
            "0.0089\n"
          ],
          "name": "stdout"
        },
        {
          "output_type": "display_data",
          "data": {
            "image/png": "[encoded data removed]",
            "text/plain": [
              "<Figure size 432x288 with 1 Axes>"
            ]
          },
          "metadata": {
            "tags": [],
            "needs_background": "light"
          }
        }
      ]
    },
    {
      "cell_type": "code",
      "metadata": {
        "id": "tFg4eHP1YLer",
        "colab": {
          "base_uri": "https://localhost:8080/",
          "height": 434
        },
        "outputId": "74fbd52a-bcb8-49eb-8f44-b2aae66091df"
      },
      "source": [
        "HIV_vec = HIV_amino\n",
        "HIV_binding(model, HIV_vec)"
      ],
      "execution_count": 210,
      "outputs": [
        {
          "output_type": "stream",
          "text": [
            "HIV-Ritonavior_ binding scores:\n",
            "HIV_Ritonavior_score =  4.6524706\n",
            "HIV-AnotherDrug binding scores:\n",
            "Min affinitiy =  -3.8969522 .  Max affinitiy =  12.994567\n",
            "\n",
            "How many drugs have better bindings with HIV, compared to Ritonavior?\n",
            "0.6835\n",
            "How many drugs have equal bindings with HIV, compared to Ritonavior?\n",
            "0.0002\n"
          ],
          "name": "stdout"
        },
        {
          "output_type": "display_data",
          "data": {
            "image/png": "[encoded data removed]",
            "text/plain": [
              "<Figure size 432x288 with 1 Axes>"
            ]
          },
          "metadata": {
            "tags": [],
            "needs_background": "light"
          }
        }
      ]
    },
    {
      "cell_type": "code",
      "metadata": {
        "colab": {
          "base_uri": "https://localhost:8080/",
          "height": 1000
        },
        "id": "1eCPMME4UvYe",
        "outputId": "943d0c96-0f96-4ed6-89d0-cd63a885dd62"
      },
      "source": [
        "#Get model_cm\n",
        "# Input: X with center distances (vector length=3000), y(vector length=1000)\n",
        "X_train, X_test, y_train, y_test = split_data(X_cm, y)\n",
        "print(\"X_train.shape = \", X_train.shape)\n",
        "print(\"X_test.shape = \", X_test.shape)\n",
        "\n",
        "print(\"\\ny_train.shape = \", y_train.shape)\n",
        "print(\"y_test.shape = \", y_test.shape)\n",
        "\n",
        "\n",
        "\n",
        "model_cm = create_keras_model(3000, 1)\n",
        "es = tf.keras.callbacks.EarlyStopping(monitor='val_loss', mode='min', verbose=1, patience=5)\n",
        "model_cm.compile(optimizer='adam',\n",
        "              loss= 'mean_squared_error', \n",
        "              metrics=['mse']) \n",
        "history = model_cm.fit(X_train, y_train, epochs=500, validation_split=0.2, callbacks=[es])\n",
        "\n",
        "# plot training history\n",
        "plt.plot(history.history['loss'], label='train loss')\n",
        "plt.plot(history.history['val_loss'], label='valication loss')\n",
        "plt.legend()\n",
        "plt.show()\n",
        "\n",
        "print(\"Evaluation:\")\n",
        "print('training MSE:', model_cm.evaluate(X_train, y_train))\n",
        "print('test MSE:', model_cm.evaluate(X_test, y_test))\n",
        "\n"
      ],
      "execution_count": 211,
      "outputs": [
        {
          "output_type": "stream",
          "text": [
            "X_train.shape =  (8000, 3000)\n",
            "X_test.shape =  (2000, 3000)\n",
            "\n",
            "y_train.shape =  (8000,)\n",
            "y_test.shape =  (2000,)\n",
            "Train on 6400 samples, validate on 1600 samples\n",
            "Epoch 1/500\n",
            "6400/6400 [==============================] - 1s 149us/sample - loss: 1965.6965 - mean_squared_error: 1965.6965 - val_loss: 5.0006 - val_mean_squared_error: 5.0006\n",
            "Epoch 2/500\n",
            "6400/6400 [==============================] - 1s 117us/sample - loss: 4.3632 - mean_squared_error: 4.3632 - val_loss: 8.6549 - val_mean_squared_error: 8.6549\n",
            "Epoch 3/500\n",
            "6400/6400 [==============================] - 1s 114us/sample - loss: 3.1874 - mean_squared_error: 3.1874 - val_loss: 4.9531 - val_mean_squared_error: 4.9531\n",
            "Epoch 4/500\n",
            "6400/6400 [==============================] - 1s 116us/sample - loss: 3.1905 - mean_squared_error: 3.1905 - val_loss: 4.7761 - val_mean_squared_error: 4.7761\n",
            "Epoch 5/500\n",
            "6400/6400 [==============================] - 1s 110us/sample - loss: 2.8112 - mean_squared_error: 2.8112 - val_loss: 6.6586 - val_mean_squared_error: 6.6586\n",
            "Epoch 6/500\n",
            "6400/6400 [==============================] - 1s 112us/sample - loss: 2.9096 - mean_squared_error: 2.9096 - val_loss: 4.3660 - val_mean_squared_error: 4.3660\n",
            "Epoch 7/500\n",
            "6400/6400 [==============================] - 1s 112us/sample - loss: 1.7217 - mean_squared_error: 1.7217 - val_loss: 4.6792 - val_mean_squared_error: 4.6792\n",
            "Epoch 8/500\n",
            "6400/6400 [==============================] - 1s 112us/sample - loss: 2.2398 - mean_squared_error: 2.2398 - val_loss: 5.3268 - val_mean_squared_error: 5.3268\n",
            "Epoch 9/500\n",
            "6400/6400 [==============================] - 1s 110us/sample - loss: 1.8139 - mean_squared_error: 1.8139 - val_loss: 5.5098 - val_mean_squared_error: 5.5098\n",
            "Epoch 10/500\n",
            "6400/6400 [==============================] - 1s 113us/sample - loss: 1.7713 - mean_squared_error: 1.7713 - val_loss: 4.6154 - val_mean_squared_error: 4.6154\n",
            "Epoch 11/500\n",
            "6400/6400 [==============================] - 1s 112us/sample - loss: 1.3824 - mean_squared_error: 1.3824 - val_loss: 4.1856 - val_mean_squared_error: 4.1856\n",
            "Epoch 12/500\n",
            "6400/6400 [==============================] - 1s 111us/sample - loss: 1.2999 - mean_squared_error: 1.2999 - val_loss: 4.3338 - val_mean_squared_error: 4.3338\n",
            "Epoch 13/500\n",
            "6400/6400 [==============================] - 1s 112us/sample - loss: 1.4670 - mean_squared_error: 1.4670 - val_loss: 4.3201 - val_mean_squared_error: 4.3201\n",
            "Epoch 14/500\n",
            "6400/6400 [==============================] - 1s 113us/sample - loss: 0.9785 - mean_squared_error: 0.9785 - val_loss: 4.1691 - val_mean_squared_error: 4.1691\n",
            "Epoch 15/500\n",
            "6400/6400 [==============================] - 1s 113us/sample - loss: 0.8520 - mean_squared_error: 0.8520 - val_loss: 4.0755 - val_mean_squared_error: 4.0755\n",
            "Epoch 16/500\n",
            "6400/6400 [==============================] - 1s 111us/sample - loss: 0.8377 - mean_squared_error: 0.8377 - val_loss: 4.2007 - val_mean_squared_error: 4.2007\n",
            "Epoch 17/500\n",
            "6400/6400 [==============================] - 1s 113us/sample - loss: 0.9103 - mean_squared_error: 0.9103 - val_loss: 4.2183 - val_mean_squared_error: 4.2183\n",
            "Epoch 18/500\n",
            "6400/6400 [==============================] - 1s 112us/sample - loss: 0.8148 - mean_squared_error: 0.8148 - val_loss: 4.0358 - val_mean_squared_error: 4.0358\n",
            "Epoch 19/500\n",
            "6400/6400 [==============================] - 1s 115us/sample - loss: 0.6744 - mean_squared_error: 0.6744 - val_loss: 4.5302 - val_mean_squared_error: 4.5302\n",
            "Epoch 20/500\n",
            "6400/6400 [==============================] - 1s 111us/sample - loss: 0.6901 - mean_squared_error: 0.6901 - val_loss: 4.3525 - val_mean_squared_error: 4.3525\n",
            "Epoch 21/500\n",
            "6400/6400 [==============================] - 1s 112us/sample - loss: 0.7522 - mean_squared_error: 0.7522 - val_loss: 4.0801 - val_mean_squared_error: 4.0801\n",
            "Epoch 22/500\n",
            "6400/6400 [==============================] - 1s 115us/sample - loss: 0.6889 - mean_squared_error: 0.6889 - val_loss: 4.2267 - val_mean_squared_error: 4.2267\n",
            "Epoch 23/500\n",
            "6400/6400 [==============================] - 1s 111us/sample - loss: 0.6980 - mean_squared_error: 0.6980 - val_loss: 4.2987 - val_mean_squared_error: 4.2987\n",
            "Epoch 00023: early stopping\n"
          ],
          "name": "stdout"
        },
        {
          "output_type": "display_data",
          "data": {
            "image/png": "[encoded data removed]",
            "text/plain": [
              "<Figure size 432x288 with 1 Axes>"
            ]
          },
          "metadata": {
            "tags": [],
            "needs_background": "light"
          }
        },
        {
          "output_type": "stream",
          "text": [
            "Evaluation:\n",
            "8000/8000 [==============================] - 0s 60us/sample - loss: 1.3958 - mean_squared_error: 1.3958\n",
            "training MSE: [1.3958185811042785, 1.395819]\n",
            "2000/2000 [==============================] - 0s 58us/sample - loss: 4.2886 - mean_squared_error: 4.2886\n",
            "test MSE: [4.288573631286621, 4.288574]\n"
          ],
          "name": "stdout"
        }
      ]
    },
    {
      "cell_type": "code",
      "metadata": {
        "colab": {
          "base_uri": "https://localhost:8080/",
          "height": 434
        },
        "id": "JWEE1uewFdnL",
        "outputId": "a394f47a-9be2-41d0-85df-1221c16d8ba8"
      },
      "source": [
        "HIV_vec = np.concatenate((HIV_amino, HIV_cm))\n",
        "HIV_binding(model_cm, HIV_vec)"
      ],
      "execution_count": 212,
      "outputs": [
        {
          "output_type": "stream",
          "text": [
            "HIV-Ritonavior_ binding scores:\n",
            "HIV_Ritonavior_score =  8.416308\n",
            "HIV-AnotherDrug binding scores:\n",
            "Min affinitiy =  -0.05656214 .  Max affinitiy =  10.541729\n",
            "\n",
            "How many drugs have better bindings with HIV, compared to Ritonavior?\n",
            "0.0113\n",
            "How many drugs have equal bindings with HIV, compared to Ritonavior?\n",
            "0.0002\n"
          ],
          "name": "stdout"
        },
        {
          "output_type": "display_data",
          "data": {
            "image/png": "[encoded data removed]",
            "text/plain": [
              "<Figure size 432x288 with 1 Axes>"
            ]
          },
          "metadata": {
            "tags": [],
            "needs_background": "light"
          }
        }
      ]
    },
    {
      "cell_type": "code",
      "metadata": {
        "colab": {
          "base_uri": "https://localhost:8080/",
          "height": 727
        },
        "id": "N0wk_dpiUooc",
        "outputId": "69c8eace-be62-4deb-c5e2-0ab6a32a86f1"
      },
      "source": [
        "#Get model_cd\n",
        "# Input: X with center distances (vector length=3000), y(vector length=1000)\n",
        "X_train, X_test, y_train, y_test = split_data(X_cd, y)\n",
        "print(\"X_train.shape = \", X_train.shape)\n",
        "print(\"X_test.shape = \", X_test.shape)\n",
        "\n",
        "print(\"\\ny_train.shape = \", y_train.shape)\n",
        "print(\"y_test.shape = \", y_test.shape)\n",
        "\n",
        "\n",
        "\n",
        "model_cd = create_keras_model(3000, 1)\n",
        "es = tf.keras.callbacks.EarlyStopping(monitor='val_loss', mode='min', verbose=1, patience=5)\n",
        "model_cd.compile(optimizer='adam',\n",
        "              loss= 'mean_squared_error', \n",
        "              metrics=['mse']) \n",
        "history = model_cd.fit(X_train, y_train, epochs=500, validation_split=0.2, callbacks=[es])\n",
        "\n",
        "# plot training history\n",
        "plt.plot(history.history['loss'], label='train loss')\n",
        "plt.plot(history.history['val_loss'], label='valication loss')\n",
        "plt.legend()\n",
        "plt.show()\n",
        "\n",
        "print(\"Evaluation:\")\n",
        "print('training MSE:', model_cd.evaluate(X_train, y_train))\n",
        "print('test MSE:', model_cd.evaluate(X_test, y_test))\n",
        "\n"
      ],
      "execution_count": 213,
      "outputs": [
        {
          "output_type": "stream",
          "text": [
            "X_train.shape =  (8000, 3000)\n",
            "X_test.shape =  (2000, 3000)\n",
            "\n",
            "y_train.shape =  (8000,)\n",
            "y_test.shape =  (2000,)\n",
            "Train on 6400 samples, validate on 1600 samples\n",
            "Epoch 1/500\n",
            "6400/6400 [==============================] - 1s 153us/sample - loss: 3003.6383 - mean_squared_error: 3003.6360 - val_loss: 5.1998 - val_mean_squared_error: 5.1998\n",
            "Epoch 2/500\n",
            "6400/6400 [==============================] - 1s 112us/sample - loss: 4.3251 - mean_squared_error: 4.3251 - val_loss: 4.5362 - val_mean_squared_error: 4.5362\n",
            "Epoch 3/500\n",
            "6400/6400 [==============================] - 1s 114us/sample - loss: 3.8032 - mean_squared_error: 3.8032 - val_loss: 4.7709 - val_mean_squared_error: 4.7709\n",
            "Epoch 4/500\n",
            "6400/6400 [==============================] - 1s 113us/sample - loss: 3.2837 - mean_squared_error: 3.2837 - val_loss: 4.7461 - val_mean_squared_error: 4.7461\n",
            "Epoch 5/500\n",
            "6400/6400 [==============================] - 1s 114us/sample - loss: 2.8613 - mean_squared_error: 2.8613 - val_loss: 4.9786 - val_mean_squared_error: 4.9786\n",
            "Epoch 6/500\n",
            "6400/6400 [==============================] - 1s 114us/sample - loss: 3.0016 - mean_squared_error: 3.0016 - val_loss: 5.2450 - val_mean_squared_error: 5.2450\n",
            "Epoch 7/500\n",
            "6400/6400 [==============================] - 1s 112us/sample - loss: 2.4049 - mean_squared_error: 2.4049 - val_loss: 4.8318 - val_mean_squared_error: 4.8318\n",
            "Epoch 00007: early stopping\n"
          ],
          "name": "stdout"
        },
        {
          "output_type": "display_data",
          "data": {
            "image/png": "[encoded data removed]",
            "text/plain": [
              "<Figure size 432x288 with 1 Axes>"
            ]
          },
          "metadata": {
            "tags": [],
            "needs_background": "light"
          }
        },
        {
          "output_type": "stream",
          "text": [
            "Evaluation:\n",
            "8000/8000 [==============================] - 0s 60us/sample - loss: 2.5136 - mean_squared_error: 2.5136\n",
            "training MSE: [2.5136020851135252, 2.513602]\n",
            "2000/2000 [==============================] - 0s 65us/sample - loss: 4.6738 - mean_squared_error: 4.6738\n",
            "test MSE: [4.673771312713623, 4.6737714]\n"
          ],
          "name": "stdout"
        }
      ]
    },
    {
      "cell_type": "code",
      "metadata": {
        "colab": {
          "base_uri": "https://localhost:8080/",
          "height": 434
        },
        "id": "_6d35YIsFdc3",
        "outputId": "c87b0c23-d414-4bf7-8cfa-3366e8466f15"
      },
      "source": [
        "HIV_vec = np.concatenate((HIV_amino, HIV_cd))\n",
        "HIV_binding(model_cd, HIV_vec)"
      ],
      "execution_count": 214,
      "outputs": [
        {
          "output_type": "stream",
          "text": [
            "HIV-Ritonavior_ binding scores:\n",
            "HIV_Ritonavior_score =  6.072077\n",
            "HIV-AnotherDrug binding scores:\n",
            "Min affinitiy =  -0.13931721 .  Max affinitiy =  15.277287\n",
            "\n",
            "How many drugs have better bindings with HIV, compared to Ritonavior?\n",
            "0.3157\n",
            "How many drugs have equal bindings with HIV, compared to Ritonavior?\n",
            "0.0002\n"
          ],
          "name": "stdout"
        },
        {
          "output_type": "display_data",
          "data": {
            "image/png": "[encoded data removed]",
            "text/plain": [
              "<Figure size 432x288 with 1 Axes>"
            ]
          },
          "metadata": {
            "tags": [],
            "needs_background": "light"
          }
        }
      ]
    },
    {
      "cell_type": "markdown",
      "metadata": {
        "id": "W7Aon_2Pcvrw"
      },
      "source": [
        "TODO: edit below:\n",
        "* When using 1000-vector for drugs:\n",
        "\n",
        "   It seems almost 70% out of the 2111 drugs bind better with HIV, compared to Ritonavior. Thus our model might not be good enough?\n",
        "\n",
        "* When using 1000-vector for drugs:\n",
        "\n",
        "  Indeed Ritonavior has the highest binding score, but 94% of the 2111 drugs have the same binding score...\n"
      ]
    },
    {
      "cell_type": "code",
      "metadata": {
        "colab": {
          "base_uri": "https://localhost:8080/"
        },
        "id": "2MYBXGdaqRn_",
        "outputId": "e1e56ec8-1256-4114-90a5-dbedf1067f09"
      },
      "source": [
        "covid_amino = get_protein_amino_acids('6y84')\n",
        "print(\"covid_amino.shape = \", covid_amino.shape)\n",
        "\n",
        "\n",
        "# def covid_binding(covidName):\n",
        "covidName = '6y84' \n",
        "covid_cm_uncut = get_protein_contact_map(covidName, shrinking_ratio=20)\n",
        "print(len(covid_cm_uncut))\n",
        "\n",
        "covid_cm =  get_protein_cut_contact_map(covidName, shrinking_ratio=20)\n",
        "print(\"covid_cm.shape = \", covid_cm.shape)\n",
        "covid_cd =  get_protein_cut_center_distances(covidName)\n",
        "print(\"covid_cd.shape = \", covid_cd.shape)\n",
        "\n",
        "covid_vec_cm = np.concatenate((covid_amino, covid_cm))\n",
        "covid_vec_cd = np.concatenate((covid_amino, covid_cd))\n",
        "print(\"\\ncovid_vec_cm.shape = \", covid_vec_cm.shape)\n",
        "print(\"covid_vec_cd.shape = \", covid_vec_cd.shape)"
      ],
      "execution_count": 215,
      "outputs": [
        {
          "output_type": "stream",
          "text": [
            "covid_amino.shape =  (1000,)\n",
            "120\n",
            "covid_cm.shape =  (1000,)\n",
            "covid_cd.shape =  (1000,)\n",
            "\n",
            "covid_vec_cm.shape =  (2000,)\n",
            "covid_vec_cd.shape =  (2000,)\n"
          ],
          "name": "stdout"
        }
      ]
    },
    {
      "cell_type": "code",
      "metadata": {
        "id": "JzDO5Vnupetm"
      },
      "source": [
        "def covid_binding(keras_model, covid_vec, isLogreg=False):\n",
        "  # covid_pair = np.concatenate((covid_vec, ritonavior_ECFP))\n",
        "  # covid_Ritonavior_score = keras_model.predict(covid_pair.reshape(1,len(covid_pair)))[0][0]\n",
        "  # print(\"covidcm-Ritonavior_ binding scores:\")\n",
        "  # print(\"covid_Ritonavior_score = \", covid_Ritonavior_score)\n",
        "\n",
        "\n",
        "  print(\"covid-Drug binding scores:\")\n",
        "  covid_affinities = []\n",
        "  for i,ligandECFP in enumerate(all_ligandECFP):\n",
        "    pair = np.concatenate((covid_vec, ligandECFP))\n",
        "    aff =  keras_model.predict(pair.reshape(1,len(pair)))[0]\n",
        "    if not isLogreg:\n",
        "      aff = aff[0]\n",
        "    covid_affinities.append(aff)\n",
        "\n",
        "  covid_affinities = np.array(covid_affinities)\n",
        "  print(\"Min affinitiy = \", np.min(covid_affinities), \".  Max affinitiy = \", np.max(covid_affinities))\n",
        "  plt.hist(covid_affinities, bins=100);\n",
        "  plt.title(\"covid Affinities: \")\n",
        "  return covid_affinities\n",
        "  # print(\"\\nHow many drugs have better bindings with covid, compared to Ritonavior?\")\n",
        "  # print(len(covid_affinities[covid_affinities > covid_Ritonavior_score]) / len(covid_affinities))\n",
        "  # print(\"How many drugs have equal bindings with covid, compared to Ritonavior?\")\n",
        "  # print(len(covid_affinities[covid_affinities == covid_Ritonavior_score]) / len(covid_affinities))"
      ],
      "execution_count": 251,
      "outputs": []
    },
    {
      "cell_type": "code",
      "metadata": {
        "id": "xlOUQc2Xepx4"
      },
      "source": [
        "def get_top_drugs(covid_affinities):\n",
        "  print(\"Below are the Top 10 drug candidates for COVID-19:\")\n",
        "  print(\"Affinitiy score       Drug smiles: \")\n",
        "\n",
        "  for idx in np.argsort(covid_affinities)[-10:]:\n",
        "    drug_smiles = pdb_ligandName[idx]\n",
        "    aff_score = covid_affinities[idx]\n",
        "    print(aff_score, \"         \",  drug_smiles)"
      ],
      "execution_count": 217,
      "outputs": []
    },
    {
      "cell_type": "code",
      "metadata": {
        "colab": {
          "base_uri": "https://localhost:8080/",
          "height": 315
        },
        "id": "3JDbo_xqXHes",
        "outputId": "e8204f36-0bc4-4887-88fb-496228d6174b"
      },
      "source": [
        "covid_affinities=covid_binding(model, covid_amino)"
      ],
      "execution_count": 218,
      "outputs": [
        {
          "output_type": "stream",
          "text": [
            "covid-Drug binding scores:\n",
            "Min affinitiy =  -1.1975429 .  Max affinitiy =  13.196471\n"
          ],
          "name": "stdout"
        },
        {
          "output_type": "display_data",
          "data": {
            "image/png": "[encoded data removed]",
            "text/plain": [
              "<Figure size 432x288 with 1 Axes>"
            ]
          },
          "metadata": {
            "tags": [],
            "needs_background": "light"
          }
        }
      ]
    },
    {
      "cell_type": "code",
      "metadata": {
        "colab": {
          "base_uri": "https://localhost:8080/"
        },
        "id": "ls_0ZlfPYref",
        "outputId": "207a1af2-3edb-4a5a-90d0-3017d166be16"
      },
      "source": [
        "get_top_drugs(covid_affinities)"
      ],
      "execution_count": 219,
      "outputs": [
        {
          "output_type": "stream",
          "text": [
            "Below are the Top 10 drug candidates for COVID-19:\n",
            "Affinitiy score       Drug smiles: \n",
            "10.841564           (759)\n",
            "10.849892           (40Z)\n",
            "10.870573           (D5I)\n",
            "10.973335           (038)\n",
            "10.986149           (DQG)\n",
            "11.375539           (A97)\n",
            "11.411058           (2H7)\n",
            "11.5765           (FVQ)\n",
            "11.846134           (SG2)\n",
            "13.196471           (2MQ)\n"
          ],
          "name": "stdout"
        }
      ]
    },
    {
      "cell_type": "code",
      "metadata": {
        "colab": {
          "base_uri": "https://localhost:8080/",
          "height": 315
        },
        "id": "TqoVv8iXXcUG",
        "outputId": "ad3b8d53-872e-4a2b-dc95-70fcbe9f1395"
      },
      "source": [
        "covid_vec = np.concatenate((covid_amino, covid_cm))\n",
        "covid_affinities_cm=covid_binding(model_cm, covid_vec)"
      ],
      "execution_count": 220,
      "outputs": [
        {
          "output_type": "stream",
          "text": [
            "covid-Drug binding scores:\n",
            "Min affinitiy =  1.9734732 .  Max affinitiy =  11.109931\n"
          ],
          "name": "stdout"
        },
        {
          "output_type": "display_data",
          "data": {
            "image/png": "[encoded data removed]",
            "text/plain": [
              "<Figure size 432x288 with 1 Axes>"
            ]
          },
          "metadata": {
            "tags": [],
            "needs_background": "light"
          }
        }
      ]
    },
    {
      "cell_type": "code",
      "metadata": {
        "colab": {
          "base_uri": "https://localhost:8080/"
        },
        "id": "b6Qh2LbdYxZG",
        "outputId": "42a4a90c-c300-47c2-971e-c5a2a5cc6dda"
      },
      "source": [
        "get_top_drugs(covid_affinities_cm)"
      ],
      "execution_count": 221,
      "outputs": [
        {
          "output_type": "stream",
          "text": [
            "Below are the Top 10 drug candidates for COVID-19:\n",
            "Affinitiy score       Drug smiles: \n",
            "9.939889           (STL)\n",
            "9.96963           (3EJ)\n",
            "9.976301           (CKK)\n",
            "10.200956           (7Q1)\n",
            "10.200956           (WWO)\n",
            "10.200956           (ADP)\n",
            "10.237065           (E6T)\n",
            "10.44796           (444)\n",
            "10.574654           (TCB)\n",
            "11.109931           (ZAR)\n"
          ],
          "name": "stdout"
        }
      ]
    },
    {
      "cell_type": "code",
      "metadata": {
        "colab": {
          "base_uri": "https://localhost:8080/",
          "height": 315
        },
        "id": "1_QyzSn4smSf",
        "outputId": "d1398867-a22a-4392-ff95-f200abaf80c6"
      },
      "source": [
        "covid_vec = np.concatenate((covid_amino, covid_cd))\n",
        "covid_affinities_cd=covid_binding(model_cd, covid_vec)"
      ],
      "execution_count": 222,
      "outputs": [
        {
          "output_type": "stream",
          "text": [
            "covid-Drug binding scores:\n",
            "Min affinitiy =  0.0956367 .  Max affinitiy =  15.808147\n"
          ],
          "name": "stdout"
        },
        {
          "output_type": "display_data",
          "data": {
            "image/png": "[encoded data removed]",
            "text/plain": [
              "<Figure size 432x288 with 1 Axes>"
            ]
          },
          "metadata": {
            "tags": [],
            "needs_background": "light"
          }
        }
      ]
    },
    {
      "cell_type": "code",
      "metadata": {
        "id": "DfW-Ug8sSIbe",
        "colab": {
          "base_uri": "https://localhost:8080/"
        },
        "outputId": "cf9bef7e-685e-4028-e57c-18a3a6e677d2"
      },
      "source": [
        "get_top_drugs(covid_affinities_cd)"
      ],
      "execution_count": 223,
      "outputs": [
        {
          "output_type": "stream",
          "text": [
            "Below are the Top 10 drug candidates for COVID-19:\n",
            "Affinitiy score       Drug smiles: \n",
            "11.061966           (NHI)\n",
            "11.072758           (GXE)\n",
            "11.171318           (6DP)\n",
            "12.115985           (XPF)\n",
            "12.115985           (57R)\n",
            "12.490885           (ZD6)\n",
            "12.602945           (LZ8)\n",
            "12.602945           (AD6)\n",
            "15.808147           (P17)\n",
            "15.808147           (RBF)\n"
          ],
          "name": "stdout"
        }
      ]
    },
    {
      "cell_type": "markdown",
      "metadata": {
        "id": "BeeYn_hqxNT-"
      },
      "source": [
        "Logistic Regression:"
      ]
    },
    {
      "cell_type": "code",
      "metadata": {
        "id": "vBQo4No5dDpd",
        "outputId": "0eaff1ae-dce7-4f39-e846-4760c37ad8c4",
        "colab": {
          "base_uri": "https://localhost:8080/"
        }
      },
      "source": [
        "X_train, X_test, y_train, y_test = split_data(X, y)\n",
        "\n",
        "y_train_int = []\n",
        "for y_float in y_train:\n",
        "  y_train_int.append(round(y_float*100))\n",
        "\n",
        "y_train_int[:10]\n",
        "from sklearn.linear_model import LogisticRegression\n",
        "\n",
        "lr = LogisticRegression()\n",
        "lr.fit(X_train, y_train_int)\n",
        "\n",
        "y_pred=lr.predict(X_test)/100\n",
        "print(y_pred[:10])\n",
        "print(mean_squared_error(y_test, y_pred))"
      ],
      "execution_count": 238,
      "outputs": [
        {
          "output_type": "stream",
          "text": [
            "[7.46 7.   5.3  6.42 8.04 8.4  2.98 6.6  3.   7.96]\n",
            "5.20442475\n"
          ],
          "name": "stdout"
        }
      ]
    },
    {
      "cell_type": "code",
      "metadata": {
        "id": "Z5baAU_hdDnH",
        "outputId": "5d06872e-d917-456f-af62-d1a175ca4705",
        "colab": {
          "base_uri": "https://localhost:8080/"
        }
      },
      "source": [
        "X_train, X_test, y_train, y_test = split_data(X_cm, y)\n",
        "\n",
        "y_train_int = []\n",
        "for y_float in y_train:\n",
        "  y_train_int.append(round(y_float*100))\n",
        "\n",
        "y_train_int[:10]\n",
        "\n",
        "lr_cm = LogisticRegression()\n",
        "lr_cm.fit(X_train, y_train_int)\n",
        "y_pred=lr_cm.predict(X_test)/100\n",
        "print(y_pred[:10])\n",
        "mean_squared_error(y_test, y_pred)"
      ],
      "execution_count": 239,
      "outputs": [
        {
          "output_type": "stream",
          "text": [
            "[7.46 7.   5.3  8.22 8.04 6.88 2.98 6.52 6.77 7.96]\n"
          ],
          "name": "stdout"
        },
        {
          "output_type": "execute_result",
          "data": {
            "text/plain": [
              "4.8767024"
            ]
          },
          "metadata": {
            "tags": []
          },
          "execution_count": 239
        }
      ]
    },
    {
      "cell_type": "code",
      "metadata": {
        "id": "RXp9LANFvbAR",
        "outputId": "249abd15-79c6-4cbd-d431-2690908f1c52",
        "colab": {
          "base_uri": "https://localhost:8080/"
        }
      },
      "source": [
        "X_train, X_test, y_train, y_test = split_data(X_cd, y)\n",
        "\n",
        "y_train_int = []\n",
        "for y_float in y_train:\n",
        "  y_train_int.append(round(y_float*100))\n",
        "\n",
        "y_train_int[:10]\n",
        "\n",
        "lr_cd = LogisticRegression()\n",
        "lr_cd.fit(X_train, y_train_int)\n",
        "y_pred=lr_cd.predict(X_test)/100\n",
        "print(y_pred[:10])\n",
        "mean_squared_error(y_test, y_pred)"
      ],
      "execution_count": 240,
      "outputs": [
        {
          "output_type": "stream",
          "text": [
            "[7.46 7.   5.3  6.42 8.04 6.6  2.98 6.52 3.   7.96]\n"
          ],
          "name": "stdout"
        },
        {
          "output_type": "execute_result",
          "data": {
            "text/plain": [
              "4.859327649999999"
            ]
          },
          "metadata": {
            "tags": []
          },
          "execution_count": 240
        }
      ]
    },
    {
      "cell_type": "code",
      "metadata": {
        "id": "CMmF389CvuvN",
        "outputId": "32cfdb18-eed2-4c5e-cc37-ca2a5a2409db",
        "colab": {
          "base_uri": "https://localhost:8080/",
          "height": 434
        }
      },
      "source": [
        "HIV_vec = HIV_amino\n",
        "HIV_binding(clf, HIV_vec, True)"
      ],
      "execution_count": 242,
      "outputs": [
        {
          "output_type": "stream",
          "text": [
            "HIV-Ritonavior_ binding scores:\n",
            "HIV_Ritonavior_score =  815\n",
            "HIV-AnotherDrug binding scores:\n",
            "Min affinitiy =  49 .  Max affinitiy =  885\n",
            "\n",
            "How many drugs have better bindings with HIV, compared to Ritonavior?\n",
            "0.139\n",
            "How many drugs have equal bindings with HIV, compared to Ritonavior?\n",
            "0.0089\n"
          ],
          "name": "stdout"
        },
        {
          "output_type": "display_data",
          "data": {
            "image/png": "[encoded data removed]",
            "text/plain": [
              "<Figure size 432x288 with 1 Axes>"
            ]
          },
          "metadata": {
            "tags": [],
            "needs_background": "light"
          }
        }
      ]
    },
    {
      "cell_type": "code",
      "metadata": {
        "id": "gdBdG26gwAI5",
        "outputId": "71bb04d8-081e-4b64-8106-bc8bf0298154",
        "colab": {
          "base_uri": "https://localhost:8080/",
          "height": 434
        }
      },
      "source": [
        "HIV_vec = np.concatenate((HIV_amino, HIV_cm))\n",
        "HIV_binding(lr_cm, HIV_vec, True)"
      ],
      "execution_count": 243,
      "outputs": [
        {
          "output_type": "stream",
          "text": [
            "HIV-Ritonavior_ binding scores:\n",
            "HIV_Ritonavior_score =  815\n",
            "HIV-AnotherDrug binding scores:\n",
            "Min affinitiy =  49 .  Max affinitiy =  885\n",
            "\n",
            "How many drugs have better bindings with HIV, compared to Ritonavior?\n",
            "0.1233\n",
            "How many drugs have equal bindings with HIV, compared to Ritonavior?\n",
            "0.0103\n"
          ],
          "name": "stdout"
        },
        {
          "output_type": "display_data",
          "data": {
            "image/png": "[encoded data removed]",
            "text/plain": [
              "<Figure size 432x288 with 1 Axes>"
            ]
          },
          "metadata": {
            "tags": [],
            "needs_background": "light"
          }
        }
      ]
    },
    {
      "cell_type": "code",
      "metadata": {
        "id": "H7gyxzoZwNq4",
        "outputId": "024ad83e-b3da-4e4a-c9af-bc18282c5e27",
        "colab": {
          "base_uri": "https://localhost:8080/",
          "height": 434
        }
      },
      "source": [
        "HIV_vec = np.concatenate((HIV_amino, HIV_cd))\n",
        "HIV_binding(lr_cd, HIV_vec, True)"
      ],
      "execution_count": 244,
      "outputs": [
        {
          "output_type": "stream",
          "text": [
            "HIV-Ritonavior_ binding scores:\n",
            "HIV_Ritonavior_score =  815\n",
            "HIV-AnotherDrug binding scores:\n",
            "Min affinitiy =  49 .  Max affinitiy =  885\n",
            "\n",
            "How many drugs have better bindings with HIV, compared to Ritonavior?\n",
            "0.1303\n",
            "How many drugs have equal bindings with HIV, compared to Ritonavior?\n",
            "0.0148\n"
          ],
          "name": "stdout"
        },
        {
          "output_type": "display_data",
          "data": {
            "image/png": "[encoded data removed]",
            "text/plain": [
              "<Figure size 432x288 with 1 Axes>"
            ]
          },
          "metadata": {
            "tags": [],
            "needs_background": "light"
          }
        }
      ]
    },
    {
      "cell_type": "code",
      "metadata": {
        "id": "niusfwwIwySs",
        "outputId": "0e49d100-d834-42ed-bc71-2fd8920ff9d0",
        "colab": {
          "base_uri": "https://localhost:8080/",
          "height": 519
        }
      },
      "source": [
        "covid_affinities=covid_binding(lr, covid_amino, True)\n",
        "get_top_drugs(covid_affinities)"
      ],
      "execution_count": 252,
      "outputs": [
        {
          "output_type": "stream",
          "text": [
            "covid-Drug binding scores:\n",
            "Min affinitiy =  49 .  Max affinitiy =  885\n",
            "Below are the Top 10 drug candidates for COVID-19:\n",
            "Affinitiy score       Drug smiles: \n",
            "885           (AR6)\n",
            "885           (8W6)\n",
            "885           (FGV)\n",
            "885           (GIM)\n",
            "885           (RXM)\n",
            "885           (N93)\n",
            "885           (SA8)\n",
            "885           (4TU)\n",
            "885           (15U)\n",
            "885           (PD2)\n"
          ],
          "name": "stdout"
        },
        {
          "output_type": "display_data",
          "data": {
            "image/png": "[encoded data removed]",
            "text/plain": [
              "<Figure size 432x288 with 1 Axes>"
            ]
          },
          "metadata": {
            "tags": [],
            "needs_background": "light"
          }
        }
      ]
    },
    {
      "cell_type": "code",
      "metadata": {
        "id": "Wxv57sRqw6kP",
        "outputId": "1045e8c7-fae6-4edc-d15c-f206044f919f",
        "colab": {
          "base_uri": "https://localhost:8080/",
          "height": 519
        }
      },
      "source": [
        "covid_vec = np.concatenate((covid_amino, covid_cm))\n",
        "covid_affinities_cm=covid_binding(lr_cm, covid_vec, True)\n",
        "get_top_drugs(covid_affinities_cm)"
      ],
      "execution_count": 253,
      "outputs": [
        {
          "output_type": "stream",
          "text": [
            "covid-Drug binding scores:\n",
            "Min affinitiy =  49 .  Max affinitiy =  885\n",
            "Below are the Top 10 drug candidates for COVID-19:\n",
            "Affinitiy score       Drug smiles: \n",
            "885           (0DU)\n",
            "885           (F79)\n",
            "885           (XNZ)\n",
            "885           (PD2)\n",
            "885           (AR6)\n",
            "885           (40F)\n",
            "885           (GIM)\n",
            "885           (CKH)\n",
            "885           (2TA)\n",
            "885           (RET)\n"
          ],
          "name": "stdout"
        },
        {
          "output_type": "display_data",
          "data": {
            "image/png": "[encoded data removed]",
            "text/plain": [
              "<Figure size 432x288 with 1 Axes>"
            ]
          },
          "metadata": {
            "tags": [],
            "needs_background": "light"
          }
        }
      ]
    },
    {
      "cell_type": "code",
      "metadata": {
        "id": "8QfTt79SxBLl",
        "outputId": "2ef5838c-bfc2-46b6-da01-fb7e91476600",
        "colab": {
          "base_uri": "https://localhost:8080/",
          "height": 519
        }
      },
      "source": [
        "covid_vec = np.concatenate((covid_amino, covid_cd))\n",
        "covid_affinities_cd=covid_binding(lr_cd, covid_vec, True)\n",
        "get_top_drugs(covid_affinities_cd)"
      ],
      "execution_count": 254,
      "outputs": [
        {
          "output_type": "stream",
          "text": [
            "covid-Drug binding scores:\n",
            "Min affinitiy =  49 .  Max affinitiy =  885\n",
            "Below are the Top 10 drug candidates for COVID-19:\n",
            "Affinitiy score       Drug smiles: \n",
            "885           (17K)\n",
            "885           (RET)\n",
            "885           (RXM)\n",
            "885           (F79)\n",
            "885           (56H)\n",
            "885           (GIM)\n",
            "885           (PD2)\n",
            "885           (AR6)\n",
            "885           (3XL)\n",
            "885           (2SE)\n"
          ],
          "name": "stdout"
        },
        {
          "output_type": "display_data",
          "data": {
            "image/png": "[encoded data removed]",
            "text/plain": [
              "<Figure size 432x288 with 1 Axes>"
            ]
          },
          "metadata": {
            "tags": [],
            "needs_background": "light"
          }
        }
      ]
    }
  ]
}
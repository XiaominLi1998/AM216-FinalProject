{
  "nbformat": 4,
  "nbformat_minor": 0,
  "metadata": {
    "colab": {
      "name": "May13_Confirmed_Final_Drug_Binding_Project.ipynb",
      "provenance": [],
      "collapsed_sections": []
    },
    "kernelspec": {
      "display_name": "Python 3",
      "language": "python",
      "name": "python3"
    },
    "language_info": {
      "codemirror_mode": {
        "name": "ipython",
        "version": 3
      },
      "file_extension": ".py",
      "mimetype": "text/x-python",
      "name": "python",
      "nbconvert_exporter": "python",
      "pygments_lexer": "ipython3",
      "version": "3.8.3"
    },
    "toc": {
      "base_numbering": 1,
      "nav_menu": {},
      "number_sections": true,
      "sideBar": true,
      "skip_h1_title": false,
      "title_cell": "Table of Contents",
      "title_sidebar": "Contents",
      "toc_cell": false,
      "toc_position": {},
      "toc_section_display": true,
      "toc_window_display": false
    },
    "accelerator": "GPU"
  },
  "cells": [
    {
      "cell_type": "markdown",
      "metadata": {
        "id": "XN6dxHwuSFXW"
      },
      "source": [
        "# AM216 Final-Project: Extend Mini-Project: Predicting drug target interaction using 3D information and predicting ligands that can bind to COVID-19 targets.\n",
        "\n",
        "Components of X:\n",
        "*   **Protein**: residues chains (vector length 1000 or other lengths we choose to truncate)\n",
        "*   **Protein 3D**: contact map of residue distances (vector length around ~20000 after flattening the triangular matrix; need to standardize)\n",
        "*   **Ligand**: ECFP signature (1024 or 2048)\n",
        "\n",
        "y: affinity score\n",
        "\n",
        "Proposed models:\n",
        "1.   **Mini project**: concatenate protein residue chain and ligant signature to get X\n",
        "2.   **Just contact map**: concatenate flattened contact map and ligand signature to get X\n",
        "3.   **Early fusion**: concatenate protein residue chain, flattened contact map and ligand signature to get X\n",
        "4.   **Late fusion**: train and predict using Model 1 and Model 2 separately, consensus model at the end\n",
        "5.   **CNN**: Instead of flattening contact map, use convolutaional NN to convolve the map and derive flattened layer\n",
        "6.   **Pocket**: Instead of using the contact map of the whole protein, get the residues of the just the pocket and get the contact map\n",
        "\n",
        "\n",
        "\n",
        "\n",
        "\n",
        "\n",
        "\n",
        "\n"
      ]
    },
    {
      "cell_type": "markdown",
      "metadata": {
        "id": "wVhNjK4kSFXZ"
      },
      "source": [
        "## 1. Install Packages\n",
        "\n",
        "*   Rdkit\n",
        "*   Deepchem\n",
        "* Lifelines (calculate CI scores faster)\n",
        "* Biopython (BioPython's **Bio.PDB** module includes code to load PDB files and calculate the alpha carbon distance between pair of their residues)\n",
        "\n",
        "\n",
        "\n"
      ]
    },
    {
      "cell_type": "code",
      "metadata": {
        "id": "G7fQCZJ8q9Je",
        "colab": {
          "base_uri": "https://localhost:8080/"
        },
        "outputId": "1835b573-0c04-4b6d-d2e6-5f9845324c13"
      },
      "source": [
        "%tensorflow_version 1.x"
      ],
      "execution_count": null,
      "outputs": [
        {
          "output_type": "stream",
          "text": [
            "TensorFlow 1.x selected.\n"
          ],
          "name": "stdout"
        }
      ]
    },
    {
      "cell_type": "code",
      "metadata": {
        "id": "ps7x414nDcHu",
        "scrolled": true,
        "colab": {
          "base_uri": "https://localhost:8080/"
        },
        "outputId": "3945590b-5add-42a4-e1de-0015a1263a16"
      },
      "source": [
        "%%capture cap --no-stderr \n",
        "#%%capture is used to suppress the output of this particular cell \n",
        "\n",
        "import sys\n",
        "import time\n",
        "import os.path\n",
        "if not os.path.exists('Anaconda3-2019.10-Linux-x86_64.sh'):\n",
        "  t_start = time.time()\n",
        "  !wget -c https://repo.anaconda.com/archive/Anaconda3-2019.10-Linux-x86_64.sh\n",
        "  !chmod +x Anaconda3-2019.10-Linux-x86_64.sh\n",
        "  !bash ./Anaconda3-2019.10-Linux-x86_64.sh -b -f -p /usr/local\n",
        "  print(\"Done: Anaconda3\", file=sys.stderr)\n",
        "  t_end = time.time(); print(\"----Elasped: %f seconds\" % (t_end - t_start), file=sys.stderr); t_start = time.time();\n",
        "\n",
        "\n",
        "  !conda install -y -c deepchem -c rdkit -c conda-forge -c omnia deepchem-gpu=2.3.0\n",
        "  \n",
        "  print(\"Done: deepchem & rdkit\", file=sys.stderr)\n",
        "  # !conda create -c conda-forge -n my-rdkit-env rdkit;\n",
        "  # !activate my-rdkit-env; #(OR TRY: !activate my-rdkit-env)\n",
        "  # !conda install -c conda-forge rdkit;\n",
        "  # print(\"Done: rdkit\", file=sys.stderr)\n",
        "  t_end = time.time(); print(\"----Elasped: %f seconds\" % (t_end - t_start), file=sys.stderr); t_start = time.time();\n",
        "\n",
        "  !pip install lifelines;\n",
        "  !pip install biopython;\n",
        "  !pip install mmtf-python;\n",
        "  print(\"Done: pip install lifelines & biopython & mmtf-python\", file=sys.stderr)\n",
        "  t_end = time.time(); print(\"----Elasped: %f seconds\" % (t_end - t_start), file=sys.stderr);"
      ],
      "execution_count": null,
      "outputs": [
        {
          "output_type": "stream",
          "text": [
            "Done: Anaconda3\n",
            "----Elasped: 88.046609 seconds\n",
            "Done: deepchem & rdkit\n",
            "----Elasped: 276.369965 seconds\n",
            "Done: pip install lifelines & biopython & mmtf-python\n",
            "----Elasped: 9.486234 seconds\n"
          ],
          "name": "stderr"
        }
      ]
    },
    {
      "cell_type": "code",
      "metadata": {
        "id": "IcdYdzPuHNfH"
      },
      "source": [
        "%%capture\n",
        "import sys\n",
        "sys.path.append('/usr/local/lib/python3.7/site-packages/')\n",
        "import warnings\n",
        "warnings.filterwarnings(\"ignore\")\n",
        "\n",
        "import deepchem as dc\n",
        "import numpy as np\n",
        "import os.path\n",
        "import urllib.request\n",
        "import pandas as pd\n",
        "import Bio.PDB\n",
        "import tensorflow as tf\n",
        "\n",
        "\n",
        "from rdkit.Chem import AllChem as Chem\n",
        "from rdkit.Chem import MolFromSmiles\n",
        "from Bio.PDB.mmtf import MMTFParser\n",
        "\n",
        "  \n",
        "import matplotlib.pyplot as plt\n",
        "import json\n",
        "import pickle\n",
        "import networkx as nx\n",
        "from collections import OrderedDict\n",
        "from lifelines.utils import concordance_index as ci\n",
        "from sklearn.model_selection import train_test_split\n"
      ],
      "execution_count": null,
      "outputs": []
    },
    {
      "cell_type": "markdown",
      "metadata": {
        "id": "6Cl4Ai8CSFYE"
      },
      "source": [
        "## 2. Parsing Data\n",
        "TODO: describe the data we are using.\n",
        "\n",
        "### 2.1 Parsing PDB data to get the 3D info\n"
      ]
    },
    {
      "cell_type": "code",
      "metadata": {
        "id": "IHNSbOVERrb_"
      },
      "source": [
        "def subsample(dataFrame, n_or_frac):\n",
        "  if n_or_frac < 1.0:\n",
        "    return dataFrame.sample(frac = n_or_frac)\n",
        "  else:\n",
        "    return dataFrame.sample(n = n_or_frac)\n",
        "\n",
        "with open('Ligand_Dict.json') as f:\n",
        "    ligand_dict = json.load(f)\n",
        "pdb_data = pd.read_csv('PDBbind2019PLdata_cleaned.csv')\n",
        "\n",
        "\n",
        "pdb_proteinName = np.array(pdb_data['proteinName'])\n",
        "pdb_affinity = np.array(pdb_data['affinity'])\n",
        "pdb_ligandName = np.array(pdb_data['ligandName'])\n",
        "\n",
        "\n",
        "pdb_data_small = pd.read_csv('pdbbind_core_df_cleaned.csv')\n",
        "pdb_proteinName_small = np.array(pdb_data_small['proteinName'])\n",
        "pdb_affinity_small = np.array(pdb_data_small['affinity'])\n",
        "pdb_ligandName_small = np.array(pdb_data_small['ligandName'])\n",
        "\n",
        "\n",
        "SAMPLE_SIZE = 30\n",
        "pdb_data_medium = subsample(pdb_data, SAMPLE_SIZE)\n",
        "pdb_proteinName_medium = np.array(pdb_data_medium['proteinName'])\n",
        "pdb_affinity_medium = np.array(pdb_data_medium['affinity'])\n",
        "pdb_ligandName_medium = np.array(pdb_data_medium['ligandName'])"
      ],
      "execution_count": null,
      "outputs": []
    },
    {
      "cell_type": "code",
      "metadata": {
        "id": "5rpxK-GhRuFF",
        "colab": {
          "base_uri": "https://localhost:8080/"
        },
        "outputId": "44cccb06-d709-48a5-db04-5dd70d73a8d0"
      },
      "source": [
        "print(\"pdb_proteinName.shape:\", pdb_proteinName.shape)\n",
        "print(\"pdb_affinity.shape:\", pdb_affinity.shape)\n",
        "print(\"pdb_ligandName.shape:\", pdb_ligandName.shape)\n",
        "\n",
        "print(\"\\n\\npdb_proteinName_small.shape:\", pdb_proteinName_small.shape)\n",
        "print(\"pdb_affinity_small.shape:\", pdb_affinity_small.shape)\n",
        "print(\"pdb_ligandName_small.shape:\", pdb_ligandName_small.shape)\n",
        "\n",
        "print(\"\\n\\npdb_proteinName_medium.shape:\", pdb_proteinName_medium.shape)\n",
        "print(\"pdb_affinity_medium.shape:\", pdb_affinity_medium.shape)\n",
        "print(\"pdb_ligandName_medium.shape:\", pdb_ligandName_medium.shape)"
      ],
      "execution_count": null,
      "outputs": [
        {
          "output_type": "stream",
          "text": [
            "pdb_proteinName.shape: (15080,)\n",
            "pdb_affinity.shape: (15080,)\n",
            "pdb_ligandName.shape: (15080,)\n",
            "\n",
            "\n",
            "pdb_proteinName_small.shape: (193,)\n",
            "pdb_affinity_small.shape: (193,)\n",
            "pdb_ligandName_small.shape: (193,)\n",
            "\n",
            "\n",
            "pdb_proteinName_medium.shape: (30,)\n",
            "pdb_affinity_medium.shape: (30,)\n",
            "pdb_ligandName_medium.shape: (30,)\n"
          ],
          "name": "stdout"
        }
      ]
    },
    {
      "cell_type": "markdown",
      "metadata": {
        "id": "OR1G-0oxQSIx"
      },
      "source": [
        " #### 3D Representation 1: Contact map\n",
        "\n",
        "We get the list of residues in each protein and treat that as a single chain to calculate the contact map of this protein. After flattened, the length of the contact map vector should be **O(residue_count * residue_count)**, which is too big for some proteins with large number of residues. Hence, we tried to shrink it by collapsing the 3D coordinates a group of neighboring residues into a single one."
      ]
    },
    {
      "cell_type": "code",
      "metadata": {
        "id": "WTIiSHZRSFYF"
      },
      "source": [
        "def filter_residues(residues):\n",
        "  new_residues = []\n",
        "  for res in residues:\n",
        "    if 'CA' in res:\n",
        "      new_residues.append(res)\n",
        "  return new_residues\n",
        "\n",
        "def calc_residue_dist_by_residues(residue_one, residue_two) :\n",
        "    \"\"\"Returns the C-alpha distance between two residues\"\"\"\n",
        "    diff_vector  = residue_one[\"CA\"].coord - residue_two[\"CA\"].coord\n",
        "    return np.sqrt(np.sum(diff_vector * diff_vector))\n",
        "\n",
        "#Essentially the Euclidean distance between 2 coords\n",
        "def calc_residue_dist_by_coords(coord1, coord2) :\n",
        "    \"\"\"Returns the C-alpha distance between two residues\"\"\"\n",
        "    diff_vector  = coord1 - coord2\n",
        "    # return np.sqrt(np.sum(diff_vector * diff_vector))\n",
        "    return np.linalg.norm(diff_vector)\n",
        "\n",
        "\n",
        "\n",
        "# We expect residue_list1 and residue_list2 to be the same thing: residue list of one protein. Hence the result should be a symmetric matrix, and thus we decided to only calculate the independent entries.\n",
        "def calc_dist_matrix_by_residues(residue_list1) :\n",
        "    \"\"\"Returns a matrix of C-alpha distances between two chains\"\"\"\n",
        "    # answer = np.zeros((len(residue_list1), len(chain_two)), np.float)\n",
        "    answer = []\n",
        "    for row, residue_one in enumerate(residue_list1) :\n",
        "        for col, residue_two in enumerate(residue_list1[row+1:]) :\n",
        "            answer.append(calc_residue_dist(residue_one, residue_two))\n",
        "    return answer\n",
        "\n",
        "def calc_dist_matrix_by_coords(coord_list1) :\n",
        "    \"\"\"Returns a matrix of C-alpha distances between two chains\"\"\"\n",
        "    # answer = np.zeros((len(residue_list1), len(chain_two)), np.float)\n",
        "    answer = []\n",
        "    for row, coord1 in enumerate(coord_list1) :\n",
        "        for col, coord2 in enumerate(coord_list1[row+1:]) :\n",
        "            answer.append(calc_residue_dist_by_coords(coord1, coord2))\n",
        "    return answer\n",
        "\n",
        "\n",
        "# Returns the contact map for one protein and prints the info - slow (for demonstration purpose)\n",
        "# It does the shrinking by shrinking_ratio within each chain (coords from end of chain1 and start of chain 2 will NOT be collapsed together).\n",
        "def get_protein_contact_map_slow(proteinName, shrinking_ratio=20):\n",
        "  structure=MMTFParser.get_structure_from_url(proteinName)\n",
        "  all_chains =structure[0]\n",
        "  \n",
        "  #Get 1.residues: list of all residues in the protein\n",
        "#      2.CA_coord_list has length equal num of chains. \n",
        "  residues = []\n",
        "  CA_coord_list = []\n",
        "\n",
        "  for idx_chain, chain in enumerate(all_chains):\n",
        "    CA_curr_chain = []\n",
        "    for idx_residue, residue in enumerate(chain):\n",
        "      residues.append(residue)\n",
        "      if 'CA' in residue:\n",
        "        CA_curr_chain.append(residue['CA'].coord)\n",
        "    CA_coord_list.append(CA_curr_chain)\n",
        "    print(\"Chain with id %d has %d residues in total, and %d residues with CA.\" % (idx_chain, len(chain), len(CA_curr_chain)))\n",
        "  print(\"\\nCount of residues: \", len(residues))\n",
        "  residues = filter_residues(residues)\n",
        "  print(\"Count of residues with CA: \", len(residues))\n",
        "\n",
        "\n",
        "  # Get coord_list: collapsing list of CA coords of all resiudues with CA in the protein\n",
        "  coord_list = []\n",
        "  for CA_curr_chain in CA_coord_list:\n",
        "    cutting_points = list(np.arange(0,len(CA_curr_chain),shrinking_ratio))\n",
        "    cutting_points.append(len(CA_curr_chain))\n",
        "    for i, start in enumerate(cutting_points[:-1]):\n",
        "      end = cutting_points[i+1]\n",
        "      coord_list.append(np.mean(CA_curr_chain[start:end],axis=0))\n",
        "  print(\"After shrinking, len(coord_list) = \", len(coord_list))\n",
        "\n",
        "\n",
        "  # Calculate contact_map: pair wise distance of the coords\n",
        "  contact_map = calc_dist_matrix_by_coords(coord_list)\n",
        "  print(\"len(contact_map) = \", len(contact_map))\n",
        "  return contact_map\n",
        "\n",
        "\n",
        "\n",
        "# Returns the contact map for one protein and does not print the info - fast\n",
        "# It does not do the exact shrinking within each chain (That is, coords from end of chain1 and start of chain 2 will be collapsed together).\n",
        "def get_protein_contact_map(proteinName, shrinking_ratio=20):\n",
        "  structure=MMTFParser.get_structure_from_url(proteinName)\n",
        "  all_chains =structure[0]\n",
        "  \n",
        "  #Get CA_coord_list: list of CA coords of all residues with CA\n",
        "  CA_coord_list = []\n",
        "  for idx_chain, chain in enumerate(all_chains):\n",
        "    for idx_residue, residue in enumerate(chain):\n",
        "      if 'CA' in residue:\n",
        "        CA_coord_list.append(residue['CA'].coord)\n",
        "  # print(\"len(CA_coord_list) = \", len(CA_coord_list))\n",
        "\n",
        "  # Get coord_list: collapsing list of CA coords of all resiudues with CA in the protein\n",
        "  coord_list = []\n",
        "  cutting_points = list(np.arange(0,len(CA_coord_list),shrinking_ratio))\n",
        "  cutting_points.append(len(CA_coord_list))\n",
        "  for i, start in enumerate(cutting_points[:-1]):\n",
        "    end = cutting_points[i+1]\n",
        "    coord_list.append(np.mean(CA_coord_list[start:end],axis=0))\n",
        "  # print(\"After shrinking, len(coord_list) = \", len(coord_list))\n",
        "\n",
        "  # Calculate contact_map: pair wise distance of the coords\n",
        "  contact_map = calc_dist_matrix_by_coords(coord_list)\n",
        "  # print(\"len(contact_map) = \", len(contact_map))\n",
        "\n",
        "  return contact_map\n",
        "\n",
        "\n",
        "\n",
        "#Cutting/Padding: use the code from miniproject (how they got 1000-long vector for proteins)\n",
        "CONTACT_MAP_LENGTH=1000\n",
        "\n",
        "def cut_or_pad(my_list, length):\n",
        "    array = np.zeros(length)\n",
        "    for i, row in enumerate(my_list[:length]): \n",
        "        array[i] = row\n",
        "    return array \n",
        "\n",
        "def get_protein_cut_contact_map(proteinName, shrinking_ratio=20):\n",
        "  contact_map_uncut = get_protein_contact_map(proteinName, shrinking_ratio)\n",
        "  contact_map = cut_or_pad(contact_map_uncut, CONTACT_MAP_LENGTH)\n",
        "  return contact_map\n"
      ],
      "execution_count": null,
      "outputs": []
    },
    {
      "cell_type": "markdown",
      "metadata": {
        "id": "ZWoFSHCYVkwh"
      },
      "source": [
        "Below we are trying to find the fastest way to loop through all residues and get the CA coords from residues with CA.\n",
        "\n",
        "Conclusion: for all the 5 approaches we tried, including using list comprehensiong and mapping, it still takes about 0.5 sec to calculate the CA coordinate list for 1 protein."
      ]
    },
    {
      "cell_type": "markdown",
      "metadata": {
        "id": "O_vhsk-UfzkS"
      },
      "source": [
        "Now we continue processing the contact maps for all proteins. Then we need to do cutting/padding on the data (list of distinct-length lists) so they have equal length in the end (list of equal-length lists)"
      ]
    },
    {
      "cell_type": "code",
      "metadata": {
        "id": "jwP4uZBIO15s",
        "colab": {
          "base_uri": "https://localhost:8080/",
          "height": 349
        },
        "outputId": "a63cc081-7e9d-4a9b-b0aa-ae53bd7a48b5"
      },
      "source": [
        "# Get contact maps for all proteins:\n",
        "SHRINKING_RATIO = 20 #after exploring, 20 is a good SHRINKING_RATIO to shrink the contact maps into reasonable lengths\n",
        "contact_maps = []\n",
        "lens = []\n",
        "\n",
        "for i in range(len(pdb_proteinName_medium)):\n",
        "  cm = get_protein_contact_map(pdb_proteinName_medium[i], shrinking_ratio=SHRINKING_RATIO)\n",
        "  contact_maps.append(cm)\n",
        "  lens.append(len(cm))\n",
        "  \n",
        "  if i %10==0:\n",
        "    print(i, end=\",\")\n",
        "  \n",
        "print(\"\\nNum of contact maps: \", len(contact_maps))\n",
        "print(\"Min length = \", np.min(lens))\n",
        "print(\"Max length = \", np.max(lens))\n",
        "plt.hist(lens, bins=100);\n",
        "plt.title(\"Distribution of lengths of contact maps (before cutting/padding)\");\n"
      ],
      "execution_count": null,
      "outputs": [
        {
          "output_type": "stream",
          "text": [
            "0,10,20,\n",
            "Num of contact maps:  30\n",
            "Min length =  21\n",
            "Max length =  1225\n"
          ],
          "name": "stdout"
        },
        {
          "output_type": "display_data",
          "data": {
            "image/png": "[encoded data removed]",
            "text/plain": [
              "<Figure size 432x288 with 1 Axes>"
            ]
          },
          "metadata": {
            "tags": [],
            "needs_background": "light"
          }
        }
      ]
    },
    {
      "cell_type": "code",
      "metadata": {
        "id": "A7T0ZsUGjWRy",
        "colab": {
          "base_uri": "https://localhost:8080/"
        },
        "outputId": "392c5199-5a0d-43ad-979b-7c462bb42f8c"
      },
      "source": [
        "#Cutting/Padding: use the code from miniproject (how they got 1000-long vector for proteins)\n",
        "CONTACT_MAP_LENGTH=1000\n",
        "\n",
        "\n",
        "contact_maps = np.array([cut_or_pad(cm, CONTACT_MAP_LENGTH) for cm in contact_maps])\n",
        "print(\"contact_maps.shape = \", contact_maps.shape)"
      ],
      "execution_count": null,
      "outputs": [
        {
          "output_type": "stream",
          "text": [
            "contact_maps.shape =  (30, 1000)\n"
          ],
          "name": "stdout"
        }
      ]
    },
    {
      "cell_type": "markdown",
      "metadata": {
        "id": "5KzHP22jZ81f"
      },
      "source": [
        "Note: After optimizing the code as much as we can, getting the contact maps of proteins is still slow because of the unavoidable calculation to loop through the residues and get the coordinates of their CA (if exists). Each protein takes about **1 sec** to calculate its contact map. This situation is the same for the 2nd 3D representation: using distances from the center.\n",
        "\n",
        "Hence, we will try to use the medium (sampled from the total 17680 data points) or small data set (from 'pdbbind_core_df_cleaned.csv', which only has 193 data points)."
      ]
    },
    {
      "cell_type": "markdown",
      "metadata": {
        "id": "t3AugtrwREe3"
      },
      "source": [
        " #### 3D Representation 2: Center Distances (Distances of residues from the center.)\n",
        "We assume a center for the protein, which is calculated by averaging the 3D coordinates of the residues. Then we use the distances of residues from this center as our 3D representation of this protein. One advantage of this representation is that the final length is of order **O(residue_count)**.\n"
      ]
    },
    {
      "cell_type": "code",
      "metadata": {
        "id": "Xl-V-z8XRDS6"
      },
      "source": [
        "CENTER_DISTANCES_LENGTH = 1000\n",
        "def get_protein_center_distances(proteinName, printInfo=False):\n",
        "  all_chains=MMTFParser.get_structure_from_url(proteinName)[0]\n",
        "  \n",
        "  #Step1: Get CA_coord_list: list of CA coords of all residues with CA\n",
        "  CA_coord_list = []\n",
        "  for idx_chain, chain in enumerate(all_chains):\n",
        "    for idx_residue, residue in enumerate(chain):\n",
        "      if 'CA' in residue:\n",
        "        CA_coord_list.append(residue['CA'].coord)\n",
        "  if printInfo:\n",
        "    print(\"len(CA_coord_list) = \", len(CA_coord_list))\n",
        "\n",
        "  #Step2: average coords to get center\n",
        "  center = np.mean(CA_coord_list, axis=0)\n",
        "  if printInfo:\n",
        "    print(\"center = \", center)\n",
        "\n",
        "\n",
        "  #Step3: calculate distances from the center\n",
        "  distances = []\n",
        "  for coord in CA_coord_list:\n",
        "    dist = calc_residue_dist_by_coords(center, coord)#Essentially the Euclidean distance between 2 coords\n",
        "    distances.append(dist)\n",
        "  if printInfo:\n",
        "    print(\"len(distances) = \", len(distances))\n",
        "\n",
        "  return distances\n",
        "\n",
        "\n",
        "\n",
        "def get_protein_cut_center_distances(proteinName):\n",
        "  distances_uncut = get_protein_center_distances(proteinName)\n",
        "  distances = cut_or_pad(distances_uncut, CENTER_DISTANCES_LENGTH)\n",
        "  return distances"
      ],
      "execution_count": null,
      "outputs": []
    },
    {
      "cell_type": "code",
      "metadata": {
        "id": "VgAx2YFohBuF",
        "colab": {
          "base_uri": "https://localhost:8080/",
          "height": 349
        },
        "outputId": "f8fb6982-416e-4c6c-9be6-fe1f4bc5e014"
      },
      "source": [
        "# Get center_distances for all proteins:\n",
        "\n",
        "center_distances = []\n",
        "lens = []\n",
        "for i in range(len(pdb_proteinName_medium)):\n",
        "  d = get_protein_center_distances(pdb_proteinName_medium[i])\n",
        "  center_distances.append(d)\n",
        "  lens.append(len(d))\n",
        "  \n",
        "  if i %10==0:\n",
        "    print(i, end=\",\")\n",
        "  \n",
        "\n",
        "print(\"\\nNum of contact maps: \", len(center_distances))\n",
        "print(\"Min length = \", np.min(lens))\n",
        "print(\"Max length = \", np.max(lens))\n",
        "plt.hist(lens, bins=100);\n",
        "plt.title(\"Distribution of lengths of center_distances (before cutting/padding)\");\n"
      ],
      "execution_count": null,
      "outputs": [
        {
          "output_type": "stream",
          "text": [
            "0,10,20,\n",
            "Num of contact maps:  30\n",
            "Min length =  139\n",
            "Max length =  994\n"
          ],
          "name": "stdout"
        },
        {
          "output_type": "display_data",
          "data": {
            "image/png": "[encoded data removed]",
            "text/plain": [
              "<Figure size 432x288 with 1 Axes>"
            ]
          },
          "metadata": {
            "tags": [],
            "needs_background": "light"
          }
        }
      ]
    },
    {
      "cell_type": "code",
      "metadata": {
        "id": "0cNfNwXGjx8v",
        "colab": {
          "base_uri": "https://localhost:8080/"
        },
        "outputId": "23037b30-f44f-4f6b-cb78-12d0d321efaa"
      },
      "source": [
        "#Cutting/Padding: use the code from miniproject (how they got 1000-long vector for proteins)\n",
        "CENTER_DISTANCE_LENGTH=1000\n",
        "\n",
        "center_distances = np.array([cut_or_pad(d, CENTER_DISTANCE_LENGTH) for d in center_distances])\n",
        "print(\"center_distances.shape = \", center_distances.shape)"
      ],
      "execution_count": null,
      "outputs": [
        {
          "output_type": "stream",
          "text": [
            "center_distances.shape =  (30, 1000)\n"
          ],
          "name": "stdout"
        }
      ]
    },
    {
      "cell_type": "markdown",
      "metadata": {
        "id": "Qc16K36GXF5c"
      },
      "source": [
        "### 2.2 Parse Protein Amino Acid Sequence (length = *1000*)\n",
        "\n",
        "Now we parse data same as KIBA data in the Mini Project. We get a 1000-long vector representation for each protein. Then we concatenate with the 1000-long vector with 3D information (contact map / center distance). Use the total 2000-long vector as the representation for each protein. [link text](https://)"
      ]
    },
    {
      "cell_type": "code",
      "metadata": {
        "id": "djVulSzKAAKG"
      },
      "source": [
        "amino_acid_dict = {'ALA':'A','ARG':'R','ASN':'N','ASP':'D','ASX':'B','CYS':'C','GLU':'E','GLN':'Q','GLX':'Z','GLY':'G','HIS':'H','ILE':'I','LEU':'L','LYS':'K','MET':'M','PHE':'F','PRO':'P','SER':'S','THR':'T','TRP':'W','TYR':'Y','VAL':'V'}\n",
        "def get_amino_acid_seq(proteinName):\n",
        "  structure=MMTFParser.get_structure_from_url(proteinName)\n",
        "  residues = structure.get_residues()\n",
        "\n",
        "  seq = ''\n",
        "  for i, res in enumerate(residues):\n",
        "    try:\n",
        "      letter3 = res.get_resname()\n",
        "      letter1 =  amino_acid_dict[letter3]\n",
        "      seq += letter1\n",
        "    except KeyError:\n",
        "      continue\n",
        "  return seq\n"
      ],
      "execution_count": null,
      "outputs": []
    },
    {
      "cell_type": "code",
      "metadata": {
        "id": "IgvY_0TvBBfH",
        "colab": {
          "base_uri": "https://localhost:8080/",
          "height": 188
        },
        "outputId": "55832ba6-14c1-4f13-99d4-971dc7fe556b"
      },
      "source": [
        "seq = get_amino_acid_seq(pdb_proteinName[0])\n",
        "seq"
      ],
      "execution_count": null,
      "outputs": [
        {
          "output_type": "execute_result",
          "data": {
            "application/vnd.google.colaboratory.intrinsic+json": {
              "type": "string"
            },
            "text/plain": [
              "'NGFSATRSTVIQLLNNISTKREVEQYLKYFTSVSQQQFAVIKVGGAIISDNLHELASCLAFLYHVGLYPIVLHGTGPQVNGRLEAQGIEPDYIDGIRITDEHTMAVVRKCFLEQNLKLVTALEQLGVRARPITSGVFTADYLDKDKYKLVGNIKSVTKEPIEASIKAGALPILTSLAETASGQMLNVNADVAAGELARVFEPLKIVYLNEKGGIINGSTGEKISMINLDEEYDDLMKQSWVKYGTKLKIREIKELLDYLPRSSSVAIINVQDLQKELFTDSGAGTMIRRGYGFSATRSTVIQLLNNISTKREVEQYLKYFTSVSQQQFAVIKVGGAIISDNLHELASCLAFLYHVGLYPIVLHGTGPQVNGRLEAQGIEPDYIDGIRITDEHTMAVVRKCFLEQNLKLVTALEQLGVRARPITSGVFTADYLDKDKYKLVGNIKSVTKEPIEASIKAGALPILTSLAETASGQMLNVNADVAAGELARVFEPLKIVYLNEKGGIINGSTGEKISMINLDEEYDDLMKQSWVKYGTKLKIREIKELLDYLPRSSSVAIINVQDLQKELFTDSGAGTMIRRGNGFSATRSTVIQLLNNISTKREVEQYLKYFTSVSQQQFAVIKVGGAIISDNLHELASCLAFLYHVGLYPIVLHGTGPQVNGRLEAQGIEPDYIDGIRITDEHTMAVVRKCFLEQNLKLVTALEQLGVRARPITSGVFTADYLDKDKYKLVGNIKSVTKEPIEASIKAGALPILTSLAETASGQMLNVNADVAAGELARVFEPLKIVYLNEKGGIINGSTGEKISMINLDEEYDDLMKQSWVKYGTKLKIREIKELLDYLPRSSSVAIINVQDLQKELFTDSGAGTMIRRGYGFSATRSTVIQLLNNISTKREVEQYLKYFTSVSQQQFAVIKVGGAIISDNLHELASCLAFLYHVGLYPIVLHGTGPQVNGRLEAQGIEPDYIDGIRITDEHTMAVVRKCFLEQNLKLVTALEQLGVRARPITSGVFTADYLDKDKYKLVGNIKSVTKEPIEASIKAGALPILTSLAETASGQMLNVNADVAAGELARVFEPLKIVYLNEKGGIINGSTGEKISMINLDEEYDDLMKQSWVKYGTKLKIREIKELLDYLPRSSSVAIINVQDLQKELFTDSGAGTMIRRGY'"
            ]
          },
          "metadata": {
            "tags": []
          },
          "execution_count": 13
        }
      ]
    },
    {
      "cell_type": "code",
      "metadata": {
        "id": "Hu_V0gH7SFYK"
      },
      "source": [
        "# for converting protein sequence to categorical format\n",
        "seq_voc = \"ABCDEFGHIKLMNOPQRSTUVWXYZ\"\n",
        "seq_dict = {v:i for i,v in enumerate(seq_voc)}\n",
        "seq_dict_len = len(seq_dict)\n",
        "max_seq_len = 1000   # Note that all protein data will have the same length 1000 \n",
        "\n",
        "def seq_to_cat(proteinSeq):\n",
        "    x = np.zeros(max_seq_len)\n",
        "    for i, ch in enumerate(proteinSeq[:max_seq_len]): \n",
        "        x[i] = seq_dict[ch]\n",
        "    return x  \n",
        "\n",
        "# Concordance index evaluation. XM: given function is too slow, we use concordance_index from lifelines.utils to calculate CI score\n",
        "\n",
        "def get_protein_amino_acids(proteinName):\n",
        "  seq = get_amino_acid_seq(proteinName)\n",
        "  vec = seq_to_cat(seq)\n",
        "  return vec"
      ],
      "execution_count": null,
      "outputs": []
    },
    {
      "cell_type": "code",
      "metadata": {
        "id": "RDWrp2L4BLWL",
        "colab": {
          "base_uri": "https://localhost:8080/"
        },
        "outputId": "f3b404b4-ad07-40dd-d1b6-8ca67711a554"
      },
      "source": [
        "vec = seq_to_cat(seq)\n",
        "vec.shape"
      ],
      "execution_count": null,
      "outputs": [
        {
          "output_type": "execute_result",
          "data": {
            "text/plain": [
              "(1000,)"
            ]
          },
          "metadata": {
            "tags": []
          },
          "execution_count": 15
        }
      ]
    },
    {
      "cell_type": "markdown",
      "metadata": {
        "id": "mWOgglJ4yWHf"
      },
      "source": [
        "### 2.3 Parse Ligand ECFP (length = 1000)\n",
        "We have obtained the smiles strings from **ligand_dict**. Now we use it to obtain the smiles strings of all ligands and convert them into ECFP vectors."
      ]
    },
    {
      "cell_type": "code",
      "metadata": {
        "id": "5Iy_HSlWZLuv",
        "colab": {
          "base_uri": "https://localhost:8080/"
        },
        "outputId": "81a3241a-bd15-4bf6-f9ca-92244cf3d5fd"
      },
      "source": [
        "list(ligand_dict.values())[:3]"
      ],
      "execution_count": null,
      "outputs": [
        {
          "output_type": "execute_result",
          "data": {
            "text/plain": [
              "['Cc1c(c2ccc(cc2o1)Oc3ccnc4c3ccc(c4)OCCN5CCOCC5)C(=O)NC',\n",
              " 'c1ccc(cc1)C[C@@]2(CC[N@@]3CC[C@H](N3C2=O)C(=O)N[C@@H](CCCCN)[C@@H](C(=O)NC4CCCCC4)O)N',\n",
              " '[H]/N=C(\\\\N)/NCCC[C@@H]([C@@H](C(=O)NCCc1ccccc1)O)NC(=O)[C@@H]2CCN3N2C(=O)[C@@](CC3)(Cc4ccccc4)N']"
            ]
          },
          "metadata": {
            "tags": []
          },
          "execution_count": 16
        }
      ]
    },
    {
      "cell_type": "code",
      "metadata": {
        "id": "V62AGZCscZu2"
      },
      "source": [
        "# smiles = np.array([Chem.MolToSmiles(Chem.MolFromSmiles(d),isomericSmiles=True) for d in ligand_dict.values()])\n",
        "# print(\"Total num of ligands: \", len(smiles))\n",
        "NBITS = 1000\n",
        "\n",
        "ligands = []\n",
        "count_invalid = 0\n",
        "\n",
        "for ligandName in pdb_ligandName_medium:\n",
        "  smile = ligand_dict[ligandName]\n",
        "  # print(i, end=\",\")\n",
        "  try:\n",
        "    molecule = MolFromSmiles(smile)\n",
        "    ECFP2 = Chem.GetMorganFingerprintAsBitVect(molecule, 2, nBits=NBITS).ToBitString()\n",
        "    ECFP2arr = np.array(list(map(int, ECFP2)))\n",
        "    ligands.append(ECFP2arr)\n",
        "  except:\n",
        "    count_invalid += 1\n",
        "  # if i % 100==0:\n",
        "  #   print()"
      ],
      "execution_count": null,
      "outputs": []
    },
    {
      "cell_type": "code",
      "metadata": {
        "id": "g9feZyIscBq4",
        "colab": {
          "base_uri": "https://localhost:8080/"
        },
        "outputId": "bbc156af-2a5b-4f88-d638-5bb51d889b11"
      },
      "source": [
        "print(\"Count = valid:\", len(ligands))\n",
        "print(\"Count = invalid:\", count_invalid)"
      ],
      "execution_count": null,
      "outputs": [
        {
          "output_type": "stream",
          "text": [
            "Count = valid: 30\n",
            "Count = invalid: 0\n"
          ],
          "name": "stdout"
        }
      ]
    },
    {
      "cell_type": "code",
      "metadata": {
        "id": "CyoW5vt00jLr"
      },
      "source": [
        "#Assume ligandName is valid (i.e. it can be found in 'ligand_dict' and can be successfully converted to ECFP)\n",
        "def get_ligand_ECFP(ligandName):\n",
        "  smile = ligand_dict[ligandName]\n",
        "\n",
        "  molecule = MolFromSmiles(smile)\n",
        "  ECFP2 = Chem.GetMorganFingerprintAsBitVect(molecule, 2, nBits=NBITS).ToBitString()\n",
        "  ECFP2arr = np.array(list(map(int, ECFP2)))\n",
        "  return ECFP2arr"
      ],
      "execution_count": null,
      "outputs": []
    },
    {
      "cell_type": "markdown",
      "metadata": {
        "id": "HEB9yj4Fw9-9"
      },
      "source": [
        "### 2.4 Final Representation of Proteins and Ligands\n",
        "\n",
        "Put everything together."
      ]
    },
    {
      "cell_type": "code",
      "metadata": {
        "id": "mIDwnwJ3uCfS"
      },
      "source": [
        "# Provides a flexible function to create protein-ligand of different representations\n",
        "# to create X\n",
        "def create_pairs(protein_list, ligand_list, protein_func, ligand_func, protein_func_3D=None):\n",
        "  protein_repr = [protein_func(p) for p in protein_list]\n",
        "  ligand_repr = [ligand_func(l) for l in ligand_list]\n",
        "\n",
        "  if protein_func_3D:\n",
        "    protein_repr_3D = [protein_func_3D(p) for p in protein_list]\n",
        "  else:\n",
        "    protein_repr_3D = [[] for p in protein_list]\n",
        "\n",
        "  pairs = []\n",
        "  for i in range(len(protein_list)):\n",
        "    new_pair = np.concatenate((protein_repr[i], protein_repr_3D[i], ligand_repr[i]))\n",
        "    pairs.append(new_pair)\n",
        "\n",
        "  return np.array(pairs)"
      ],
      "execution_count": null,
      "outputs": []
    },
    {
      "cell_type": "code",
      "metadata": {
        "id": "dpEMgDVNShDl",
        "colab": {
          "base_uri": "https://localhost:8080/"
        },
        "outputId": "c815cf85-bd5b-4dec-e24a-a1d45f4c9b00"
      },
      "source": [
        "pdb_proteinName.shape"
      ],
      "execution_count": null,
      "outputs": [
        {
          "output_type": "execute_result",
          "data": {
            "text/plain": [
              "(15080,)"
            ]
          },
          "metadata": {
            "tags": []
          },
          "execution_count": 23
        }
      ]
    },
    {
      "cell_type": "markdown",
      "metadata": {
        "id": "Z0ZJAJJskJGX"
      },
      "source": [
        "Import X data we processed using files in 'utils'."
      ]
    },
    {
      "cell_type": "code",
      "metadata": {
        "id": "pbpbtMCxwtpx",
        "colab": {
          "base_uri": "https://localhost:8080/"
        },
        "outputId": "8f9e1a01-40cb-4d6e-c792-dadc958bec14"
      },
      "source": [
        "if not os.path.exists('Xdata'):\n",
        "  !unzip Xdata.zip\n",
        "\n",
        "X = np.load('Xdata/X.npy')\n",
        "print(\"X.shape = \", X.shape)\n",
        "X_cm = np.load('Xdata/X_cm.npy')\n",
        "print(\"X_cm.shape = \", X_cm.shape)\n",
        "X_cd = np.load('Xdata/X_cd.npy')\n",
        "print(\"X_cd.shape = \", X_cd.shape)\n"
      ],
      "execution_count": 50,
      "outputs": [
        {
          "output_type": "stream",
          "text": [
            "X.shape =  (10000, 2000)\n",
            "X_cm.shape =  (10000, 3000)\n",
            "X_cd.shape =  (10000, 3000)\n"
          ],
          "name": "stdout"
        }
      ]
    },
    {
      "cell_type": "code",
      "metadata": {
        "id": "tYQobqbNu1nW",
        "colab": {
          "base_uri": "https://localhost:8080/"
        },
        "outputId": "901c376d-b6e8-4c8f-8ce6-f43ab46a7b1c"
      },
      "source": [
        "print(\"pdb_affinity.shape = \", pdb_affinity.shape)\n",
        "indices = np.load('Xdata/X_idx.npy', allow_pickle=True)\n",
        "print(\"indices.shape = \",indices.shape)\n",
        "\n",
        "y = pdb_affinity[indices]\n",
        "print(\"y.shape = \", y.shape)"
      ],
      "execution_count": 51,
      "outputs": [
        {
          "output_type": "stream",
          "text": [
            "pdb_affinity.shape =  (15080,)\n",
            "indices.shape =  (10000,)\n",
            "y.shape =  (10000,)\n"
          ],
          "name": "stdout"
        }
      ]
    },
    {
      "cell_type": "markdown",
      "metadata": {
        "id": "GRXYpyYVSFYS"
      },
      "source": [
        "## 3. Train NN models"
      ]
    },
    {
      "cell_type": "code",
      "metadata": {
        "id": "ajD3NMMiNWFu"
      },
      "source": [
        "\n",
        "\n",
        "# Define the keras model \n",
        "def create_keras_model(input_size, output_size):\n",
        "    model = tf.keras.Sequential()\n",
        "    model.add(tf.keras.Input(shape=(input_size,)))\n",
        "    if input_size > 2048:\n",
        "      model.add(tf.keras.layers.Dense(2048, activation='relu'))\n",
        "    model.add(tf.keras.layers.Dense(1024, activation='relu'))\n",
        "    model.add(tf.keras.layers.Dense(256, activation='relu'))\n",
        "    model.add(tf.keras.layers.Dense(64, activation='relu'))\n",
        "    model.add(tf.keras.layers.Dense(4, activation='relu'))\n",
        "    model.add(tf.keras.layers.Dense(output_size, activation='linear'))\n",
        "    return model\n",
        "\n",
        "def train_test_model(model, pair_tr, affinity_tr, pair_ts, affinity_ts, epochs=20):\n",
        "  model.compile(optimizer='adam',\n",
        "              loss= 'mean_squared_error', \n",
        "              metrics=['mse']) \n",
        "\n",
        "  model.fit(pair_tr, affinity_tr, epochs=epochs, validation_split=0.2)\n",
        "\n",
        "  print(\"Evaluation:\")\n",
        "  print('training MSE:', model.evaluate(pair_tr, affinity_tr))\n",
        "  print('test MSE:', model.evaluate(pair_ts, affinity_ts))\n",
        "\n",
        "def train_test_model_dc(model_keras, pair_tr, affinity_tr, pair_ts, affinity_ts, epochs=20):\n",
        "  train_dataset = dc.data.NumpyDataset(X=pair_tr, y=affinity_tr.reshape(len(affinity_tr), 1))\n",
        "  test_dataset = dc.data.NumpyDataset(X=pair_ts, y=affinity_ts.reshape(len(affinity_ts), 1))\n",
        "  dc_model = dc.models.KerasModel(model_keras, dc.models.losses.L2Loss()) # we pass the model and a dc loss funciton\n",
        "  \n",
        "  dc_model.fit(train_dataset, nb_epoch=epochs)\n",
        "  metric = dc.metrics.Metric(dc.metrics.mean_squared_error)\n",
        "  print(\"\\nEvaluation:\")\n",
        "  print('training MSE:', dc_model.evaluate(train_dataset, [metric]))\n",
        "  print('test MSE:',dc_model.evaluate(test_dataset, [metric]))\n",
        "\n",
        "def split_data(X, y):\n",
        "    X_train, X_test, y_train, y_test = train_test_split(X, y, test_size=0.2, random_state=42, shuffle=True)\n",
        "    return X_train, X_test, y_train, y_test\n",
        "\n"
      ],
      "execution_count": 52,
      "outputs": []
    },
    {
      "cell_type": "code",
      "metadata": {
        "id": "JgxbowmXG3fn",
        "colab": {
          "base_uri": "https://localhost:8080/"
        },
        "outputId": "40bd472e-8684-4f4c-a6d2-6f02c6b386b3"
      },
      "source": [
        "# Input: X (vector length=2000), y(vector length=1000)\n",
        "X_train, X_test, y_train, y_test = split_data(X, y)\n",
        "print(\"X_train.shape = \", X_train.shape)\n",
        "print(\"X_test.shape = \", X_test.shape)\n",
        "\n",
        "print(\"\\ny_train.shape = \", y_train.shape)\n",
        "print(\"y_test.shape = \", y_test.shape)\n",
        "\n",
        "keras_model = create_keras_model(2000, 1)\n",
        "train_test_model(keras_model, pair_tr=X_train, affinity_tr=y_train, pair_ts=X_test, affinity_ts=y_test, epochs=100)"
      ],
      "execution_count": 68,
      "outputs": [
        {
          "output_type": "stream",
          "text": [
            "X_train.shape =  (8000, 2000)\n",
            "X_test.shape =  (2000, 2000)\n",
            "\n",
            "y_train.shape =  (8000,)\n",
            "y_test.shape =  (2000,)\n",
            "Train on 6400 samples, validate on 1600 samples\n",
            "Epoch 1/100\n",
            "6400/6400 [==============================] - 1s 195us/sample - loss: 5.7297 - mean_squared_error: 5.7297 - val_loss: 3.3099 - val_mean_squared_error: 3.3099\n",
            "Epoch 2/100\n",
            "6400/6400 [==============================] - 1s 119us/sample - loss: 3.3221 - mean_squared_error: 3.3221 - val_loss: 3.3302 - val_mean_squared_error: 3.3302\n",
            "Epoch 3/100\n",
            "6400/6400 [==============================] - 1s 115us/sample - loss: 3.1477 - mean_squared_error: 3.1477 - val_loss: 3.3779 - val_mean_squared_error: 3.3779\n",
            "Epoch 4/100\n",
            "6400/6400 [==============================] - 1s 113us/sample - loss: 2.9930 - mean_squared_error: 2.9930 - val_loss: 3.5094 - val_mean_squared_error: 3.5094\n",
            "Epoch 5/100\n",
            "6400/6400 [==============================] - 1s 111us/sample - loss: 2.8467 - mean_squared_error: 2.8467 - val_loss: 3.1824 - val_mean_squared_error: 3.1824\n",
            "Epoch 6/100\n",
            "6400/6400 [==============================] - 1s 111us/sample - loss: 2.8091 - mean_squared_error: 2.8091 - val_loss: 3.1847 - val_mean_squared_error: 3.1847\n",
            "Epoch 7/100\n",
            "6400/6400 [==============================] - 1s 110us/sample - loss: 2.7185 - mean_squared_error: 2.7185 - val_loss: 3.6459 - val_mean_squared_error: 3.6459\n",
            "Epoch 8/100\n",
            "6400/6400 [==============================] - 1s 110us/sample - loss: 2.5820 - mean_squared_error: 2.5820 - val_loss: 3.3719 - val_mean_squared_error: 3.3719\n",
            "Epoch 9/100\n",
            "6400/6400 [==============================] - 1s 112us/sample - loss: 2.4411 - mean_squared_error: 2.4411 - val_loss: 3.9737 - val_mean_squared_error: 3.9737\n",
            "Epoch 10/100\n",
            "6400/6400 [==============================] - 1s 110us/sample - loss: 2.4185 - mean_squared_error: 2.4185 - val_loss: 3.3265 - val_mean_squared_error: 3.3265\n",
            "Epoch 11/100\n",
            "6400/6400 [==============================] - 1s 109us/sample - loss: 2.3472 - mean_squared_error: 2.3472 - val_loss: 3.3905 - val_mean_squared_error: 3.3905\n",
            "Epoch 12/100\n",
            "6400/6400 [==============================] - 1s 110us/sample - loss: 2.1593 - mean_squared_error: 2.1593 - val_loss: 3.6640 - val_mean_squared_error: 3.6640\n",
            "Epoch 13/100\n",
            "6400/6400 [==============================] - 1s 109us/sample - loss: 2.1707 - mean_squared_error: 2.1707 - val_loss: 3.4205 - val_mean_squared_error: 3.4205\n",
            "Epoch 14/100\n",
            "6400/6400 [==============================] - 1s 109us/sample - loss: 2.0953 - mean_squared_error: 2.0953 - val_loss: 4.1741 - val_mean_squared_error: 4.1741\n",
            "Epoch 15/100\n",
            "6400/6400 [==============================] - 1s 109us/sample - loss: 1.9909 - mean_squared_error: 1.9909 - val_loss: 3.8839 - val_mean_squared_error: 3.8839\n",
            "Epoch 16/100\n",
            "6400/6400 [==============================] - 1s 110us/sample - loss: 1.8233 - mean_squared_error: 1.8233 - val_loss: 4.3351 - val_mean_squared_error: 4.3351\n",
            "Epoch 17/100\n",
            "6400/6400 [==============================] - 1s 109us/sample - loss: 1.7831 - mean_squared_error: 1.7831 - val_loss: 3.6912 - val_mean_squared_error: 3.6912\n",
            "Epoch 18/100\n",
            "6400/6400 [==============================] - 1s 111us/sample - loss: 1.7115 - mean_squared_error: 1.7115 - val_loss: 3.6142 - val_mean_squared_error: 3.6142\n",
            "Epoch 19/100\n",
            "6400/6400 [==============================] - 1s 111us/sample - loss: 1.6069 - mean_squared_error: 1.6069 - val_loss: 4.0054 - val_mean_squared_error: 4.0054\n",
            "Epoch 20/100\n",
            "6400/6400 [==============================] - 1s 109us/sample - loss: 1.5628 - mean_squared_error: 1.5628 - val_loss: 3.8621 - val_mean_squared_error: 3.8621\n",
            "Epoch 21/100\n",
            "6400/6400 [==============================] - 1s 112us/sample - loss: 1.4842 - mean_squared_error: 1.4842 - val_loss: 3.6706 - val_mean_squared_error: 3.6706\n",
            "Epoch 22/100\n",
            "6400/6400 [==============================] - 1s 110us/sample - loss: 1.3988 - mean_squared_error: 1.3988 - val_loss: 4.1421 - val_mean_squared_error: 4.1421\n",
            "Epoch 23/100\n",
            "6400/6400 [==============================] - 1s 108us/sample - loss: 1.3644 - mean_squared_error: 1.3644 - val_loss: 3.9926 - val_mean_squared_error: 3.9926\n",
            "Epoch 24/100\n",
            "6400/6400 [==============================] - 1s 111us/sample - loss: 1.2195 - mean_squared_error: 1.2195 - val_loss: 4.1539 - val_mean_squared_error: 4.1539\n",
            "Epoch 25/100\n",
            "6400/6400 [==============================] - 1s 116us/sample - loss: 1.1959 - mean_squared_error: 1.1959 - val_loss: 4.2211 - val_mean_squared_error: 4.2211\n",
            "Epoch 26/100\n",
            "6400/6400 [==============================] - 1s 120us/sample - loss: 1.2118 - mean_squared_error: 1.2118 - val_loss: 4.3990 - val_mean_squared_error: 4.3990\n",
            "Epoch 27/100\n",
            "6400/6400 [==============================] - 1s 116us/sample - loss: 1.0836 - mean_squared_error: 1.0836 - val_loss: 4.3675 - val_mean_squared_error: 4.3675\n",
            "Epoch 28/100\n",
            "6400/6400 [==============================] - 1s 112us/sample - loss: 1.0978 - mean_squared_error: 1.0978 - val_loss: 4.0828 - val_mean_squared_error: 4.0828\n",
            "Epoch 29/100\n",
            "6400/6400 [==============================] - 1s 109us/sample - loss: 1.0395 - mean_squared_error: 1.0395 - val_loss: 4.0341 - val_mean_squared_error: 4.0341\n",
            "Epoch 30/100\n",
            "6400/6400 [==============================] - 1s 109us/sample - loss: 0.9413 - mean_squared_error: 0.9413 - val_loss: 4.5085 - val_mean_squared_error: 4.5085\n",
            "Epoch 31/100\n",
            "6400/6400 [==============================] - 1s 111us/sample - loss: 1.0114 - mean_squared_error: 1.0114 - val_loss: 4.9013 - val_mean_squared_error: 4.9013\n",
            "Epoch 32/100\n",
            "6400/6400 [==============================] - 1s 109us/sample - loss: 0.9445 - mean_squared_error: 0.9445 - val_loss: 4.4806 - val_mean_squared_error: 4.4806\n",
            "Epoch 33/100\n",
            "6400/6400 [==============================] - 1s 110us/sample - loss: 0.8570 - mean_squared_error: 0.8570 - val_loss: 4.2464 - val_mean_squared_error: 4.2464\n",
            "Epoch 34/100\n",
            "6400/6400 [==============================] - 1s 109us/sample - loss: 0.8134 - mean_squared_error: 0.8134 - val_loss: 4.4969 - val_mean_squared_error: 4.4969\n",
            "Epoch 35/100\n",
            "6400/6400 [==============================] - 1s 110us/sample - loss: 0.7722 - mean_squared_error: 0.7722 - val_loss: 4.5740 - val_mean_squared_error: 4.5740\n",
            "Epoch 36/100\n",
            "6400/6400 [==============================] - 1s 110us/sample - loss: 0.8516 - mean_squared_error: 0.8516 - val_loss: 4.1092 - val_mean_squared_error: 4.1092\n",
            "Epoch 37/100\n",
            "6400/6400 [==============================] - 1s 106us/sample - loss: 0.7937 - mean_squared_error: 0.7937 - val_loss: 4.1763 - val_mean_squared_error: 4.1763\n",
            "Epoch 38/100\n",
            "6400/6400 [==============================] - 1s 115us/sample - loss: 0.7842 - mean_squared_error: 0.7842 - val_loss: 4.2814 - val_mean_squared_error: 4.2814\n",
            "Epoch 39/100\n",
            "6400/6400 [==============================] - 1s 108us/sample - loss: 0.7172 - mean_squared_error: 0.7172 - val_loss: 4.3253 - val_mean_squared_error: 4.3253\n",
            "Epoch 40/100\n",
            "6400/6400 [==============================] - 1s 109us/sample - loss: 0.7023 - mean_squared_error: 0.7023 - val_loss: 4.3765 - val_mean_squared_error: 4.3765\n",
            "Epoch 41/100\n",
            "6400/6400 [==============================] - 1s 109us/sample - loss: 0.7116 - mean_squared_error: 0.7116 - val_loss: 4.1751 - val_mean_squared_error: 4.1751\n",
            "Epoch 42/100\n",
            "6400/6400 [==============================] - 1s 110us/sample - loss: 0.6910 - mean_squared_error: 0.6910 - val_loss: 4.5654 - val_mean_squared_error: 4.5654\n",
            "Epoch 43/100\n",
            "6400/6400 [==============================] - 1s 116us/sample - loss: 0.6726 - mean_squared_error: 0.6726 - val_loss: 3.9582 - val_mean_squared_error: 3.9582\n",
            "Epoch 44/100\n",
            "6400/6400 [==============================] - 1s 114us/sample - loss: 0.6487 - mean_squared_error: 0.6487 - val_loss: 4.4986 - val_mean_squared_error: 4.4986\n",
            "Epoch 45/100\n",
            "6400/6400 [==============================] - 1s 116us/sample - loss: 0.6757 - mean_squared_error: 0.6757 - val_loss: 4.4414 - val_mean_squared_error: 4.4414\n",
            "Epoch 46/100\n",
            "6400/6400 [==============================] - 1s 116us/sample - loss: 0.6029 - mean_squared_error: 0.6029 - val_loss: 4.5096 - val_mean_squared_error: 4.5096\n",
            "Epoch 47/100\n",
            "6400/6400 [==============================] - 1s 115us/sample - loss: 0.6213 - mean_squared_error: 0.6213 - val_loss: 4.1232 - val_mean_squared_error: 4.1232\n",
            "Epoch 48/100\n",
            "6400/6400 [==============================] - 1s 111us/sample - loss: 0.6314 - mean_squared_error: 0.6314 - val_loss: 4.1837 - val_mean_squared_error: 4.1837\n",
            "Epoch 49/100\n",
            "6400/6400 [==============================] - 1s 114us/sample - loss: 0.6081 - mean_squared_error: 0.6081 - val_loss: 4.4538 - val_mean_squared_error: 4.4538\n",
            "Epoch 50/100\n",
            "6400/6400 [==============================] - 1s 109us/sample - loss: 0.5632 - mean_squared_error: 0.5632 - val_loss: 4.4633 - val_mean_squared_error: 4.4633\n",
            "Epoch 51/100\n",
            "6400/6400 [==============================] - 1s 110us/sample - loss: 0.5541 - mean_squared_error: 0.5541 - val_loss: 4.3035 - val_mean_squared_error: 4.3035\n",
            "Epoch 52/100\n",
            "6400/6400 [==============================] - 1s 111us/sample - loss: 0.5558 - mean_squared_error: 0.5558 - val_loss: 4.2333 - val_mean_squared_error: 4.2333\n",
            "Epoch 53/100\n",
            "6400/6400 [==============================] - 1s 117us/sample - loss: 0.5401 - mean_squared_error: 0.5401 - val_loss: 4.6183 - val_mean_squared_error: 4.6183\n",
            "Epoch 54/100\n",
            "6400/6400 [==============================] - 1s 110us/sample - loss: 0.5515 - mean_squared_error: 0.5515 - val_loss: 4.6262 - val_mean_squared_error: 4.6262\n",
            "Epoch 55/100\n",
            "6400/6400 [==============================] - 1s 110us/sample - loss: 0.5362 - mean_squared_error: 0.5362 - val_loss: 4.3162 - val_mean_squared_error: 4.3162\n",
            "Epoch 56/100\n",
            "6400/6400 [==============================] - 1s 111us/sample - loss: 0.5587 - mean_squared_error: 0.5587 - val_loss: 4.7309 - val_mean_squared_error: 4.7309\n",
            "Epoch 57/100\n",
            "6400/6400 [==============================] - 1s 109us/sample - loss: 0.5393 - mean_squared_error: 0.5393 - val_loss: 4.4843 - val_mean_squared_error: 4.4843\n",
            "Epoch 58/100\n",
            "6400/6400 [==============================] - 1s 109us/sample - loss: 0.4933 - mean_squared_error: 0.4933 - val_loss: 4.3516 - val_mean_squared_error: 4.3516\n",
            "Epoch 59/100\n",
            "6400/6400 [==============================] - 1s 110us/sample - loss: 0.5209 - mean_squared_error: 0.5209 - val_loss: 4.4228 - val_mean_squared_error: 4.4228\n",
            "Epoch 60/100\n",
            "6400/6400 [==============================] - 1s 110us/sample - loss: 0.4934 - mean_squared_error: 0.4934 - val_loss: 4.3772 - val_mean_squared_error: 4.3772\n",
            "Epoch 61/100\n",
            "6400/6400 [==============================] - 1s 109us/sample - loss: 0.4636 - mean_squared_error: 0.4636 - val_loss: 4.2962 - val_mean_squared_error: 4.2962\n",
            "Epoch 62/100\n",
            "6400/6400 [==============================] - 1s 111us/sample - loss: 0.5254 - mean_squared_error: 0.5254 - val_loss: 4.5422 - val_mean_squared_error: 4.5422\n",
            "Epoch 63/100\n",
            "6400/6400 [==============================] - 1s 110us/sample - loss: 0.4665 - mean_squared_error: 0.4665 - val_loss: 4.6926 - val_mean_squared_error: 4.6926\n",
            "Epoch 64/100\n",
            "6400/6400 [==============================] - 1s 111us/sample - loss: 0.4161 - mean_squared_error: 0.4161 - val_loss: 4.5128 - val_mean_squared_error: 4.5128\n",
            "Epoch 65/100\n",
            "6400/6400 [==============================] - 1s 113us/sample - loss: 0.4530 - mean_squared_error: 0.4530 - val_loss: 4.3988 - val_mean_squared_error: 4.3988\n",
            "Epoch 66/100\n",
            "6400/6400 [==============================] - 1s 110us/sample - loss: 0.4134 - mean_squared_error: 0.4134 - val_loss: 4.6453 - val_mean_squared_error: 4.6453\n",
            "Epoch 67/100\n",
            "6400/6400 [==============================] - 1s 112us/sample - loss: 0.4510 - mean_squared_error: 0.4510 - val_loss: 4.2036 - val_mean_squared_error: 4.2036\n",
            "Epoch 68/100\n",
            "6400/6400 [==============================] - 1s 111us/sample - loss: 0.4286 - mean_squared_error: 0.4286 - val_loss: 4.3050 - val_mean_squared_error: 4.3050\n",
            "Epoch 69/100\n",
            "6400/6400 [==============================] - 1s 112us/sample - loss: 0.4672 - mean_squared_error: 0.4672 - val_loss: 4.3667 - val_mean_squared_error: 4.3667\n",
            "Epoch 70/100\n",
            "6400/6400 [==============================] - 1s 115us/sample - loss: 0.4586 - mean_squared_error: 0.4586 - val_loss: 4.7926 - val_mean_squared_error: 4.7926\n",
            "Epoch 71/100\n",
            "6400/6400 [==============================] - 1s 114us/sample - loss: 0.4337 - mean_squared_error: 0.4337 - val_loss: 4.4867 - val_mean_squared_error: 4.4867\n",
            "Epoch 72/100\n",
            "6400/6400 [==============================] - 1s 124us/sample - loss: 0.4598 - mean_squared_error: 0.4598 - val_loss: 4.3759 - val_mean_squared_error: 4.3759\n",
            "Epoch 73/100\n",
            "6400/6400 [==============================] - 1s 113us/sample - loss: 0.3825 - mean_squared_error: 0.3825 - val_loss: 4.3587 - val_mean_squared_error: 4.3587\n",
            "Epoch 74/100\n",
            "6400/6400 [==============================] - 1s 111us/sample - loss: 0.3748 - mean_squared_error: 0.3748 - val_loss: 4.5964 - val_mean_squared_error: 4.5964\n",
            "Epoch 75/100\n",
            "6400/6400 [==============================] - 1s 108us/sample - loss: 0.4109 - mean_squared_error: 0.4109 - val_loss: 4.3886 - val_mean_squared_error: 4.3886\n",
            "Epoch 76/100\n",
            "6400/6400 [==============================] - 1s 113us/sample - loss: 0.3819 - mean_squared_error: 0.3819 - val_loss: 4.6666 - val_mean_squared_error: 4.6666\n",
            "Epoch 77/100\n",
            "6400/6400 [==============================] - 1s 110us/sample - loss: 0.3860 - mean_squared_error: 0.3860 - val_loss: 4.5697 - val_mean_squared_error: 4.5697\n",
            "Epoch 78/100\n",
            "6400/6400 [==============================] - 1s 106us/sample - loss: 0.3691 - mean_squared_error: 0.3691 - val_loss: 4.8876 - val_mean_squared_error: 4.8876\n",
            "Epoch 79/100\n",
            "6400/6400 [==============================] - 1s 114us/sample - loss: 0.4000 - mean_squared_error: 0.4000 - val_loss: 4.3730 - val_mean_squared_error: 4.3730\n",
            "Epoch 80/100\n",
            "6400/6400 [==============================] - 1s 109us/sample - loss: 0.4064 - mean_squared_error: 0.4064 - val_loss: 4.3114 - val_mean_squared_error: 4.3114\n",
            "Epoch 81/100\n",
            "6400/6400 [==============================] - 1s 109us/sample - loss: 0.3635 - mean_squared_error: 0.3635 - val_loss: 4.2894 - val_mean_squared_error: 4.2894\n",
            "Epoch 82/100\n",
            "6400/6400 [==============================] - 1s 113us/sample - loss: 0.3957 - mean_squared_error: 0.3957 - val_loss: 4.2983 - val_mean_squared_error: 4.2983\n",
            "Epoch 83/100\n",
            "6400/6400 [==============================] - 1s 113us/sample - loss: 0.3541 - mean_squared_error: 0.3541 - val_loss: 4.4549 - val_mean_squared_error: 4.4549\n",
            "Epoch 84/100\n",
            "6400/6400 [==============================] - 1s 114us/sample - loss: 0.3256 - mean_squared_error: 0.3256 - val_loss: 4.4797 - val_mean_squared_error: 4.4797\n",
            "Epoch 85/100\n",
            "6400/6400 [==============================] - 1s 110us/sample - loss: 0.3284 - mean_squared_error: 0.3284 - val_loss: 4.5474 - val_mean_squared_error: 4.5474\n",
            "Epoch 86/100\n",
            "6400/6400 [==============================] - 1s 111us/sample - loss: 0.3753 - mean_squared_error: 0.3753 - val_loss: 4.3354 - val_mean_squared_error: 4.3354\n",
            "Epoch 87/100\n",
            "6400/6400 [==============================] - 1s 112us/sample - loss: 0.3811 - mean_squared_error: 0.3811 - val_loss: 4.7861 - val_mean_squared_error: 4.7861\n",
            "Epoch 88/100\n",
            "6400/6400 [==============================] - 1s 111us/sample - loss: 0.3343 - mean_squared_error: 0.3343 - val_loss: 4.5613 - val_mean_squared_error: 4.5613\n",
            "Epoch 89/100\n",
            "6400/6400 [==============================] - 1s 112us/sample - loss: 0.3634 - mean_squared_error: 0.3634 - val_loss: 4.3430 - val_mean_squared_error: 4.3430\n",
            "Epoch 90/100\n",
            "6400/6400 [==============================] - 1s 111us/sample - loss: 0.3301 - mean_squared_error: 0.3301 - val_loss: 4.4930 - val_mean_squared_error: 4.4930\n",
            "Epoch 91/100\n",
            "6400/6400 [==============================] - 1s 114us/sample - loss: 0.2992 - mean_squared_error: 0.2992 - val_loss: 4.3570 - val_mean_squared_error: 4.3570\n",
            "Epoch 92/100\n",
            "6400/6400 [==============================] - 1s 110us/sample - loss: 0.3450 - mean_squared_error: 0.3450 - val_loss: 4.4481 - val_mean_squared_error: 4.4481\n",
            "Epoch 93/100\n",
            "6400/6400 [==============================] - 1s 111us/sample - loss: 0.3206 - mean_squared_error: 0.3206 - val_loss: 4.6015 - val_mean_squared_error: 4.6015\n",
            "Epoch 94/100\n",
            "6400/6400 [==============================] - 1s 114us/sample - loss: 0.3114 - mean_squared_error: 0.3114 - val_loss: 4.3612 - val_mean_squared_error: 4.3612\n",
            "Epoch 95/100\n",
            "6400/6400 [==============================] - 1s 113us/sample - loss: 0.3200 - mean_squared_error: 0.3200 - val_loss: 4.2921 - val_mean_squared_error: 4.2921\n",
            "Epoch 96/100\n",
            "6400/6400 [==============================] - 1s 112us/sample - loss: 0.3134 - mean_squared_error: 0.3134 - val_loss: 4.3712 - val_mean_squared_error: 4.3712\n",
            "Epoch 97/100\n",
            "6400/6400 [==============================] - 1s 114us/sample - loss: 0.3765 - mean_squared_error: 0.3765 - val_loss: 4.4495 - val_mean_squared_error: 4.4495\n",
            "Epoch 98/100\n",
            "6400/6400 [==============================] - 1s 112us/sample - loss: 0.2932 - mean_squared_error: 0.2932 - val_loss: 4.4142 - val_mean_squared_error: 4.4142\n",
            "Epoch 99/100\n",
            "6400/6400 [==============================] - 1s 111us/sample - loss: 0.2837 - mean_squared_error: 0.2837 - val_loss: 4.6584 - val_mean_squared_error: 4.6584\n",
            "Epoch 100/100\n",
            "6400/6400 [==============================] - 1s 112us/sample - loss: 0.2816 - mean_squared_error: 0.2816 - val_loss: 4.6507 - val_mean_squared_error: 4.6507\n",
            "Evaluation:\n",
            "8000/8000 [==============================] - 0s 61us/sample - loss: 1.1554 - mean_squared_error: 1.1554\n",
            "training MSE: [1.1554461852908136, 1.1554463]\n",
            "2000/2000 [==============================] - 0s 67us/sample - loss: 4.3429 - mean_squared_error: 4.3429\n",
            "test MSE: [4.342855247497559, 4.3428555]\n"
          ],
          "name": "stdout"
        }
      ]
    },
    {
      "cell_type": "code",
      "metadata": {
        "id": "l5JtEezEL-aY",
        "colab": {
          "base_uri": "https://localhost:8080/"
        },
        "outputId": "99254178-9882-440f-a757-5d15a2eff3db"
      },
      "source": [
        "# Input: X with contact map (vector length=3000), y(vector length=1000)\n",
        "X_train, X_test, y_train, y_test = split_data(X_cm, y)\n",
        "print(\"X_train.shape = \", X_train.shape)\n",
        "print(\"X_test.shape = \", X_test.shape)\n",
        "\n",
        "print(\"\\ny_train.shape = \", y_train.shape)\n",
        "print(\"y_test.shape = \", y_test.shape)\n",
        "\n",
        "keras_model = create_keras_model(3000, 1)\n",
        "train_test_model(keras_model, pair_tr=X_train, affinity_tr=y_train, pair_ts=X_test, affinity_ts=y_test, epochs=100)"
      ],
      "execution_count": 67,
      "outputs": [
        {
          "output_type": "stream",
          "text": [
            "X_train.shape =  (8000, 3000)\n",
            "X_test.shape =  (2000, 3000)\n",
            "\n",
            "y_train.shape =  (8000,)\n",
            "y_test.shape =  (2000,)\n",
            "Train on 6400 samples, validate on 1600 samples\n",
            "Epoch 1/100\n",
            "6400/6400 [==============================] - 1s 216us/sample - loss: 43.4525 - mean_squared_error: 43.4525 - val_loss: 40.5551 - val_mean_squared_error: 40.5551\n",
            "Epoch 2/100\n",
            "6400/6400 [==============================] - 1s 143us/sample - loss: 39.7445 - mean_squared_error: 39.7445 - val_loss: 38.2016 - val_mean_squared_error: 38.2016\n",
            "Epoch 3/100\n",
            "6400/6400 [==============================] - 1s 144us/sample - loss: 37.4334 - mean_squared_error: 37.4334 - val_loss: 35.9548 - val_mean_squared_error: 35.9548\n",
            "Epoch 4/100\n",
            "6400/6400 [==============================] - 1s 140us/sample - loss: 35.2292 - mean_squared_error: 35.2292 - val_loss: 33.8142 - val_mean_squared_error: 33.8142\n",
            "Epoch 5/100\n",
            "6400/6400 [==============================] - 1s 143us/sample - loss: 33.1254 - mean_squared_error: 33.1254 - val_loss: 31.7730 - val_mean_squared_error: 31.7730\n",
            "Epoch 6/100\n",
            "6400/6400 [==============================] - 1s 144us/sample - loss: 31.1190 - mean_squared_error: 31.1190 - val_loss: 29.8267 - val_mean_squared_error: 29.8267\n",
            "Epoch 7/100\n",
            "6400/6400 [==============================] - 1s 140us/sample - loss: 29.2070 - mean_squared_error: 29.2070 - val_loss: 27.9712 - val_mean_squared_error: 27.9712\n",
            "Epoch 8/100\n",
            "6400/6400 [==============================] - 1s 145us/sample - loss: 27.3853 - mean_squared_error: 27.3853 - val_loss: 26.2059 - val_mean_squared_error: 26.2059\n",
            "Epoch 9/100\n",
            "6400/6400 [==============================] - 1s 156us/sample - loss: 25.6507 - mean_squared_error: 25.6507 - val_loss: 24.5235 - val_mean_squared_error: 24.5235\n",
            "Epoch 10/100\n",
            "6400/6400 [==============================] - 1s 150us/sample - loss: 23.9992 - mean_squared_error: 23.9992 - val_loss: 22.9244 - val_mean_squared_error: 22.9244\n",
            "Epoch 11/100\n",
            "6400/6400 [==============================] - 1s 142us/sample - loss: 22.4290 - mean_squared_error: 22.4290 - val_loss: 21.4071 - val_mean_squared_error: 21.4071\n",
            "Epoch 12/100\n",
            "6400/6400 [==============================] - 1s 144us/sample - loss: 20.9374 - mean_squared_error: 20.9374 - val_loss: 19.9636 - val_mean_squared_error: 19.9636\n",
            "Epoch 13/100\n",
            "6400/6400 [==============================] - 1s 141us/sample - loss: 19.5221 - mean_squared_error: 19.5221 - val_loss: 18.5967 - val_mean_squared_error: 18.5967\n",
            "Epoch 14/100\n",
            "6400/6400 [==============================] - 1s 141us/sample - loss: 18.1803 - mean_squared_error: 18.1803 - val_loss: 17.3008 - val_mean_squared_error: 17.3008\n",
            "Epoch 15/100\n",
            "6400/6400 [==============================] - 1s 141us/sample - loss: 16.9100 - mean_squared_error: 16.9100 - val_loss: 16.0779 - val_mean_squared_error: 16.0779\n",
            "Epoch 16/100\n",
            "6400/6400 [==============================] - 1s 142us/sample - loss: 15.7099 - mean_squared_error: 15.7099 - val_loss: 14.9208 - val_mean_squared_error: 14.9208\n",
            "Epoch 17/100\n",
            "6400/6400 [==============================] - 1s 142us/sample - loss: 14.5766 - mean_squared_error: 14.5766 - val_loss: 13.8329 - val_mean_squared_error: 13.8329\n",
            "Epoch 18/100\n",
            "6400/6400 [==============================] - 1s 144us/sample - loss: 13.5093 - mean_squared_error: 13.5093 - val_loss: 12.8095 - val_mean_squared_error: 12.8095\n",
            "Epoch 19/100\n",
            "6400/6400 [==============================] - 1s 145us/sample - loss: 12.5066 - mean_squared_error: 12.5066 - val_loss: 11.8470 - val_mean_squared_error: 11.8470\n",
            "Epoch 20/100\n",
            "6400/6400 [==============================] - 1s 144us/sample - loss: 11.5664 - mean_squared_error: 11.5664 - val_loss: 10.9488 - val_mean_squared_error: 10.9488\n",
            "Epoch 21/100\n",
            "6400/6400 [==============================] - 1s 145us/sample - loss: 10.6881 - mean_squared_error: 10.6881 - val_loss: 10.1073 - val_mean_squared_error: 10.1073\n",
            "Epoch 22/100\n",
            "6400/6400 [==============================] - 1s 141us/sample - loss: 9.8685 - mean_squared_error: 9.8684 - val_loss: 9.3286 - val_mean_squared_error: 9.3286\n",
            "Epoch 23/100\n",
            "6400/6400 [==============================] - 1s 142us/sample - loss: 9.1068 - mean_squared_error: 9.1068 - val_loss: 8.6051 - val_mean_squared_error: 8.6051\n",
            "Epoch 24/100\n",
            "6400/6400 [==============================] - 1s 144us/sample - loss: 8.4014 - mean_squared_error: 8.4014 - val_loss: 7.9369 - val_mean_squared_error: 7.9369\n",
            "Epoch 25/100\n",
            "6400/6400 [==============================] - 1s 144us/sample - loss: 7.7506 - mean_squared_error: 7.7506 - val_loss: 7.3234 - val_mean_squared_error: 7.3234\n",
            "Epoch 26/100\n",
            "6400/6400 [==============================] - 1s 154us/sample - loss: 7.1530 - mean_squared_error: 7.1530 - val_loss: 6.7586 - val_mean_squared_error: 6.7586\n",
            "Epoch 27/100\n",
            "6400/6400 [==============================] - 1s 144us/sample - loss: 6.6068 - mean_squared_error: 6.6068 - val_loss: 6.2469 - val_mean_squared_error: 6.2469\n",
            "Epoch 28/100\n",
            "6400/6400 [==============================] - 1s 144us/sample - loss: 6.1105 - mean_squared_error: 6.1105 - val_loss: 5.7848 - val_mean_squared_error: 5.7848\n",
            "Epoch 29/100\n",
            "6400/6400 [==============================] - 1s 142us/sample - loss: 5.6617 - mean_squared_error: 5.6617 - val_loss: 5.3689 - val_mean_squared_error: 5.3689\n",
            "Epoch 30/100\n",
            "6400/6400 [==============================] - 1s 142us/sample - loss: 5.2588 - mean_squared_error: 5.2588 - val_loss: 4.9959 - val_mean_squared_error: 4.9959\n",
            "Epoch 31/100\n",
            "6400/6400 [==============================] - 1s 143us/sample - loss: 4.9001 - mean_squared_error: 4.9001 - val_loss: 4.6655 - val_mean_squared_error: 4.6655\n",
            "Epoch 32/100\n",
            "6400/6400 [==============================] - 1s 144us/sample - loss: 4.5831 - mean_squared_error: 4.5831 - val_loss: 4.3766 - val_mean_squared_error: 4.3766\n",
            "Epoch 33/100\n",
            "6400/6400 [==============================] - 1s 144us/sample - loss: 4.3054 - mean_squared_error: 4.3054 - val_loss: 4.1255 - val_mean_squared_error: 4.1255\n",
            "Epoch 34/100\n",
            "6400/6400 [==============================] - 1s 141us/sample - loss: 4.0648 - mean_squared_error: 4.0648 - val_loss: 3.9080 - val_mean_squared_error: 3.9080\n",
            "Epoch 35/100\n",
            "6400/6400 [==============================] - 1s 141us/sample - loss: 3.8587 - mean_squared_error: 3.8587 - val_loss: 3.7267 - val_mean_squared_error: 3.7267\n",
            "Epoch 36/100\n",
            "6400/6400 [==============================] - 1s 147us/sample - loss: 3.6847 - mean_squared_error: 3.6847 - val_loss: 3.5742 - val_mean_squared_error: 3.5742\n",
            "Epoch 37/100\n",
            "6400/6400 [==============================] - 1s 146us/sample - loss: 3.5396 - mean_squared_error: 3.5396 - val_loss: 3.4494 - val_mean_squared_error: 3.4494\n",
            "Epoch 38/100\n",
            "6400/6400 [==============================] - 1s 144us/sample - loss: 3.4211 - mean_squared_error: 3.4211 - val_loss: 3.3480 - val_mean_squared_error: 3.3480\n",
            "Epoch 39/100\n",
            "6400/6400 [==============================] - 1s 146us/sample - loss: 3.3261 - mean_squared_error: 3.3261 - val_loss: 3.2686 - val_mean_squared_error: 3.2686\n",
            "Epoch 40/100\n",
            "6400/6400 [==============================] - 1s 143us/sample - loss: 3.2514 - mean_squared_error: 3.2514 - val_loss: 3.2085 - val_mean_squared_error: 3.2085\n",
            "Epoch 41/100\n",
            "6400/6400 [==============================] - 1s 142us/sample - loss: 3.1941 - mean_squared_error: 3.1941 - val_loss: 3.1633 - val_mean_squared_error: 3.1633\n",
            "Epoch 42/100\n",
            "6400/6400 [==============================] - 1s 143us/sample - loss: 3.1515 - mean_squared_error: 3.1515 - val_loss: 3.1307 - val_mean_squared_error: 3.1307\n",
            "Epoch 43/100\n",
            "6400/6400 [==============================] - 1s 142us/sample - loss: 3.1204 - mean_squared_error: 3.1204 - val_loss: 3.1082 - val_mean_squared_error: 3.1082\n",
            "Epoch 44/100\n",
            "6400/6400 [==============================] - 1s 144us/sample - loss: 3.0985 - mean_squared_error: 3.0985 - val_loss: 3.0932 - val_mean_squared_error: 3.0932\n",
            "Epoch 45/100\n",
            "6400/6400 [==============================] - 1s 157us/sample - loss: 3.0836 - mean_squared_error: 3.0836 - val_loss: 3.0839 - val_mean_squared_error: 3.0839\n",
            "Epoch 46/100\n",
            "6400/6400 [==============================] - 1s 150us/sample - loss: 3.0742 - mean_squared_error: 3.0742 - val_loss: 3.0783 - val_mean_squared_error: 3.0783\n",
            "Epoch 47/100\n",
            "6400/6400 [==============================] - 1s 144us/sample - loss: 3.0683 - mean_squared_error: 3.0683 - val_loss: 3.0756 - val_mean_squared_error: 3.0756\n",
            "Epoch 48/100\n",
            "6400/6400 [==============================] - 1s 142us/sample - loss: 3.0649 - mean_squared_error: 3.0649 - val_loss: 3.0743 - val_mean_squared_error: 3.0743\n",
            "Epoch 49/100\n",
            "6400/6400 [==============================] - 1s 144us/sample - loss: 3.0629 - mean_squared_error: 3.0629 - val_loss: 3.0739 - val_mean_squared_error: 3.0739\n",
            "Epoch 50/100\n",
            "6400/6400 [==============================] - 1s 143us/sample - loss: 3.0618 - mean_squared_error: 3.0618 - val_loss: 3.0740 - val_mean_squared_error: 3.0740\n",
            "Epoch 51/100\n",
            "6400/6400 [==============================] - 1s 143us/sample - loss: 3.0614 - mean_squared_error: 3.0614 - val_loss: 3.0743 - val_mean_squared_error: 3.0743\n",
            "Epoch 52/100\n",
            "6400/6400 [==============================] - 1s 143us/sample - loss: 3.0612 - mean_squared_error: 3.0612 - val_loss: 3.0744 - val_mean_squared_error: 3.0744\n",
            "Epoch 53/100\n",
            "6400/6400 [==============================] - 1s 146us/sample - loss: 3.0612 - mean_squared_error: 3.0612 - val_loss: 3.0747 - val_mean_squared_error: 3.0747\n",
            "Epoch 54/100\n",
            "6400/6400 [==============================] - 1s 143us/sample - loss: 3.0611 - mean_squared_error: 3.0611 - val_loss: 3.0748 - val_mean_squared_error: 3.0748\n",
            "Epoch 55/100\n",
            "6400/6400 [==============================] - 1s 143us/sample - loss: 3.0611 - mean_squared_error: 3.0611 - val_loss: 3.0747 - val_mean_squared_error: 3.0747\n",
            "Epoch 56/100\n",
            "6400/6400 [==============================] - 1s 143us/sample - loss: 3.0612 - mean_squared_error: 3.0612 - val_loss: 3.0748 - val_mean_squared_error: 3.0748\n",
            "Epoch 57/100\n",
            "6400/6400 [==============================] - 1s 144us/sample - loss: 3.0611 - mean_squared_error: 3.0611 - val_loss: 3.0749 - val_mean_squared_error: 3.0749\n",
            "Epoch 58/100\n",
            "6400/6400 [==============================] - 1s 146us/sample - loss: 3.0611 - mean_squared_error: 3.0611 - val_loss: 3.0750 - val_mean_squared_error: 3.0750\n",
            "Epoch 59/100\n",
            "6400/6400 [==============================] - 1s 145us/sample - loss: 3.0611 - mean_squared_error: 3.0611 - val_loss: 3.0751 - val_mean_squared_error: 3.0751\n",
            "Epoch 60/100\n",
            "6400/6400 [==============================] - 1s 144us/sample - loss: 3.0613 - mean_squared_error: 3.0613 - val_loss: 3.0750 - val_mean_squared_error: 3.0750\n",
            "Epoch 61/100\n",
            "6400/6400 [==============================] - 1s 142us/sample - loss: 3.0613 - mean_squared_error: 3.0613 - val_loss: 3.0751 - val_mean_squared_error: 3.0751\n",
            "Epoch 62/100\n",
            "6400/6400 [==============================] - 1s 143us/sample - loss: 3.0612 - mean_squared_error: 3.0612 - val_loss: 3.0749 - val_mean_squared_error: 3.0749\n",
            "Epoch 63/100\n",
            "6400/6400 [==============================] - 1s 145us/sample - loss: 3.0612 - mean_squared_error: 3.0612 - val_loss: 3.0751 - val_mean_squared_error: 3.0751\n",
            "Epoch 64/100\n",
            "6400/6400 [==============================] - 1s 142us/sample - loss: 3.0611 - mean_squared_error: 3.0611 - val_loss: 3.0749 - val_mean_squared_error: 3.0749\n",
            "Epoch 65/100\n",
            "6400/6400 [==============================] - 1s 145us/sample - loss: 3.0611 - mean_squared_error: 3.0611 - val_loss: 3.0749 - val_mean_squared_error: 3.0749\n",
            "Epoch 66/100\n",
            "6400/6400 [==============================] - 1s 154us/sample - loss: 3.0612 - mean_squared_error: 3.0612 - val_loss: 3.0748 - val_mean_squared_error: 3.0748\n",
            "Epoch 67/100\n",
            "6400/6400 [==============================] - 1s 144us/sample - loss: 3.0614 - mean_squared_error: 3.0614 - val_loss: 3.0747 - val_mean_squared_error: 3.0747\n",
            "Epoch 68/100\n",
            "6400/6400 [==============================] - 1s 145us/sample - loss: 3.0611 - mean_squared_error: 3.0611 - val_loss: 3.0748 - val_mean_squared_error: 3.0748\n",
            "Epoch 69/100\n",
            "6400/6400 [==============================] - 1s 144us/sample - loss: 3.0611 - mean_squared_error: 3.0611 - val_loss: 3.0748 - val_mean_squared_error: 3.0748\n",
            "Epoch 70/100\n",
            "6400/6400 [==============================] - 1s 148us/sample - loss: 3.0612 - mean_squared_error: 3.0612 - val_loss: 3.0749 - val_mean_squared_error: 3.0749\n",
            "Epoch 71/100\n",
            "6400/6400 [==============================] - 1s 140us/sample - loss: 3.0611 - mean_squared_error: 3.0611 - val_loss: 3.0750 - val_mean_squared_error: 3.0750\n",
            "Epoch 72/100\n",
            "6400/6400 [==============================] - 1s 145us/sample - loss: 3.0611 - mean_squared_error: 3.0611 - val_loss: 3.0750 - val_mean_squared_error: 3.0750\n",
            "Epoch 73/100\n",
            "6400/6400 [==============================] - 1s 146us/sample - loss: 3.0611 - mean_squared_error: 3.0611 - val_loss: 3.0750 - val_mean_squared_error: 3.0750\n",
            "Epoch 74/100\n",
            "6400/6400 [==============================] - 1s 144us/sample - loss: 3.0612 - mean_squared_error: 3.0612 - val_loss: 3.0749 - val_mean_squared_error: 3.0749\n",
            "Epoch 75/100\n",
            "6400/6400 [==============================] - 1s 144us/sample - loss: 3.0612 - mean_squared_error: 3.0612 - val_loss: 3.0749 - val_mean_squared_error: 3.0749\n",
            "Epoch 76/100\n",
            "6400/6400 [==============================] - 1s 147us/sample - loss: 3.0612 - mean_squared_error: 3.0612 - val_loss: 3.0748 - val_mean_squared_error: 3.0748\n",
            "Epoch 77/100\n",
            "6400/6400 [==============================] - 1s 144us/sample - loss: 3.0611 - mean_squared_error: 3.0611 - val_loss: 3.0749 - val_mean_squared_error: 3.0749\n",
            "Epoch 78/100\n",
            "6400/6400 [==============================] - 1s 142us/sample - loss: 3.0612 - mean_squared_error: 3.0612 - val_loss: 3.0748 - val_mean_squared_error: 3.0748\n",
            "Epoch 79/100\n",
            "6400/6400 [==============================] - 1s 145us/sample - loss: 3.0612 - mean_squared_error: 3.0612 - val_loss: 3.0751 - val_mean_squared_error: 3.0751\n",
            "Epoch 80/100\n",
            "6400/6400 [==============================] - 1s 157us/sample - loss: 3.0612 - mean_squared_error: 3.0612 - val_loss: 3.0747 - val_mean_squared_error: 3.0747\n",
            "Epoch 81/100\n",
            "6400/6400 [==============================] - 1s 150us/sample - loss: 3.0612 - mean_squared_error: 3.0612 - val_loss: 3.0749 - val_mean_squared_error: 3.0749\n",
            "Epoch 82/100\n",
            "6400/6400 [==============================] - 1s 142us/sample - loss: 3.0611 - mean_squared_error: 3.0611 - val_loss: 3.0748 - val_mean_squared_error: 3.0748\n",
            "Epoch 83/100\n",
            "6400/6400 [==============================] - 1s 146us/sample - loss: 3.0613 - mean_squared_error: 3.0613 - val_loss: 3.0749 - val_mean_squared_error: 3.0749\n",
            "Epoch 84/100\n",
            "6400/6400 [==============================] - 1s 144us/sample - loss: 3.0611 - mean_squared_error: 3.0611 - val_loss: 3.0749 - val_mean_squared_error: 3.0749\n",
            "Epoch 85/100\n",
            "6400/6400 [==============================] - 1s 147us/sample - loss: 3.0612 - mean_squared_error: 3.0612 - val_loss: 3.0749 - val_mean_squared_error: 3.0749\n",
            "Epoch 86/100\n",
            "6400/6400 [==============================] - 1s 145us/sample - loss: 3.0612 - mean_squared_error: 3.0612 - val_loss: 3.0751 - val_mean_squared_error: 3.0751\n",
            "Epoch 87/100\n",
            "6400/6400 [==============================] - 1s 145us/sample - loss: 3.0614 - mean_squared_error: 3.0614 - val_loss: 3.0749 - val_mean_squared_error: 3.0749\n",
            "Epoch 88/100\n",
            "6400/6400 [==============================] - 1s 147us/sample - loss: 3.0611 - mean_squared_error: 3.0611 - val_loss: 3.0751 - val_mean_squared_error: 3.0751\n",
            "Epoch 89/100\n",
            "6400/6400 [==============================] - 1s 147us/sample - loss: 3.0612 - mean_squared_error: 3.0612 - val_loss: 3.0750 - val_mean_squared_error: 3.0750\n",
            "Epoch 90/100\n",
            "6400/6400 [==============================] - 1s 148us/sample - loss: 3.0612 - mean_squared_error: 3.0612 - val_loss: 3.0748 - val_mean_squared_error: 3.0748\n",
            "Epoch 91/100\n",
            "6400/6400 [==============================] - 1s 145us/sample - loss: 3.0612 - mean_squared_error: 3.0612 - val_loss: 3.0752 - val_mean_squared_error: 3.0752\n",
            "Epoch 92/100\n",
            "6400/6400 [==============================] - 1s 148us/sample - loss: 3.0612 - mean_squared_error: 3.0612 - val_loss: 3.0750 - val_mean_squared_error: 3.0750\n",
            "Epoch 93/100\n",
            "6400/6400 [==============================] - 1s 141us/sample - loss: 3.0613 - mean_squared_error: 3.0613 - val_loss: 3.0750 - val_mean_squared_error: 3.0750\n",
            "Epoch 94/100\n",
            "6400/6400 [==============================] - 1s 145us/sample - loss: 3.0613 - mean_squared_error: 3.0613 - val_loss: 3.0750 - val_mean_squared_error: 3.0750\n",
            "Epoch 95/100\n",
            "6400/6400 [==============================] - 1s 146us/sample - loss: 3.0612 - mean_squared_error: 3.0612 - val_loss: 3.0750 - val_mean_squared_error: 3.0750\n",
            "Epoch 96/100\n",
            "6400/6400 [==============================] - 1s 145us/sample - loss: 3.0612 - mean_squared_error: 3.0612 - val_loss: 3.0750 - val_mean_squared_error: 3.0750\n",
            "Epoch 97/100\n",
            "6400/6400 [==============================] - 1s 145us/sample - loss: 3.0613 - mean_squared_error: 3.0613 - val_loss: 3.0750 - val_mean_squared_error: 3.0750\n",
            "Epoch 98/100\n",
            "6400/6400 [==============================] - 1s 146us/sample - loss: 3.0613 - mean_squared_error: 3.0613 - val_loss: 3.0751 - val_mean_squared_error: 3.0751\n",
            "Epoch 99/100\n",
            "6400/6400 [==============================] - 1s 145us/sample - loss: 3.0612 - mean_squared_error: 3.0612 - val_loss: 3.0748 - val_mean_squared_error: 3.0748\n",
            "Epoch 100/100\n",
            "6400/6400 [==============================] - 1s 149us/sample - loss: 3.0612 - mean_squared_error: 3.0612 - val_loss: 3.0750 - val_mean_squared_error: 3.0750\n",
            "Evaluation:\n",
            "8000/8000 [==============================] - 1s 72us/sample - loss: 3.0638 - mean_squared_error: 3.0638\n",
            "training MSE: [3.063754529953003, 3.063754]\n",
            "2000/2000 [==============================] - 0s 82us/sample - loss: 3.1628 - mean_squared_error: 3.1628\n",
            "test MSE: [3.1627564487457276, 3.1627572]\n"
          ],
          "name": "stdout"
        }
      ]
    },
    {
      "cell_type": "code",
      "metadata": {
        "id": "hezYUVuOME7c",
        "colab": {
          "base_uri": "https://localhost:8080/"
        },
        "outputId": "5d9d1cf7-319a-4729-f442-04aa5dafe277"
      },
      "source": [
        "# Input: X with center distances (vector length=3000), y(vector length=1000)\n",
        "X_train, X_test, y_train, y_test = split_data(X_cd, y)\n",
        "print(\"X_train.shape = \", X_train.shape)\n",
        "print(\"X_test.shape = \", X_test.shape)\n",
        "\n",
        "print(\"\\ny_train.shape = \", y_train.shape)\n",
        "print(\"y_test.shape = \", y_test.shape)\n",
        "\n",
        "keras_model = create_keras_model(3000, 1)\n",
        "train_test_model(keras_model, pair_tr=X_train, affinity_tr=y_train, pair_ts=X_test, affinity_ts=y_test, epochs=100)"
      ],
      "execution_count": 69,
      "outputs": [
        {
          "output_type": "stream",
          "text": [
            "X_train.shape =  (8000, 3000)\n",
            "X_test.shape =  (2000, 3000)\n",
            "\n",
            "y_train.shape =  (8000,)\n",
            "y_test.shape =  (2000,)\n",
            "Train on 6400 samples, validate on 1600 samples\n",
            "Epoch 1/100\n",
            "6400/6400 [==============================] - 1s 228us/sample - loss: 42.1270 - mean_squared_error: 42.1270 - val_loss: 40.4597 - val_mean_squared_error: 40.4597\n",
            "Epoch 2/100\n",
            "6400/6400 [==============================] - 1s 145us/sample - loss: 39.6475 - mean_squared_error: 39.6475 - val_loss: 38.1032 - val_mean_squared_error: 38.1032\n",
            "Epoch 3/100\n",
            "6400/6400 [==============================] - 1s 143us/sample - loss: 37.3369 - mean_squared_error: 37.3369 - val_loss: 35.8605 - val_mean_squared_error: 35.8605\n",
            "Epoch 4/100\n",
            "6400/6400 [==============================] - 1s 144us/sample - loss: 35.1348 - mean_squared_error: 35.1348 - val_loss: 33.7221 - val_mean_squared_error: 33.7221\n",
            "Epoch 5/100\n",
            "6400/6400 [==============================] - 1s 145us/sample - loss: 33.0348 - mean_squared_error: 33.0348 - val_loss: 31.6836 - val_mean_squared_error: 31.6836\n",
            "Epoch 6/100\n",
            "6400/6400 [==============================] - 1s 143us/sample - loss: 31.0334 - mean_squared_error: 31.0334 - val_loss: 29.7417 - val_mean_squared_error: 29.7417\n",
            "Epoch 7/100\n",
            "6400/6400 [==============================] - 1s 141us/sample - loss: 29.1252 - mean_squared_error: 29.1252 - val_loss: 27.8919 - val_mean_squared_error: 27.8919\n",
            "Epoch 8/100\n",
            "6400/6400 [==============================] - 1s 156us/sample - loss: 27.3062 - mean_squared_error: 27.3062 - val_loss: 26.1289 - val_mean_squared_error: 26.1289\n",
            "Epoch 9/100\n",
            "6400/6400 [==============================] - 1s 150us/sample - loss: 25.5744 - mean_squared_error: 25.5744 - val_loss: 24.4501 - val_mean_squared_error: 24.4501\n",
            "Epoch 10/100\n",
            "6400/6400 [==============================] - 1s 145us/sample - loss: 23.9256 - mean_squared_error: 23.9256 - val_loss: 22.8543 - val_mean_squared_error: 22.8543\n",
            "Epoch 11/100\n",
            "6400/6400 [==============================] - 1s 143us/sample - loss: 22.3581 - mean_squared_error: 22.3581 - val_loss: 21.3378 - val_mean_squared_error: 21.3378\n",
            "Epoch 12/100\n",
            "6400/6400 [==============================] - 1s 144us/sample - loss: 20.8695 - mean_squared_error: 20.8695 - val_loss: 19.8975 - val_mean_squared_error: 19.8975\n",
            "Epoch 13/100\n",
            "6400/6400 [==============================] - 1s 144us/sample - loss: 19.4568 - mean_squared_error: 19.4568 - val_loss: 18.5328 - val_mean_squared_error: 18.5328\n",
            "Epoch 14/100\n",
            "6400/6400 [==============================] - 1s 145us/sample - loss: 18.1183 - mean_squared_error: 18.1183 - val_loss: 17.2419 - val_mean_squared_error: 17.2419\n",
            "Epoch 15/100\n",
            "6400/6400 [==============================] - 1s 146us/sample - loss: 16.8513 - mean_squared_error: 16.8513 - val_loss: 16.0221 - val_mean_squared_error: 16.0221\n",
            "Epoch 16/100\n",
            "6400/6400 [==============================] - 1s 147us/sample - loss: 15.6532 - mean_squared_error: 15.6532 - val_loss: 14.8697 - val_mean_squared_error: 14.8697\n",
            "Epoch 17/100\n",
            "6400/6400 [==============================] - 1s 146us/sample - loss: 14.5231 - mean_squared_error: 14.5230 - val_loss: 13.7819 - val_mean_squared_error: 13.7819\n",
            "Epoch 18/100\n",
            "6400/6400 [==============================] - 1s 145us/sample - loss: 13.4595 - mean_squared_error: 13.4595 - val_loss: 12.7599 - val_mean_squared_error: 12.7599\n",
            "Epoch 19/100\n",
            "6400/6400 [==============================] - 1s 147us/sample - loss: 12.4602 - mean_squared_error: 12.4602 - val_loss: 11.8051 - val_mean_squared_error: 11.8051\n",
            "Epoch 20/100\n",
            "6400/6400 [==============================] - 1s 146us/sample - loss: 11.5230 - mean_squared_error: 11.5230 - val_loss: 10.9067 - val_mean_squared_error: 10.9067\n",
            "Epoch 21/100\n",
            "6400/6400 [==============================] - 1s 143us/sample - loss: 10.6465 - mean_squared_error: 10.6465 - val_loss: 10.0707 - val_mean_squared_error: 10.0707\n",
            "Epoch 22/100\n",
            "6400/6400 [==============================] - 1s 145us/sample - loss: 9.8298 - mean_squared_error: 9.8298 - val_loss: 9.2921 - val_mean_squared_error: 9.2921\n",
            "Epoch 23/100\n",
            "6400/6400 [==============================] - 1s 142us/sample - loss: 9.0706 - mean_squared_error: 9.0706 - val_loss: 8.5713 - val_mean_squared_error: 8.5713\n",
            "Epoch 24/100\n",
            "6400/6400 [==============================] - 1s 142us/sample - loss: 8.3679 - mean_squared_error: 8.3679 - val_loss: 7.9060 - val_mean_squared_error: 7.9060\n",
            "Epoch 25/100\n",
            "6400/6400 [==============================] - 1s 144us/sample - loss: 7.7203 - mean_squared_error: 7.7203 - val_loss: 7.2935 - val_mean_squared_error: 7.2935\n",
            "Epoch 26/100\n",
            "6400/6400 [==============================] - 1s 146us/sample - loss: 7.1255 - mean_squared_error: 7.1255 - val_loss: 6.7336 - val_mean_squared_error: 6.7336\n",
            "Epoch 27/100\n",
            "6400/6400 [==============================] - 1s 144us/sample - loss: 6.5815 - mean_squared_error: 6.5815 - val_loss: 6.2255 - val_mean_squared_error: 6.2255\n",
            "Epoch 28/100\n",
            "6400/6400 [==============================] - 1s 146us/sample - loss: 6.0872 - mean_squared_error: 6.0872 - val_loss: 5.7633 - val_mean_squared_error: 5.7633\n",
            "Epoch 29/100\n",
            "6400/6400 [==============================] - 1s 144us/sample - loss: 5.6405 - mean_squared_error: 5.6405 - val_loss: 5.3481 - val_mean_squared_error: 5.3481\n",
            "Epoch 30/100\n",
            "6400/6400 [==============================] - 1s 147us/sample - loss: 5.2397 - mean_squared_error: 5.2397 - val_loss: 4.9771 - val_mean_squared_error: 4.9771\n",
            "Epoch 31/100\n",
            "6400/6400 [==============================] - 1s 145us/sample - loss: 4.8827 - mean_squared_error: 4.8827 - val_loss: 4.6495 - val_mean_squared_error: 4.6495\n",
            "Epoch 32/100\n",
            "6400/6400 [==============================] - 1s 145us/sample - loss: 4.5678 - mean_squared_error: 4.5678 - val_loss: 4.3621 - val_mean_squared_error: 4.3621\n",
            "Epoch 33/100\n",
            "6400/6400 [==============================] - 1s 144us/sample - loss: 4.2927 - mean_squared_error: 4.2927 - val_loss: 4.1146 - val_mean_squared_error: 4.1146\n",
            "Epoch 34/100\n",
            "6400/6400 [==============================] - 1s 149us/sample - loss: 4.0539 - mean_squared_error: 4.0539 - val_loss: 3.8995 - val_mean_squared_error: 3.8995\n",
            "Epoch 35/100\n",
            "6400/6400 [==============================] - 1s 154us/sample - loss: 3.8493 - mean_squared_error: 3.8493 - val_loss: 3.7183 - val_mean_squared_error: 3.7183\n",
            "Epoch 36/100\n",
            "6400/6400 [==============================] - 1s 147us/sample - loss: 3.6766 - mean_squared_error: 3.6766 - val_loss: 3.5681 - val_mean_squared_error: 3.5681\n",
            "Epoch 37/100\n",
            "6400/6400 [==============================] - 1s 155us/sample - loss: 3.5329 - mean_squared_error: 3.5329 - val_loss: 3.4429 - val_mean_squared_error: 3.4429\n",
            "Epoch 38/100\n",
            "6400/6400 [==============================] - 1s 145us/sample - loss: 3.4157 - mean_squared_error: 3.4157 - val_loss: 3.3435 - val_mean_squared_error: 3.3435\n",
            "Epoch 39/100\n",
            "6400/6400 [==============================] - 1s 147us/sample - loss: 3.3217 - mean_squared_error: 3.3217 - val_loss: 3.2655 - val_mean_squared_error: 3.2655\n",
            "Epoch 40/100\n",
            "6400/6400 [==============================] - 1s 146us/sample - loss: 3.2480 - mean_squared_error: 3.2480 - val_loss: 3.2056 - val_mean_squared_error: 3.2056\n",
            "Epoch 41/100\n",
            "6400/6400 [==============================] - 1s 145us/sample - loss: 3.1913 - mean_squared_error: 3.1913 - val_loss: 3.1615 - val_mean_squared_error: 3.1615\n",
            "Epoch 42/100\n",
            "6400/6400 [==============================] - 1s 145us/sample - loss: 3.1491 - mean_squared_error: 3.1491 - val_loss: 3.1296 - val_mean_squared_error: 3.1296\n",
            "Epoch 43/100\n",
            "6400/6400 [==============================] - 1s 144us/sample - loss: 3.1186 - mean_squared_error: 3.1186 - val_loss: 3.1070 - val_mean_squared_error: 3.1070\n",
            "Epoch 44/100\n",
            "6400/6400 [==============================] - 1s 147us/sample - loss: 3.0974 - mean_squared_error: 3.0974 - val_loss: 3.0925 - val_mean_squared_error: 3.0925\n",
            "Epoch 45/100\n",
            "6400/6400 [==============================] - 1s 159us/sample - loss: 3.0832 - mean_squared_error: 3.0832 - val_loss: 3.0833 - val_mean_squared_error: 3.0833\n",
            "Epoch 46/100\n",
            "6400/6400 [==============================] - 1s 149us/sample - loss: 3.0739 - mean_squared_error: 3.0739 - val_loss: 3.0783 - val_mean_squared_error: 3.0783\n",
            "Epoch 47/100\n",
            "6400/6400 [==============================] - 1s 146us/sample - loss: 3.0682 - mean_squared_error: 3.0682 - val_loss: 3.0755 - val_mean_squared_error: 3.0755\n",
            "Epoch 48/100\n",
            "6400/6400 [==============================] - 1s 148us/sample - loss: 3.0649 - mean_squared_error: 3.0649 - val_loss: 3.0744 - val_mean_squared_error: 3.0744\n",
            "Epoch 49/100\n",
            "6400/6400 [==============================] - 1s 145us/sample - loss: 3.0630 - mean_squared_error: 3.0630 - val_loss: 3.0740 - val_mean_squared_error: 3.0740\n",
            "Epoch 50/100\n",
            "6400/6400 [==============================] - 1s 150us/sample - loss: 3.0619 - mean_squared_error: 3.0619 - val_loss: 3.0740 - val_mean_squared_error: 3.0740\n",
            "Epoch 51/100\n",
            "6400/6400 [==============================] - 1s 146us/sample - loss: 3.0615 - mean_squared_error: 3.0615 - val_loss: 3.0742 - val_mean_squared_error: 3.0742\n",
            "Epoch 52/100\n",
            "6400/6400 [==============================] - 1s 144us/sample - loss: 3.0613 - mean_squared_error: 3.0613 - val_loss: 3.0745 - val_mean_squared_error: 3.0745\n",
            "Epoch 53/100\n",
            "6400/6400 [==============================] - 1s 142us/sample - loss: 3.0612 - mean_squared_error: 3.0612 - val_loss: 3.0745 - val_mean_squared_error: 3.0745\n",
            "Epoch 54/100\n",
            "6400/6400 [==============================] - 1s 146us/sample - loss: 3.0612 - mean_squared_error: 3.0612 - val_loss: 3.0747 - val_mean_squared_error: 3.0747\n",
            "Epoch 55/100\n",
            "6400/6400 [==============================] - 1s 146us/sample - loss: 3.0611 - mean_squared_error: 3.0611 - val_loss: 3.0748 - val_mean_squared_error: 3.0748\n",
            "Epoch 56/100\n",
            "6400/6400 [==============================] - 1s 142us/sample - loss: 3.0612 - mean_squared_error: 3.0612 - val_loss: 3.0750 - val_mean_squared_error: 3.0750\n",
            "Epoch 57/100\n",
            "6400/6400 [==============================] - 1s 146us/sample - loss: 3.0612 - mean_squared_error: 3.0612 - val_loss: 3.0749 - val_mean_squared_error: 3.0749\n",
            "Epoch 58/100\n",
            "6400/6400 [==============================] - 1s 145us/sample - loss: 3.0613 - mean_squared_error: 3.0613 - val_loss: 3.0751 - val_mean_squared_error: 3.0751\n",
            "Epoch 59/100\n",
            "6400/6400 [==============================] - 1s 144us/sample - loss: 3.0611 - mean_squared_error: 3.0611 - val_loss: 3.0753 - val_mean_squared_error: 3.0753\n",
            "Epoch 60/100\n",
            "6400/6400 [==============================] - 1s 144us/sample - loss: 3.0613 - mean_squared_error: 3.0613 - val_loss: 3.0749 - val_mean_squared_error: 3.0749\n",
            "Epoch 61/100\n",
            "6400/6400 [==============================] - 1s 148us/sample - loss: 3.0612 - mean_squared_error: 3.0612 - val_loss: 3.0751 - val_mean_squared_error: 3.0751\n",
            "Epoch 62/100\n",
            "6400/6400 [==============================] - 1s 148us/sample - loss: 3.0612 - mean_squared_error: 3.0612 - val_loss: 3.0750 - val_mean_squared_error: 3.0750\n",
            "Epoch 63/100\n",
            "6400/6400 [==============================] - 1s 146us/sample - loss: 3.0612 - mean_squared_error: 3.0612 - val_loss: 3.0751 - val_mean_squared_error: 3.0751\n",
            "Epoch 64/100\n",
            "6400/6400 [==============================] - 1s 147us/sample - loss: 3.0612 - mean_squared_error: 3.0612 - val_loss: 3.0751 - val_mean_squared_error: 3.0751\n",
            "Epoch 65/100\n",
            "6400/6400 [==============================] - 1s 145us/sample - loss: 3.0612 - mean_squared_error: 3.0612 - val_loss: 3.0752 - val_mean_squared_error: 3.0752\n",
            "Epoch 66/100\n",
            "6400/6400 [==============================] - 1s 145us/sample - loss: 3.0613 - mean_squared_error: 3.0613 - val_loss: 3.0750 - val_mean_squared_error: 3.0750\n",
            "Epoch 67/100\n",
            "6400/6400 [==============================] - 1s 147us/sample - loss: 3.0612 - mean_squared_error: 3.0612 - val_loss: 3.0749 - val_mean_squared_error: 3.0749\n",
            "Epoch 68/100\n",
            "6400/6400 [==============================] - 1s 144us/sample - loss: 3.0612 - mean_squared_error: 3.0612 - val_loss: 3.0749 - val_mean_squared_error: 3.0749\n",
            "Epoch 69/100\n",
            "6400/6400 [==============================] - 1s 144us/sample - loss: 3.0612 - mean_squared_error: 3.0612 - val_loss: 3.0748 - val_mean_squared_error: 3.0748\n",
            "Epoch 70/100\n",
            "6400/6400 [==============================] - 1s 146us/sample - loss: 3.0612 - mean_squared_error: 3.0612 - val_loss: 3.0748 - val_mean_squared_error: 3.0748\n",
            "Epoch 71/100\n",
            "6400/6400 [==============================] - 1s 146us/sample - loss: 3.0614 - mean_squared_error: 3.0614 - val_loss: 3.0751 - val_mean_squared_error: 3.0751\n",
            "Epoch 72/100\n",
            "6400/6400 [==============================] - 1s 149us/sample - loss: 3.0612 - mean_squared_error: 3.0612 - val_loss: 3.0749 - val_mean_squared_error: 3.0749\n",
            "Epoch 73/100\n",
            "6400/6400 [==============================] - 1s 148us/sample - loss: 3.0612 - mean_squared_error: 3.0612 - val_loss: 3.0751 - val_mean_squared_error: 3.0751\n",
            "Epoch 74/100\n",
            "6400/6400 [==============================] - 1s 147us/sample - loss: 3.0613 - mean_squared_error: 3.0613 - val_loss: 3.0750 - val_mean_squared_error: 3.0750\n",
            "Epoch 75/100\n",
            "6400/6400 [==============================] - 1s 145us/sample - loss: 3.0612 - mean_squared_error: 3.0612 - val_loss: 3.0751 - val_mean_squared_error: 3.0751\n",
            "Epoch 76/100\n",
            "6400/6400 [==============================] - 1s 147us/sample - loss: 3.0612 - mean_squared_error: 3.0612 - val_loss: 3.0752 - val_mean_squared_error: 3.0752\n",
            "Epoch 77/100\n",
            "6400/6400 [==============================] - 1s 147us/sample - loss: 3.0613 - mean_squared_error: 3.0613 - val_loss: 3.0749 - val_mean_squared_error: 3.0749\n",
            "Epoch 78/100\n",
            "6400/6400 [==============================] - 1s 157us/sample - loss: 3.0613 - mean_squared_error: 3.0613 - val_loss: 3.0750 - val_mean_squared_error: 3.0750\n",
            "Epoch 79/100\n",
            "6400/6400 [==============================] - 1s 149us/sample - loss: 3.0612 - mean_squared_error: 3.0612 - val_loss: 3.0750 - val_mean_squared_error: 3.0750\n",
            "Epoch 80/100\n",
            "6400/6400 [==============================] - 1s 147us/sample - loss: 3.0611 - mean_squared_error: 3.0611 - val_loss: 3.0750 - val_mean_squared_error: 3.0750\n",
            "Epoch 81/100\n",
            "6400/6400 [==============================] - 1s 146us/sample - loss: 3.0612 - mean_squared_error: 3.0612 - val_loss: 3.0750 - val_mean_squared_error: 3.0750\n",
            "Epoch 82/100\n",
            "6400/6400 [==============================] - 1s 146us/sample - loss: 3.0611 - mean_squared_error: 3.0611 - val_loss: 3.0749 - val_mean_squared_error: 3.0749\n",
            "Epoch 83/100\n",
            "6400/6400 [==============================] - 1s 145us/sample - loss: 3.0612 - mean_squared_error: 3.0612 - val_loss: 3.0749 - val_mean_squared_error: 3.0749\n",
            "Epoch 84/100\n",
            "6400/6400 [==============================] - 1s 155us/sample - loss: 3.0612 - mean_squared_error: 3.0612 - val_loss: 3.0748 - val_mean_squared_error: 3.0748\n",
            "Epoch 85/100\n",
            "6400/6400 [==============================] - 1s 149us/sample - loss: 3.0612 - mean_squared_error: 3.0612 - val_loss: 3.0749 - val_mean_squared_error: 3.0749\n",
            "Epoch 86/100\n",
            "6400/6400 [==============================] - 1s 146us/sample - loss: 3.0611 - mean_squared_error: 3.0611 - val_loss: 3.0750 - val_mean_squared_error: 3.0750\n",
            "Epoch 87/100\n",
            "6400/6400 [==============================] - 1s 145us/sample - loss: 3.0612 - mean_squared_error: 3.0612 - val_loss: 3.0749 - val_mean_squared_error: 3.0749\n",
            "Epoch 88/100\n",
            "6400/6400 [==============================] - 1s 147us/sample - loss: 3.0611 - mean_squared_error: 3.0611 - val_loss: 3.0748 - val_mean_squared_error: 3.0748\n",
            "Epoch 89/100\n",
            "6400/6400 [==============================] - 1s 146us/sample - loss: 3.0612 - mean_squared_error: 3.0612 - val_loss: 3.0752 - val_mean_squared_error: 3.0752\n",
            "Epoch 90/100\n",
            "6400/6400 [==============================] - 1s 148us/sample - loss: 3.0612 - mean_squared_error: 3.0612 - val_loss: 3.0751 - val_mean_squared_error: 3.0751\n",
            "Epoch 91/100\n",
            "6400/6400 [==============================] - 1s 144us/sample - loss: 3.0612 - mean_squared_error: 3.0612 - val_loss: 3.0749 - val_mean_squared_error: 3.0749\n",
            "Epoch 92/100\n",
            "6400/6400 [==============================] - 1s 147us/sample - loss: 3.0612 - mean_squared_error: 3.0612 - val_loss: 3.0749 - val_mean_squared_error: 3.0749\n",
            "Epoch 93/100\n",
            "6400/6400 [==============================] - 1s 147us/sample - loss: 3.0612 - mean_squared_error: 3.0612 - val_loss: 3.0750 - val_mean_squared_error: 3.0750\n",
            "Epoch 94/100\n",
            "6400/6400 [==============================] - 1s 145us/sample - loss: 3.0612 - mean_squared_error: 3.0612 - val_loss: 3.0749 - val_mean_squared_error: 3.0749\n",
            "Epoch 95/100\n",
            "6400/6400 [==============================] - 1s 149us/sample - loss: 3.0613 - mean_squared_error: 3.0613 - val_loss: 3.0749 - val_mean_squared_error: 3.0749\n",
            "Epoch 96/100\n",
            "6400/6400 [==============================] - 1s 147us/sample - loss: 3.0611 - mean_squared_error: 3.0611 - val_loss: 3.0750 - val_mean_squared_error: 3.0750\n",
            "Epoch 97/100\n",
            "6400/6400 [==============================] - 1s 148us/sample - loss: 3.0612 - mean_squared_error: 3.0612 - val_loss: 3.0751 - val_mean_squared_error: 3.0751\n",
            "Epoch 98/100\n",
            "6400/6400 [==============================] - 1s 148us/sample - loss: 3.0612 - mean_squared_error: 3.0612 - val_loss: 3.0751 - val_mean_squared_error: 3.0751\n",
            "Epoch 99/100\n",
            "6400/6400 [==============================] - 1s 148us/sample - loss: 3.0612 - mean_squared_error: 3.0612 - val_loss: 3.0750 - val_mean_squared_error: 3.0750\n",
            "Epoch 100/100\n",
            "6400/6400 [==============================] - 1s 152us/sample - loss: 3.0613 - mean_squared_error: 3.0613 - val_loss: 3.0749 - val_mean_squared_error: 3.0749\n",
            "Evaluation:\n",
            "8000/8000 [==============================] - 1s 76us/sample - loss: 3.0637 - mean_squared_error: 3.0637\n",
            "training MSE: [3.0637341642379763, 3.0637343]\n",
            "2000/2000 [==============================] - 0s 72us/sample - loss: 3.1626 - mean_squared_error: 3.1626\n",
            "test MSE: [3.162587007522583, 3.1625867]\n"
          ],
          "name": "stdout"
        }
      ]
    },
    {
      "cell_type": "markdown",
      "metadata": {
        "id": "MGmlZlAn1KpB"
      },
      "source": [
        "Notes: it seems adding 3D info to the representation of protein does make it better!\n",
        "\n",
        "* X\n",
        "\n",
        " **Training: MSE=0.?? (epoch=??); Test: MSE=0.??**\n",
        "\n",
        "* X contact map\n",
        "\n",
        " **Training: MSE=0.?? (epoch=??); Test: MSE=0.??**\n",
        "\n",
        "* X center distances\n",
        "\n",
        " **Training: MSE=0.?? (epoch=??); Test: MSE=0.??**\n"
      ]
    },
    {
      "cell_type": "markdown",
      "metadata": {
        "id": "my0BqyOkSFYa"
      },
      "source": [
        "## 4. Use  your model on COVID-19 protease"
      ]
    },
    {
      "cell_type": "markdown",
      "metadata": {
        "id": "rkmmMhjOSFYc"
      },
      "source": [
        "Now, use your trained model to identify drugs that could be used as COVID-19 protease inhibitors from these 2111 drugs in the dataset. The sequence of the protease is provided in `6Y84_A.fasta.txt`. You might want to first predict a binding affinity of Ritonavior, a well known HIV drug that binds to HIV protease, to get the sense of a good binding score for this task. SMILES of Ritonavior is provided below.  "
      ]
    },
    {
      "cell_type": "code",
      "metadata": {
        "id": "SN0eBnfUZloQ"
      },
      "source": [
        "# def protein2vec(protein_seq):\n",
        "#   return seq_to_cat(protein_seq)\n",
        "\n",
        "# def drug2vec(drug_smiles, nBits=NBITS):\n",
        "#   molecule = MolFromSmiles(drug_smiles)\n",
        "#   ECFP2 = Chem.GetMorganFingerprintAsBitVect(molecule, 2, nBits).ToBitString()#XM: default nBits=2048\n",
        "#   drug_ECFP = np.array(list(map(int, ECFP2)))\n",
        "#   return drug_ECFP\n",
        "\n",
        "\n",
        "# # train_dataset = dc.data.NumpyDataset(X=pair_tr, y=affinity_tr.reshape(len(affinity_tr), 1))\n",
        "# # dc_model = dc.models.KerasModel(keras_model, dc.models.losses.L2Loss()) # we pass the model and a dc loss funciton\n",
        "# # dc_model.fit(train_dataset, nb_epoch=20)\n",
        "# # print(\"dc_model is ready!\")\n",
        "\n",
        "# # def protein_drug_predict_dc(protein_vec, drug_vec):#XM: this doesn't work well on HIV\n",
        "# #   protein_drug_pair = np.concatenate((protein_vec, drug_vec))\n",
        "# #   protein_drug_pair = protein_drug_pair.reshape((1, len(protein_drug_pair)))\n",
        "\n",
        "# #   test_dataset = dc.data.NumpyDataset(X=protein_drug_pair)\n",
        "# #   return dc_model.predict(test_dataset)[0][0]\n",
        "\n",
        "# keras_model.compile(optimizer='adam',  \n",
        "#               loss= 'mean_squared_error', \n",
        "#               metrics=['mse']) \n",
        "# keras_model.fit(pair_tr, affinity_tr, epochs=20)\n",
        "# print(\"keras_model is ready!\")\n",
        "\n",
        "# keras_model2.compile(optimizer='adam',  \n",
        "#               loss= 'mean_squared_error', \n",
        "#               metrics=['mse']) \n",
        "# keras_model2.fit(pair_tr, affinity_tr, epochs=20)\n",
        "# print(\"keras_model2 is ready!\")\n",
        "\n",
        "# def protein_drug_predict(protein_vec, drug_vec, model):\n",
        "#   protein_drug_pair = np.concatenate((protein_vec, drug_vec))\n",
        "#   protein_drug_pair = protein_drug_pair.reshape((1, len(protein_drug_pair)))\n",
        "  \n",
        "#   return model.predict([protein_drug_pair])[0][0]\n"
      ],
      "execution_count": null,
      "outputs": []
    },
    {
      "cell_type": "code",
      "metadata": {
        "id": "Oj11JSsM2GfE"
      },
      "source": [
        "# # HIV: https://www.uniprot.org/uniprot/O90777; https://www.uniprot.org/uniprot/O90777/protvista\n",
        "# HIV_prot = 'PQVTLWQRPIVTIKIGGQLKEALLDTGADDTVLEEMSLPGKWKPKMIGGIGGFIKVRQYDQVSIEICGHKAIGTVLIGPTPVNIIGRNLLTQLGCTLNF'\n",
        "# HIV_vec = seq_to_cat(HIV_prot)\n",
        "# print(HIV_vec.shape)\n",
        "\n",
        "# ritonavior = 'CC(C)C1=NC(=CS1)CN(C)C(=O)NC(C(C)C)C(=O)NC(CC2=CC=CC=C2)CC(C(CC3=CC=CC=C3)NC(=O)OCC4=CN=CS4)O'\n",
        "# ritonavior_ECFP = drug2vec(ritonavior)\n",
        "# print(ritonavior_ECFP.shape)"
      ],
      "execution_count": null,
      "outputs": []
    },
    {
      "cell_type": "code",
      "metadata": {
        "id": "eZ_q2-bRWVsM"
      },
      "source": [
        "# print(\"HIV-Ritonavior binding score:\")\n",
        "# HIV_Ritonavior_score = protein_drug_predict(HIV_vec, ritonavior_ECFP, keras_model2)\n",
        "# HIV_Ritonavior_score"
      ],
      "execution_count": null,
      "outputs": []
    },
    {
      "cell_type": "code",
      "metadata": {
        "id": "tFg4eHP1YLer"
      },
      "source": [
        "# print(\"HIV-AnotherDrug binding scores:\")\n",
        "\n",
        "# HIV_affinities = []\n",
        "# for i,drug in enumerate(drugs):\n",
        "#   drug_ECFP = drug2vec(drug)\n",
        "#   aff = protein_drug_predict(HIV_vec, drug_ECFP, keras_model2)\n",
        "#   HIV_affinities.append(aff)\n",
        "\n",
        "# HIV_affinities = np.array(HIV_affinities)\n",
        "# print(HIV_affinities[:20])\n",
        "# print(sorted(np.array(list(set(HIV_affinities)))))\n",
        "\n",
        "# print(\"\\n\\nHow many drugs have better bindings with HIV, compared to Ritonavior?\")\n",
        "# print(len(HIV_affinities[HIV_affinities > HIV_Ritonavior_score]) / len(HIV_affinities))\n",
        "# print(\"How many drugs have equal bindings with HIV, compared to Ritonavior?\")\n",
        "# print(len(HIV_affinities[HIV_affinities == HIV_Ritonavior_score]) / len(HIV_affinities))"
      ],
      "execution_count": null,
      "outputs": []
    },
    {
      "cell_type": "markdown",
      "metadata": {
        "id": "W7Aon_2Pcvrw"
      },
      "source": [
        "* When using 1000-vector for drugs:\n",
        "\n",
        "   It seems almost 70% out of the 2111 drugs bind better with HIV, compared to Ritonavior. Thus our model might not be good enough?\n",
        "\n",
        "* When using 1000-vector for drugs:\n",
        "\n",
        "  Indeed Ritonavior has the highest binding score, but 94% of the 2111 drugs have the same binding score...\n"
      ]
    },
    {
      "cell_type": "code",
      "metadata": {
        "id": "cWqUOWkTP9oR"
      },
      "source": [
        "# COVID_list = []\n",
        "# with open('data_Drug_target_binding_affinity/data/6Y84_A.fasta.txt', 'r') as f:\n",
        "#     for line in f:\n",
        "#         COVID_list.append(line[:-1])\n",
        "\n",
        "# COVID_seq = ''\n",
        "# for s in COVID_list[1:]:\n",
        "#   COVID_seq += s\n",
        "# print(\"COVID-19 amino acids sequence: \", COVID_seq)\n",
        "# COVID_vec = seq_to_cat(COVID_seq)"
      ],
      "execution_count": null,
      "outputs": []
    },
    {
      "cell_type": "code",
      "metadata": {
        "id": "WNZ6n7PvenTA"
      },
      "source": [
        "# print(\"COVID-Drug binding scores:\")\n",
        "# COVID_affinities = []\n",
        "# for i,drug in enumerate(drugs):\n",
        "#   drug_ECFP = drug2vec(drug)\n",
        "#   aff = protein_drug_predict(COVID_vec, drug_ECFP, keras_model2)\n",
        "#   COVID_affinities.append(aff)\n",
        "\n",
        "# COVID_affinities = np.array(COVID_affinities)\n",
        "# print(COVID_affinities[:20])"
      ],
      "execution_count": null,
      "outputs": []
    },
    {
      "cell_type": "code",
      "metadata": {
        "id": "xlOUQc2Xepx4"
      },
      "source": [
        "# print(\"Below are the Top 5 drug candidates for COVID-19:\")\n",
        "# print(\"Affinitiy score       Drug smiles: \")\n",
        "# for idx in np.argsort(COVID_affinities)[-5:]:\n",
        "#   drug_smiles = drugs[idx]\n",
        "#   aff_score = COVID_affinities[idx]\n",
        "#   print(aff_score, \"         \",  drug_smiles)"
      ],
      "execution_count": null,
      "outputs": []
    },
    {
      "cell_type": "code",
      "metadata": {
        "id": "DfW-Ug8sSIbe"
      },
      "source": [
        ""
      ],
      "execution_count": null,
      "outputs": []
    }
  ]
}
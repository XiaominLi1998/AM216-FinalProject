{
 "cells": [
  {
   "cell_type": "markdown",
   "metadata": {},
   "source": [
    "### Load data from \"Ligand-Components-smiles-stereo-oe.txt\" (forced to convert from \"Ligand-Components-smiles-stereo-oe.smi\"). Obtain the ditionary with keys: PDB Ligand Name and values: SMILES. Then store the dictionary into a json file"
   ]
  },
  {
   "cell_type": "code",
   "execution_count": 27,
   "metadata": {},
   "outputs": [],
   "source": [
    "def contains_digit(s):\n",
    "    contains = any(map(str.isdigit, s))\n",
    "    return contains"
   ]
  },
  {
   "cell_type": "code",
   "execution_count": 6,
   "metadata": {},
   "outputs": [
    {
     "name": "stdout",
     "output_type": "stream",
     "text": [
      "Done! count = 34672\n"
     ]
    }
   ],
   "source": [
    "import pandas as pd\n",
    "import numpy as np\n",
    "file_path = \"../Data/Unused/Ligand-Components-smiles-stereo-oe.txt\"\n",
    "\n",
    "f=open(file_path,'r')\n",
    "lines=f.readlines()\n",
    "\n",
    "ligand_dict = {}\n",
    "count = 0\n",
    "for i,line in enumerate(lines[20:]):\n",
    "    ls = line.split()\n",
    "#     print(i, end=\",\")\n",
    "#     print(i, ls)\n",
    "    try:\n",
    "        smiles = ls[0]\n",
    "        ligand_name = ls[1]\n",
    "        if len(ligand_name) <= 10:\n",
    "            ligand_dict['('+ligand_name+')'] = smiles\n",
    "            count += 1\n",
    "    except IndexError:\n",
    "        continue\n",
    "    \n",
    "print(\"Done! count =\", count)"
   ]
  },
  {
   "cell_type": "code",
   "execution_count": 3,
   "metadata": {},
   "outputs": [],
   "source": [
    "# ligand_dict.keys()"
   ]
  },
  {
   "cell_type": "code",
   "execution_count": 5,
   "metadata": {},
   "outputs": [],
   "source": [
    "import json\n",
    "\n",
    "with open('../Data/Ligand_Dict.json', 'w') as f:\n",
    "    json.dump(ligand_dict, f)\n",
    "\n",
    "\n",
    "\n",
    "# with open('Ligand_Dict.json') as f:\n",
    "#     my_dict = json.load(f)"
   ]
  },
  {
   "cell_type": "code",
   "execution_count": null,
   "metadata": {},
   "outputs": [],
   "source": []
  }
 ],
 "metadata": {
  "kernelspec": {
   "display_name": "Python 3",
   "language": "python",
   "name": "python3"
  },
  "language_info": {
   "codemirror_mode": {
    "name": "ipython",
    "version": 3
   },
   "file_extension": ".py",
   "mimetype": "text/x-python",
   "name": "python",
   "nbconvert_exporter": "python",
   "pygments_lexer": "ipython3",
   "version": "3.8.3"
  }
 },
 "nbformat": 4,
 "nbformat_minor": 4
}

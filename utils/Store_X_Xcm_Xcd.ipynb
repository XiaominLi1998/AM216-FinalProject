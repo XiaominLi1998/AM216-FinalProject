{
 "cells": [
  {
   "cell_type": "code",
   "execution_count": null,
   "metadata": {},
   "outputs": [],
   "source": [
    "Put after your code in colab and run!"
   ]
  },
  {
   "cell_type": "code",
   "execution_count": 7,
   "metadata": {
    "scrolled": true
   },
   "outputs": [
    {
     "ename": "NameError",
     "evalue": "name 'get_protein_amino_acids' is not defined",
     "output_type": "error",
     "traceback": [
      "\u001b[0;31m---------------------------------------------------------------------------\u001b[0m",
      "\u001b[0;31mNameError\u001b[0m                                 Traceback (most recent call last)",
      "\u001b[0;32m<ipython-input-7-69c06e43ad81>\u001b[0m in \u001b[0;36m<module>\u001b[0;34m\u001b[0m\n\u001b[1;32m      1\u001b[0m \u001b[0mt_start\u001b[0m \u001b[0;34m=\u001b[0m \u001b[0mtime\u001b[0m\u001b[0;34m.\u001b[0m\u001b[0mtime\u001b[0m\u001b[0;34m(\u001b[0m\u001b[0;34m)\u001b[0m\u001b[0;34m\u001b[0m\u001b[0;34m\u001b[0m\u001b[0m\n\u001b[0;32m----> 2\u001b[0;31m \u001b[0mX\u001b[0m \u001b[0;34m=\u001b[0m \u001b[0mcreate_pairs\u001b[0m\u001b[0;34m(\u001b[0m\u001b[0mpdb_proteinName\u001b[0m\u001b[0;34m,\u001b[0m \u001b[0mpdb_ligandName\u001b[0m\u001b[0;34m,\u001b[0m \u001b[0mget_protein_amino_acids\u001b[0m\u001b[0;34m,\u001b[0m \u001b[0mget_ligand_ECFP\u001b[0m\u001b[0;34m,\u001b[0m  \u001b[0mprotein_func_3D\u001b[0m\u001b[0;34m=\u001b[0m\u001b[0;32mNone\u001b[0m\u001b[0;34m)\u001b[0m\u001b[0;34m\u001b[0m\u001b[0;34m\u001b[0m\u001b[0m\n\u001b[0m\u001b[1;32m      3\u001b[0m \u001b[0mt_end\u001b[0m \u001b[0;34m=\u001b[0m \u001b[0mtime\u001b[0m\u001b[0;34m.\u001b[0m\u001b[0mtime\u001b[0m\u001b[0;34m(\u001b[0m\u001b[0;34m)\u001b[0m\u001b[0;34m;\u001b[0m \u001b[0mprint\u001b[0m\u001b[0;34m(\u001b[0m\u001b[0;34m\"----X Elasped: %f seconds\"\u001b[0m \u001b[0;34m%\u001b[0m \u001b[0;34m(\u001b[0m\u001b[0mt_end\u001b[0m \u001b[0;34m-\u001b[0m \u001b[0mt_start\u001b[0m\u001b[0;34m)\u001b[0m\u001b[0;34m)\u001b[0m\u001b[0;34m;\u001b[0m\u001b[0;34m\u001b[0m\u001b[0;34m\u001b[0m\u001b[0m\n\u001b[1;32m      4\u001b[0m \u001b[0;34m\u001b[0m\u001b[0m\n\u001b[1;32m      5\u001b[0m \u001b[0;34m\u001b[0m\u001b[0m\n",
      "\u001b[0;31mNameError\u001b[0m: name 'get_protein_amino_acids' is not defined"
     ]
    }
   ],
   "source": [
    "from google.colab import files\n",
    "\n",
    "gap = 200\n",
    "\n",
    "def save_X(i):\n",
    "    start_idx = i * gap\n",
    "    end_idx = start_idx + gap\n",
    "    part = create_pairs(pdb_proteinName[start_idx : end_idx], pdb_ligandName[start_idx : end_idx], get_protein_amino_acids, get_ligand_ECFP,  protein_func_3D=None)\n",
    "    file_name = \"X\" + str(start_idx) + \".csv\"\n",
    "#     np.savetxt(file_name, part, delimiter=\",\")\n",
    "    print(\"--Saving \" + file_name + \"...\")\n",
    "    DF = pd.DataFrame(part)\n",
    "    DF.to_csv(file_name)\n",
    "\n",
    "def save_X_cm(i):\n",
    "    start_idx = i * gap\n",
    "    end_idx = start_idx + gap\n",
    "    part = create_pairs(pdb_proteinName[start_idx : end_idx], pdb_ligandName[start_idx : end_idx], get_protein_amino_acids, get_ligand_ECFP,  protein_func_3D=get_protein_cut_contact_map)\n",
    "    file_name = \"X_cm\" + str(start_idx) + \".csv\"\n",
    "    #   np.savetxt(file_name, part, delimiter=\",\")\n",
    "    print(\"--Saving \" + file_name + \"...\")\n",
    "    DF = pd.DataFrame(part)\n",
    "    DF.to_csv(file_name)\n",
    "\n",
    "\n",
    "def save_X_cd(i):\n",
    "  start_idx = i * gap\n",
    "  end_idx = start_idx + gap\n",
    "  part = create_pairs(pdb_proteinName[start_idx : end_idx], pdb_ligandName[start_idx : end_idx], get_protein_amino_acids, get_ligand_ECFP,  protein_func_3D=get_protein_cut_center_distances)\n",
    "  file_name = \"X_cd\" + str(start_idx) + \".csv\"\n",
    "#   np.savetxt(file_name, part, delimiter=\",\")\n",
    "  print(\"--Saving \" + file_name + \"...\")\n",
    "  DF = pd.DataFrame(part)\n",
    "  DF.to_csv(file_name)\n",
    "\n",
    "    \n",
    "    \n",
    "    \n",
    "# ==============================================================    \n",
    "largest_idx = int(len(pdb_proteinName)/gap) + 1\n",
    "print(\"largest_idx = \", largest_idx)\n",
    "sleep_time = 5\n",
    "\n",
    "\n",
    "def download(i):\n",
    "    for j in range(i-5, i):\n",
    "        file_name1 = \"X\" + str(j*gap) + \".csv\"\n",
    "        print(\"--Downloading \" + file_name1 + \"...\")\n",
    "        files.download(file_name1)\n",
    "        # time.sleep(3)\n",
    "        \n",
    "        file_name2 = \"X_cm\" + str(j*gap) + \".csv\"\n",
    "        print(\"--Downloading \" + file_name2 + \"...\")\n",
    "        files.download(file_name2)\n",
    "        # time.sleep(3)\n",
    "        \n",
    "        file_name3 = \"X_cd\" + str(j*gap) + \".csv\"\n",
    "        print(\"--Downloading \" + file_name3 + \"...\")\n",
    "        files.download(file_name3)\n",
    "        # time.sleep(3)\n",
    "\n",
    "from google.colab import output\n",
    "def playAudio():\n",
    "  output.eval_js('new Audio(\"https://upload.wikimedia.org/wikipedia/commons/0/05/Beep-09.ogg\").play()')\n",
    "def download_set(i):\n",
    "  for j in range(i-5,i):\n",
    "    try:\n",
    "      save_X(j)\n",
    "      save_X_cm(j)\n",
    "      save_X_cd(j)\n",
    "    except:\n",
    "      print(\"ERROR!!! j=\", j)\n",
    "      continue\n",
    "  print(\"\\nTotal %d sets. Now download %d-th set ~ %d-th set\" % (largest_idx, i-5, i) )\n",
    "  # time.sleep(sleep_time)          \n",
    "  download(i)"
   ]
  },
  {
   "cell_type": "code",
   "execution_count": null,
   "metadata": {},
   "outputs": [],
   "source": [
    "idx = 13 #idx = 1,2,3,4,...,16  since 76/5=16\n",
    "download_set(idx*5)\n",
    "# playAudio()"
   ]
  },
  {
   "cell_type": "code",
   "execution_count": null,
   "metadata": {},
   "outputs": [],
   "source": []
  }
 ],
 "metadata": {
  "kernelspec": {
   "display_name": "Python 3",
   "language": "python",
   "name": "python3"
  },
  "language_info": {
   "codemirror_mode": {
    "name": "ipython",
    "version": 3
   },
   "file_extension": ".py",
   "mimetype": "text/x-python",
   "name": "python",
   "nbconvert_exporter": "python",
   "pygments_lexer": "ipython3",
   "version": "3.8.3"
  }
 },
 "nbformat": 4,
 "nbformat_minor": 4
}

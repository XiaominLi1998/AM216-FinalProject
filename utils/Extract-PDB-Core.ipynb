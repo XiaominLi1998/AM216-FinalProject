{
 "cells": [
  {
   "cell_type": "code",
   "execution_count": 15,
   "metadata": {},
   "outputs": [],
   "source": [
    "import pandas as pd\n",
    "import numpy as np\n",
    "\n",
    "pdb_data_small = pd.read_csv('pdbbind_core_df.csv')\n",
    "pdb_proteinName_small = np.array(pdb_data_small['pdb_id'])\n",
    "pdb_affinity_small = np.array(pdb_data_small['label'])\n",
    "pdb_ligandName_small = np.array(pdb_data_small['smiles'])\n",
    "\n",
    "f = open(\"pdbbind_core_df_cleaned.csv\", \"w\")\n",
    "f.write(\"proteinName,smiles,affinity,ligandName\\n\")\n",
    "for i in range(len(pdb_data_small)):\n",
    "    f.write(\"%s,%.2f,%s\\n\" % (pdb_proteinName_small[i], pdb_affinity_small[i], pdb_ligandName_small[i]))\n",
    "f.close()"
   ]
  },
  {
   "cell_type": "code",
   "execution_count": null,
   "metadata": {},
   "outputs": [],
   "source": []
  }
 ],
 "metadata": {
  "kernelspec": {
   "display_name": "Python 3",
   "language": "python",
   "name": "python3"
  },
  "language_info": {
   "codemirror_mode": {
    "name": "ipython",
    "version": 3
   },
   "file_extension": ".py",
   "mimetype": "text/x-python",
   "name": "python",
   "nbconvert_exporter": "python",
   "pygments_lexer": "ipython3",
   "version": "3.8.3"
  }
 },
 "nbformat": 4,
 "nbformat_minor": 4
}
